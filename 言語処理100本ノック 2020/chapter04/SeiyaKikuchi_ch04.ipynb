{
 "cells": [
  {
   "cell_type": "markdown",
   "metadata": {},
   "source": [
    "# 第4章: 形態素解析\n",
    "夏目漱石の小説『吾輩は猫である』の文章（neko.txt）をMeCabを使って形態素解析し，その結果をneko.txt.mecabというファイルに保存せよ．このファイルを用いて，以下の問に対応するプログラムを実装せよ．\n",
    "\n",
    "なお，問題37, 38, 39はmatplotlibもしくはGnuplotを用いるとよい．"
   ]
  },
  {
   "cell_type": "markdown",
   "metadata": {},
   "source": [
    "# 30.形態素解析結果の読み込み\n",
    "形態素解析結果（neko.txt.mecab）を読み込むプログラムを実装せよ．ただし，各形態素は表層形（surface），基本形（base），品詞（pos），品詞細分類1（pos1）をキーとするマッピング型に格納し，1文を形態素（マッピング型）のリストとして表現せよ．第4章の残りの問題では，ここで作ったプログラムを活用せよ．"
   ]
  },
  {
   "cell_type": "code",
   "execution_count": 5,
   "metadata": {},
   "outputs": [
    {
     "name": "stdout",
     "output_type": "stream",
     "text": [
      "一\t名詞,数,*,*,*,*,一,イチ,イチ\n",
      "\t記号,一般,*,*,*,*,*\n",
      "EOS\n",
      "\t記号,一般,*,*,*,*,*\n",
      "EOS\n",
      "　\t記号,空白,*,*,*,*,　,　,　\n",
      "吾輩\t名詞,代名詞,一般,*,*,*,吾輩,ワガハイ,ワガハイ\n",
      "は\t助詞,係助詞,*,*,*,*,は,ハ,ワ\n",
      "猫\t名詞,一般,*,*,*,*,猫,ネコ,ネコ\n",
      "で\t助動詞,*,*,*,特殊・ダ,連用形,だ,デ,デ\n",
      "ある\t助動詞,*,*,*,五段・ラ行アル,基本形,ある,アル,アル\n",
      "。\t記号,句点,*,*,*,*,。,。,。\n",
      "\t記号,一般,*,*,*,*,*\n",
      "EOS\n",
      "名前\t名詞,一般,*,*,*,*,名前,ナマエ,ナマエ\n",
      "は\t助詞,係助詞,*,*,*,*,は,ハ,ワ\n",
      "まだ\t副詞,助詞類接続,*,*,*,*,まだ,マダ,マダ\n",
      "無い\t形容詞,自立,*,*,形容詞・アウオ段,基本形,無い,ナイ,ナイ\n",
      "。\t記号,句点,*,*,*,*,。,。,。\n",
      "\t記号,一般,*,*,*,*,*\n",
      "EOS\n",
      "\t記号,一般,*,*,*,*,*\n",
      "EOS\n",
      "　\t記号,空白,*,*,*,*,　,　,　\n",
      "どこ\t名詞,代名詞,一般,*,*,*,どこ,ドコ,ドコ\n",
      "で\t助詞,格助詞,一般,*,*,*,で,デ,デ\n",
      "生れ\t動詞,自立,*,*,�"
     ]
    }
   ],
   "source": [
    "# 出力フォーマット:表層形\\t品詞,品詞細分類1,品詞細分類2,品詞細分類3,活用型,活用形,原形,読み,発音\n",
    "!head -c 1000 neko.txt.mecab"
   ]
  },
  {
   "cell_type": "code",
   "execution_count": 2,
   "metadata": {},
   "outputs": [
    {
     "name": "stdout",
     "output_type": "stream",
     "text": [
      "[[{'base': '一', 'pos': '名詞', 'pos1': '数', 'surface': '一'},\n",
      "  {'base': '*', 'pos': '記号', 'pos1': '一般', 'surface': '\\n'}],\n",
      " [{'base': '*', 'pos': '記号', 'pos1': '一般', 'surface': '\\n'}],\n",
      " [{'base': '\\u3000', 'pos': '記号', 'pos1': '空白', 'surface': ' '},\n",
      "  {'base': '吾輩', 'pos': '名詞', 'pos1': '代名詞', 'surface': '吾輩'},\n",
      "  {'base': 'は', 'pos': '助詞', 'pos1': '係助詞', 'surface': 'は'},\n",
      "  {'base': '猫', 'pos': '名詞', 'pos1': '一般', 'surface': '猫'},\n",
      "  {'base': 'だ', 'pos': '助動詞', 'pos1': '*', 'surface': 'で'},\n",
      "  {'base': 'ある', 'pos': '助動詞', 'pos1': '*', 'surface': 'ある'},\n",
      "  {'base': '。', 'pos': '記号', 'pos1': '句点', 'surface': '。'},\n",
      "  {'base': '*', 'pos': '記号', 'pos1': '一般', 'surface': '\\n'}],\n",
      " [{'base': '名前', 'pos': '名詞', 'pos1': '一般', 'surface': '名前'},\n",
      "  {'base': 'は', 'pos': '助詞', 'pos1': '係助詞', 'surface': 'は'},\n",
      "  {'base': 'まだ', 'pos': '副詞', 'pos1': '助詞類接続', 'surface': 'まだ'},\n",
      "  {'base': '無い', 'pos': '形容詞', 'pos1': '自立', 'surface': '無い'},\n",
      "  {'base': '。', 'pos': '記号', 'pos1': '句点', 'surface': '。'},\n",
      "  {'base': '*', 'pos': '記号', 'pos1': '一般', 'surface': '\\n'}],\n",
      " [{'base': '*', 'pos': '記号', 'pos1': '一般', 'surface': '\\n'}]]\n"
     ]
    }
   ],
   "source": [
    "keys = [\"surface\", \"pos\", \"pos1\", \"base\"]\n",
    "idx = [0, 1, 2, 7]\n",
    "path = \"/Users/seiya.k/workspace/100knock-2020/SeiyaKikuchi/chapter04/neko.txt.mecab\"\n",
    "morpheme_lists = []\n",
    "\n",
    "with open(path) as f:\n",
    "    for l in f:\n",
    "        \n",
    "        l = l.strip().split(\"\\t\")\n",
    "        \n",
    "        #stripで消えた改行\n",
    "        if l[0] == \"記号,一般,*,*,*,*,*\":\n",
    "            info = l[0].split(\",\")\n",
    "            info[0:0] = [\"\\n\"]\n",
    "            morpheme_lists.append(info)\n",
    "            \n",
    "        #stripで消えた空白\n",
    "        elif l[0] == \"記号,空白,*,*,*,*,\\u3000,\\u3000,\":\n",
    "            info = l[0].split(\",\")\n",
    "            info[0:0] = [\" \"]\n",
    "            morpheme_lists.append(info)\n",
    "            \n",
    "        #EOSは処理しない\n",
    "        elif l[0] == \"EOS\":\n",
    "            morpheme_lists.append([\"EOS\"])\n",
    "        \n",
    "        #消えた改行、空白の残骸\n",
    "        elif l[0] == \"\":\n",
    "            pass\n",
    "        \n",
    "        #一般的な形態素\n",
    "        else:\n",
    "            info = l[1].split(\",\")\n",
    "            info[0:0] = [l[0]]\n",
    "            morpheme_lists.append(info)\n",
    "\n",
    "\n",
    "sentences = []\n",
    "morphs = []\n",
    "for m in morpheme_lists:\n",
    "    if m[0] == \"EOS\":\n",
    "        sentences.append(morphs)\n",
    "        morphs = []\n",
    "    else:\n",
    "        dic = {}\n",
    "        for k, i in zip(keys, idx):\n",
    "            dic[k] = m[i]\n",
    "        morphs.append(dic)  \n",
    "\n",
    "from pprint import pprint\n",
    "pprint(sentences[:5])"
   ]
  },
  {
   "cell_type": "markdown",
   "metadata": {},
   "source": [
    "### osモジュール\n",
    "絶対パスをターミナルから取得しているが、os.getcwd()などで、pythonコード内で取得することができる。処理がコード内で閉じていると、あとで見やすくなる。"
   ]
  },
  {
   "cell_type": "markdown",
   "metadata": {},
   "source": [
    "# 31.動詞\n",
    "動詞の表層形をすべて抽出せよ．"
   ]
  },
  {
   "cell_type": "code",
   "execution_count": 7,
   "metadata": {},
   "outputs": [
    {
     "data": {
      "text/plain": [
       "['生れ',\n",
       " 'つか',\n",
       " 'し',\n",
       " '泣い',\n",
       " 'し',\n",
       " 'いる',\n",
       " '始め',\n",
       " '見',\n",
       " '聞く',\n",
       " '捕え',\n",
       " '煮',\n",
       " '食う',\n",
       " '思わ',\n",
       " '載せ',\n",
       " 'られ',\n",
       " '持ち上げ',\n",
       " 'られ',\n",
       " 'し',\n",
       " 'あっ',\n",
       " '落ちつい']"
      ]
     },
     "execution_count": 7,
     "metadata": {},
     "output_type": "execute_result"
    }
   ],
   "source": [
    "[d[\"surface\"] for l in sentences for d in l if d[\"pos\"] == \"動詞\"][:20]"
   ]
  },
  {
   "cell_type": "markdown",
   "metadata": {},
   "source": [
    "# 32.動詞の原形\n",
    "動詞の原形をすべて抽出せよ．"
   ]
  },
  {
   "cell_type": "code",
   "execution_count": 8,
   "metadata": {},
   "outputs": [
    {
     "data": {
      "text/plain": [
       "['生れる', 'つく', 'する', '泣く', 'する', 'いる', '始める', '見る', '聞く', '捕える']"
      ]
     },
     "execution_count": 8,
     "metadata": {},
     "output_type": "execute_result"
    }
   ],
   "source": [
    "[d[\"base\"] for l in sentences for d in l if d[\"pos\"] == \"動詞\"][:10]"
   ]
  },
  {
   "cell_type": "markdown",
   "metadata": {},
   "source": [
    "# 33.「AのB」\n",
    "2つの名詞が「の」で連結されている名詞句を抽出せよ．"
   ]
  },
  {
   "cell_type": "code",
   "execution_count": 9,
   "metadata": {},
   "outputs": [
    {
     "name": "stdout",
     "output_type": "stream",
     "text": [
      "['彼の掌', '掌の上', '書生の顔', 'はずの顔', '顔の真中', '穴の中', '書生の掌', '掌の裏', '何の事', '肝心の母親', '藁の上', '笹原の中', '池の前', '池の上', '一樹の蔭', '垣根の穴', '隣家の三', '時の通路', '一刻の猶予', '家の内', '彼の書生', '以外の人間', '前の書生', 'おさんの隙', 'おさんの三', '胸の痞', '家の主人', '主人の方', '鼻の下', '吾輩の顔', '自分の住', '吾輩の主人', '家のもの', 'うちのもの', '彼の書斎', '本の上', '皮膚の色', '本の上', '彼の毎夜', '以外のもの', '主人の傍', '彼の膝', '膝の上', '経験の上', '飯櫃の上', '炬燵の上', 'ここのうち', '供の寝床', '彼等の中間', '供の一']\n"
     ]
    }
   ],
   "source": [
    "noun_phrases = []\n",
    "for sentence in sentences:\n",
    "    for i, d in enumerate(sentence):#dict_list[:-1]でもout of range\n",
    "        if d[\"surface\"] == \"の\":\n",
    "            if sentence[i - 1][\"pos\"] == \"名詞\":\n",
    "                if sentence[i + 1][\"pos\"] == \"名詞\":\n",
    "                    noun_phrases.append(sentence[i - 1][\"surface\"] + d[\"surface\"] + sentence[i + 1][\"surface\"])\n",
    "print(noun_phrases[:50])"
   ]
  },
  {
   "cell_type": "markdown",
   "metadata": {},
   "source": [
    "## tryexcept文を使えば、out of rangeを起こしつつも処理は続いてくれる。実験で有用なので、ここでまず使ってみよう"
   ]
  },
  {
   "cell_type": "code",
   "execution_count": null,
   "metadata": {},
   "outputs": [],
   "source": []
  },
  {
   "cell_type": "markdown",
   "metadata": {},
   "source": [
    "### more-itertoolを使いこなす"
   ]
  },
  {
   "cell_type": "markdown",
   "metadata": {},
   "source": [
    "# 34.名詞の連接\n",
    "名詞の連接（連続して出現する名詞）を最長一致で抽出せよ．"
   ]
  },
  {
   "cell_type": "code",
   "execution_count": 3,
   "metadata": {},
   "outputs": [
    {
     "name": "stdout",
     "output_type": "stream",
     "text": [
      "['人間中', '一番獰悪', '時妙', '一毛', 'その後猫', '一度', 'ぷうぷうと煙', '邸内', '三毛', '書生以外', '四五遍', 'この間おさん', '三馬', '御台所', 'まま奥', '住家', '終日書斎', '勉強家', '勉強家', '勤勉家', '二三ページ', '主人以外', '限り吾輩', '朝主人', '一番心持', '二人', '一つ床', '一人', '最後大変', '——猫', '神経胃弱性', '物指', '尻ぺたをひどく', '言語同断', '家内総がかり', '筋向', '白君', '度毎', '白君', '先日玉', '四疋', '三日目', '四疋', '白君', '我等猫族', '家族的生活', '三毛君', '所有権', '我々同族間', '目刺', '一番先', '彼等人間', '我等', '吾人', '白君', '三毛君', '間違いだらけ', '後架先生', '宗盛', '宗盛', '月給日', '水彩絵具', '毎日毎日書斎', '人の', '自ら筆', '眼鏡越', '一室内', '以太利', '大家アンドレア・デル・サルト', '露華', '寒鴉', 'これ一幅', '活画', '翌日吾輩', '一分', '辛棒', '今吾輩', '今吾輩', '波斯産', '上不思議', '盲猫', '心中ひそか', 'いくらアンドレア・デル・サルト', '一分', 'あと大', '壊わし', '馬鹿野郎', '馬鹿野郎', '辛棒', '馬鹿野郎呼わり', '平生吾輩', '馬鹿野郎', 'みんな増長', '先どこ', '数倍', '十坪', '腹加減', '穏かな日', '二時頃', '昼飯後']\n"
     ]
    }
   ],
   "source": [
    "noun_phrases = []\n",
    "#dict_listという変数名は型がわからなくなるのでいけない\n",
    "for sentence in sentences:\n",
    "    noun_phrase = []\n",
    "    for d in sentence:\n",
    "        if d[\"pos\"] == \"名詞\":\n",
    "            noun_phrase.append(d[\"surface\"])\n",
    "        elif d[\"pos\"] != \"名詞\":\n",
    "            if len(noun_phrase) >= 2:\n",
    "                noun_phrases.append(\"\".join(noun_phrase))\n",
    "                noun_phrase = []\n",
    "            else:\n",
    "                noun_phrase = []\n",
    "        #文が名詞終わりだった場合?\n",
    "        #elifで,\"EOS\"が来たら、また下の処理をする\n",
    "#         if len(noun_phrase) >= 2:\n",
    "#                 noun_phrases.append(\"\".join(noun_phrase))\n",
    "#                 noun_phrase = []\n",
    "\n",
    "print(noun_phrases[:100])"
   ]
  },
  {
   "cell_type": "markdown",
   "metadata": {},
   "source": [
    "### dict.get(辞書型, デフォルト値)\n",
    "存在しないkeyを指定された場合、デフォルト値を出してくれる。  \n",
    "エラーで処理を止めたくない時に便利。"
   ]
  },
  {
   "cell_type": "markdown",
   "metadata": {},
   "source": [
    "### groupby\n",
    "(岸波くんのコードを参考)  \n",
    "pos = \"名詞\"だけを見ておけばいいのだから、はじめにgroupbyしてしまうもよし。"
   ]
  },
  {
   "cell_type": "markdown",
   "metadata": {},
   "source": [
    "# 35.単語の出現頻度\n",
    "文章中に出現する単語とその出現頻度を求め，出現頻度の高い順に並べよ．"
   ]
  },
  {
   "cell_type": "code",
   "execution_count": 4,
   "metadata": {},
   "outputs": [
    {
     "name": "stdout",
     "output_type": "stream",
     "text": [
      "[('の', 9194),\n",
      " ('て', 6848),\n",
      " ('は', 6420),\n",
      " ('に', 6243),\n",
      " ('を', 6071),\n",
      " ('だ', 5972),\n",
      " ('と', 5508),\n",
      " ('が', 5337),\n",
      " ('た', 4267),\n",
      " ('する', 3657),\n",
      " ('ない', 3052),\n",
      " ('も', 2479),\n",
      " ('ある', 2320),\n",
      " ('*', 2191),\n",
      " ('で', 2084),\n",
      " ('から', 2031),\n",
      " ('いる', 1777),\n",
      " ('ん', 1568),\n",
      " ('か', 1529),\n",
      " ('云う', 1408)]\n"
     ]
    }
   ],
   "source": [
    "from collections import Counter\n",
    "from pprint import pprint\n",
    "words = []\n",
    "\n",
    "for dict_list in sentences:\n",
    "    for d in dict_list:\n",
    "        if d[\"pos\"] != \"記号\":\n",
    "            words.append(d[\"base\"])\n",
    "c = Counter(words)\n",
    "pprint(c.most_common()[:20])"
   ]
  },
  {
   "cell_type": "markdown",
   "metadata": {},
   "source": [
    "### default dictを使う?\n",
    "counterで事足りているが、知っておこう。  "
   ]
  },
  {
   "cell_type": "markdown",
   "metadata": {},
   "source": [
    "# 36.頻度上位10語\n",
    "出現頻度が高い10語とその出現頻度をグラフ（例えば棒グラフなど）で表示せよ．"
   ]
  },
  {
   "cell_type": "code",
   "execution_count": 12,
   "metadata": {},
   "outputs": [],
   "source": [
    "#matplotlibrcファイルのfont.familyをAppleGothicに変更。"
   ]
  },
  {
   "cell_type": "code",
   "execution_count": 22,
   "metadata": {},
   "outputs": [
    {
     "data": {
      "text/plain": [
       "[<matplotlib.axis.XTick at 0x7fefc883a3d0>,\n",
       " <matplotlib.axis.XTick at 0x7fefc8837a10>,\n",
       " <matplotlib.axis.XTick at 0x7fefc8837250>,\n",
       " <matplotlib.axis.XTick at 0x7fefc8aeda50>,\n",
       " <matplotlib.axis.XTick at 0x7fefc8c79650>,\n",
       " <matplotlib.axis.XTick at 0x7fefc8c79a50>,\n",
       " <matplotlib.axis.XTick at 0x7fefc8c79d90>,\n",
       " <matplotlib.axis.XTick at 0x7fefc8c7c710>,\n",
       " <matplotlib.axis.XTick at 0x7fefc8c7cd50>,\n",
       " <matplotlib.axis.XTick at 0x7fefc8c7f3d0>]"
      ]
     },
     "execution_count": 22,
     "metadata": {},
     "output_type": "execute_result"
    },
    {
     "data": {
      "image/png": "[encoded data removed]",
      "text/plain": [
       "<Figure size 432x288 with 1 Axes>"
      ]
     },
     "metadata": {
      "needs_background": "light"
     },
     "output_type": "display_data"
    }
   ],
   "source": [
    "#matplotlibrcファイルのfont.familyをAppleGothicに変更。\n",
    "import matplotlib.pyplot as plt\n",
    "\n",
    "fig, ax = plt.subplots()\n",
    "l = c.most_common()[:10]\n",
    "width = 0.6\n",
    "ax.bar([t[0] for t in l], [t[1] for t in l], width)\n",
    "ax.set_xticks([t[0] for t in l])"
   ]
  },
  {
   "cell_type": "markdown",
   "metadata": {},
   "source": [
    "### 特殊なスライス(Numpy, Pytorch)\n",
    "list型[:,1] #listの全要素の1番目たちのlist  \n",
    "list型[:,0] #listの全要素の0番目たちのlistを返す"
   ]
  },
  {
   "cell_type": "markdown",
   "metadata": {},
   "source": [
    "# 37.「猫」と共起頻度の高い上位10語\n",
    "「猫」とよく共起する（共起頻度が高い）10語とその出現頻度をグラフ（例えば棒グラフなど）で表示せよ．"
   ]
  },
  {
   "cell_type": "code",
   "execution_count": 5,
   "metadata": {},
   "outputs": [
    {
     "data": {
      "text/plain": [
       "[<matplotlib.axis.XTick at 0x7fda3ab02810>,\n",
       " <matplotlib.axis.XTick at 0x7fda39b4ea50>,\n",
       " <matplotlib.axis.XTick at 0x7fda39b4e450>,\n",
       " <matplotlib.axis.XTick at 0x7fda28796c90>,\n",
       " <matplotlib.axis.XTick at 0x7fda287a4210>,\n",
       " <matplotlib.axis.XTick at 0x7fda287a4750>,\n",
       " <matplotlib.axis.XTick at 0x7fda287a4dd0>,\n",
       " <matplotlib.axis.XTick at 0x7fda287a47d0>,\n",
       " <matplotlib.axis.XTick at 0x7fda287aa390>,\n",
       " <matplotlib.axis.XTick at 0x7fda287aaad0>]"
      ]
     },
     "execution_count": 5,
     "metadata": {},
     "output_type": "execute_result"
    },
    {
     "data": {
      "image/png": "[encoded data removed]",
      "text/plain": [
       "<Figure size 432x288 with 1 Axes>"
      ]
     },
     "metadata": {
      "needs_background": "light"
     },
     "output_type": "display_data"
    }
   ],
   "source": [
    "from collections import Counter\n",
    "import matplotlib.pyplot as plt\n",
    "\n",
    "words_with_neko = []\n",
    "for sentence in sentences:\n",
    "    if \"猫\" in [d[\"base\"] for d in sentence]:\n",
    "        for d in sentence:\n",
    "            if d[\"base\"] != \"猫\" and d[\"pos\"] != \"記号\":\n",
    "                words_with_neko.append(d[\"base\"])\n",
    "                \n",
    "c_with_neko = Counter(words_with_neko)\n",
    "top10_words_with_neko = c_with_neko.most_common()[:10]\n",
    "top10_words_with_neko_list = [b[0] for b in top10_words_with_neko]\n",
    "\n",
    "words_q37 = []\n",
    "for sentence in sentences:\n",
    "    for d in sentence:\n",
    "        if d[\"base\"] in top10_words_with_neko_list:\n",
    "            words_q37.append(d[\"base\"])\n",
    "            \n",
    "c_q37 = Counter(words_q37)\n",
    "l = c_q37.most_common()[:10]\n",
    "\n",
    "fig, ax = plt.subplots()\n",
    "width = 0.6\n",
    "ax.bar([t[0] for t in l], [t[1] for t in l], width)\n",
    "ax.set_xticks([t[0] for t in l])"
   ]
  },
  {
   "cell_type": "markdown",
   "metadata": {},
   "source": [
    "# 38.ヒストグラム\n",
    "単語の出現頻度のヒストグラムを描け．ただし，横軸は出現頻度を表し，1から単語の出現頻度の最大値までの線形目盛とする．縦軸はx軸で示される出現頻度となった単語の異なり数（種類数）である．"
   ]
  },
  {
   "cell_type": "code",
   "execution_count": 10,
   "metadata": {},
   "outputs": [
    {
     "data": {
      "text/plain": [
       "(array([7565., 1384.,  606.,  364.,  253.,  158.,  119.,   94.,   64.,\n",
       "          63.]),\n",
       " array([ 1. ,  3.9,  6.8,  9.7, 12.6, 15.5, 18.4, 21.3, 24.2, 27.1, 30. ]),\n",
       " <a list of 10 Patch objects>)"
      ]
     },
     "execution_count": 10,
     "metadata": {},
     "output_type": "execute_result"
    },
    {
     "data": {
      "image/png": "[encoded data removed]",
      "text/plain": [
       "<Figure size 432x288 with 1 Axes>"
      ]
     },
     "metadata": {
      "needs_background": "light"
     },
     "output_type": "display_data"
    }
   ],
   "source": [
    "import matplotlib.pyplot as plt\n",
    "\n",
    "counts = [w[1] for w in c.most_common()]\n",
    "plt.hist(counts, range=(1, 30))"
   ]
  },
  {
   "cell_type": "markdown",
   "metadata": {},
   "source": [
    "# 39.Zipfの法則\n",
    "単語の出現頻度順位を横軸，その出現頻度を縦軸として，両対数グラフをプロットせよ．"
   ]
  },
  {
   "cell_type": "code",
   "execution_count": 12,
   "metadata": {},
   "outputs": [
    {
     "data": {
      "image/png": "[encoded data removed]",
      "text/plain": [
       "<Figure size 432x288 with 1 Axes>"
      ]
     },
     "metadata": {
      "needs_background": "light"
     },
     "output_type": "display_data"
    }
   ],
   "source": [
    "import matplotlib.pyplot as plt\n",
    "\n",
    "ranks_and_counts = [(rank, count[1]) for rank, count in enumerate(c.most_common(), 1)]\n",
    "\n",
    "fig, ax = plt.subplots()\n",
    "ax.plot([rc[0] for rc in ranks_and_counts], [rc[1] for rc in ranks_and_counts])\n",
    "ax.set_xscale('log')\n",
    "ax.set_yscale('log')\n",
    "plt.show()"
   ]
  },
  {
   "cell_type": "code",
   "execution_count": null,
   "metadata": {},
   "outputs": [],
   "source": []
  }
 ],
 "metadata": {
  "kernelspec": {
   "display_name": "Python 3",
   "language": "python",
   "name": "python3"
  },
  "language_info": {
   "codemirror_mode": {
    "name": "ipython",
    "version": 3
   },
   "file_extension": ".py",
   "mimetype": "text/x-python",
   "name": "python",
   "nbconvert_exporter": "python",
   "pygments_lexer": "ipython3",
   "version": "3.7.7"
  }
 },
 "nbformat": 4,
 "nbformat_minor": 4
}
