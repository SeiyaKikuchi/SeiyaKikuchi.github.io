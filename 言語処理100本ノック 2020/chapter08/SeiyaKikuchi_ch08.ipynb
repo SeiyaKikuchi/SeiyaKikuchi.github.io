{
 "cells": [
  {
   "cell_type": "markdown",
   "metadata": {},
   "source": [
    "### 70.単語ベクトルの和による特徴量\n",
    "問題50で構築した学習データ，検証データ，評価データを行列・ベクトルに変換したい．例えば，学習データについて，すべての事例xiの特徴ベクトルxiを並べた行列Xと，正解ラベルを並べた行列（ベクトル）Yを作成したい．  \n",
    "\n",
    "以上の仕様に基づき，以下の行列・ベクトルを作成し，ファイルに保存せよ．  \n",
    "\n",
    "学習データの特徴量行列  \n",
    "学習データのラベルベクトル  \n",
    "検証データの特徴量行列  \n",
    "検証データのラベルベクトル  \n",
    "評価データの特徴量行列  \n",
    "評価データのラベルベクトル  "
   ]
  },
  {
   "cell_type": "code",
   "execution_count": 24,
   "metadata": {},
   "outputs": [],
   "source": [
    "from gensim.models import KeyedVectors\n",
    "\n",
    "word_vector_path = '../chapter07/data/GoogleNews-vectors-negative300.bin'\n",
    "word_vectors = KeyedVectors.load_word2vec_format(word_vector_path, binary=True)  # C bin format"
   ]
  },
  {
   "cell_type": "code",
   "execution_count": 4,
   "metadata": {},
   "outputs": [],
   "source": [
    "train_path = '../chapter06/data_folder/train.txt'\n",
    "dev_path = '../chapter06/data_folder/valid.txt'\n",
    "test_path = '../chapter06/data_folder/test.txt'\n",
    "\n",
    "train_out_x = 'data/train_out_x.pt'\n",
    "train_out_y = 'data/train_out_y.pt'\n",
    "dev_out_x = 'data/dev_out_x.pt'\n",
    "dev_out_y = 'data/dev_out_y.pt'\n",
    "test_out_x = 'data/test_out_x.pt'\n",
    "test_out_y = 'data/test_out_y.pt'"
   ]
  },
  {
   "cell_type": "code",
   "execution_count": 16,
   "metadata": {},
   "outputs": [],
   "source": [
    "import numpy as np\n",
    "import torch\n",
    "# from itertools import islice\n",
    "\n",
    "def make_dataset(path, out_x, out_y):\n",
    "    with open(path,'r') as f:\n",
    "        matrix_x = []\n",
    "        matrix_y = []\n",
    "        label_id_dict = {'b': 0, 't': 1, 'e': 2, 'm': 3}\n",
    "        \n",
    "        for l in f:\n",
    "            feature_vector = np.zeros(300)\n",
    "            heading, label = l.strip().split('\\t')\n",
    "            words = heading.split(' ')\n",
    "            \n",
    "            unk_count = 0\n",
    "            for w in words:\n",
    "                if w in word_vectors:\n",
    "                    feature_vector = feature_vector + word_vectors[w]\n",
    "                # out of vocabの時はどうしよう？？\n",
    "                elif not w in word_vectors:\n",
    "#                     unk_count += 1\n",
    "                    continue\n",
    "                \n",
    "            matrix_x.append(feature_vector / (len(words)))             \n",
    "            matrix_y.append(label_id_dict[label])\n",
    "        \n",
    "        torch.save(torch.tensor(matrix_x), out_x)\n",
    "        torch.save(torch.tensor(matrix_y), out_y)"
   ]
  },
  {
   "cell_type": "code",
   "execution_count": 82,
   "metadata": {},
   "outputs": [],
   "source": [
    "make_dataset(train_path, train_out_x, train_out_y)\n",
    "make_dataset(dev_path, dev_out_x, dev_out_y)\n",
    "make_dataset(test_path, test_out_x, test_out_y)"
   ]
  },
  {
   "cell_type": "code",
   "execution_count": 83,
   "metadata": {},
   "outputs": [
    {
     "name": "stdout",
     "output_type": "stream",
     "text": [
      "<class 'torch.Tensor'>\n",
      "torch.Size([10683, 300])\n"
     ]
    }
   ],
   "source": [
    "# loadしてみる\n",
    "out = torch.load(train_out_x)\n",
    "print(type(out))\n",
    "print(out.size())"
   ]
  },
  {
   "cell_type": "code",
   "execution_count": 84,
   "metadata": {},
   "outputs": [
    {
     "name": "stdout",
     "output_type": "stream",
     "text": [
      "<class 'torch.Tensor'>\n",
      "torch.Size([10683])\n"
     ]
    }
   ],
   "source": [
    "# loadしてみる\n",
    "out = torch.load(train_out_y)\n",
    "print(type(out))\n",
    "print(out.size())"
   ]
  },
  {
   "cell_type": "markdown",
   "metadata": {},
   "source": [
    "### 71.単層ニューラルネットワークによる予測\n",
    "問題70で保存した行列を読み込み，学習データについて以下の計算を実行せよ．  \n",
    "ŷ 1=softmax(x1W)  \n",
    "Ŷ =softmax(X[1:4]W)"
   ]
  },
  {
   "cell_type": "code",
   "execution_count": 8,
   "metadata": {},
   "outputs": [],
   "source": [
    "import torch\n",
    "import torch.nn as nn\n",
    "import torch.nn.functional as F\n",
    "\n",
    "class Net(nn.Module):\n",
    "    def __init__(self):\n",
    "        super(Net, self).__init__()\n",
    "        self.fc1 = nn.Linear(300, 4)\n",
    "        \n",
    "    def forward(self, x):\n",
    "        x = x.to(dtype=torch.float32)\n",
    "        x = self.fc1(x)\n",
    "        \n",
    "        return x"
   ]
  },
  {
   "cell_type": "code",
   "execution_count": 105,
   "metadata": {},
   "outputs": [
    {
     "name": "stdout",
     "output_type": "stream",
     "text": [
      "torch.Size([1, 300])\n"
     ]
    },
    {
     "data": {
      "text/plain": [
       "tensor([[0.2515, 0.2521, 0.2473, 0.2492]], grad_fn=<SoftmaxBackward>)"
      ]
     },
     "execution_count": 105,
     "metadata": {},
     "output_type": "execute_result"
    }
   ],
   "source": [
    "net = Net()\n",
    "train = torch.load(train_out_x)\n",
    "\n",
    "print(train[:1].size())\n",
    "F.softmax(net(train[:1]), dim=-1)"
   ]
  },
  {
   "cell_type": "code",
   "execution_count": 106,
   "metadata": {},
   "outputs": [
    {
     "name": "stdout",
     "output_type": "stream",
     "text": [
      "torch.Size([4, 300])\n"
     ]
    },
    {
     "data": {
      "text/plain": [
       "tensor([[0.2513, 0.2496, 0.2494, 0.2497],\n",
       "        [0.2543, 0.2489, 0.2455, 0.2513],\n",
       "        [0.2509, 0.2482, 0.2526, 0.2483],\n",
       "        [0.2517, 0.2501, 0.2495, 0.2488]], grad_fn=<SoftmaxBackward>)"
      ]
     },
     "execution_count": 106,
     "metadata": {},
     "output_type": "execute_result"
    }
   ],
   "source": [
    "net = Net()\n",
    "train = torch.load(train_out_x)\n",
    "\n",
    "print(train[:4].size())\n",
    "F.softmax(net(train[:4]), dim=-1)"
   ]
  },
  {
   "cell_type": "markdown",
   "metadata": {},
   "source": [
    "### 72. 損失と勾配の計算\n",
    "学習データの事例x1と事例集合x1,x2,x3,x4に対して，クロスエントロピー損失と，行列Wに対する勾配を計算せよ．"
   ]
  },
  {
   "cell_type": "code",
   "execution_count": 107,
   "metadata": {},
   "outputs": [],
   "source": [
    "CELoss = nn.CrossEntropyLoss()\n",
    "net = Net()\n",
    "\n",
    "vectors = torch.load(train_out_x)\n",
    "labels = torch.load(train_out_y)"
   ]
  },
  {
   "cell_type": "code",
   "execution_count": 108,
   "metadata": {},
   "outputs": [
    {
     "name": "stdout",
     "output_type": "stream",
     "text": [
      "tensor(1.3898, grad_fn=<NllLossBackward>)\n",
      "tensor([[ 0.0034,  0.0021, -0.0052,  ..., -0.0036,  0.0035, -0.0037],\n",
      "        [ 0.0031,  0.0019, -0.0048,  ..., -0.0033,  0.0032, -0.0034],\n",
      "        [-0.0101, -0.0063,  0.0157,  ...,  0.0106, -0.0105,  0.0111],\n",
      "        [ 0.0036,  0.0023, -0.0057,  ..., -0.0038,  0.0038, -0.0040]])\n"
     ]
    }
   ],
   "source": [
    "# vectors, labelsを[0] でスライスすると違う次元数が出てくる．[1,4]ではなく[4]，なぜ？\n",
    "prob = net(vectors[:1])\n",
    "loss = CELoss(prob, labels[:1])\n",
    "loss.backward()\n",
    "\n",
    "print(loss)\n",
    "print(net.fc1.weight.grad)"
   ]
  },
  {
   "cell_type": "code",
   "execution_count": 109,
   "metadata": {},
   "outputs": [
    {
     "name": "stdout",
     "output_type": "stream",
     "text": [
      "tensor(1.3818, grad_fn=<NllLossBackward>)\n",
      "torch.Size([4, 300])\n",
      "tensor([[-0.0001, -0.0069, -0.0073,  ..., -0.0026,  0.0015,  0.0047],\n",
      "        [ 0.0052,  0.0053, -0.0058,  ..., -0.0046,  0.0049, -0.0071],\n",
      "        [-0.0112, -0.0048,  0.0198,  ...,  0.0127, -0.0122,  0.0108],\n",
      "        [ 0.0061,  0.0063, -0.0068,  ..., -0.0055,  0.0058, -0.0084]])\n"
     ]
    }
   ],
   "source": [
    "prob = net(vectors[:4])\n",
    "loss = CELoss(prob, labels[:4])\n",
    "loss.backward()\n",
    "\n",
    "#複数事例に対するlossの平均になっているか？\n",
    "print(loss)\n",
    "print(net.fc1.weight.grad.size())\n",
    "grads = net.fc1.weight.grad\n",
    "print(grads)"
   ]
  },
  {
   "cell_type": "markdown",
   "metadata": {},
   "source": [
    "## 73.確率的勾配降下法による学習\n",
    "確率的勾配降下法（SGD: Stochastic Gradient Descent）を用いて，行列Wを学習せよ．なお，学習は適当な基準で終了させればよい（例えば「100エポックで終了」など）．"
   ]
  },
  {
   "cell_type": "code",
   "execution_count": 163,
   "metadata": {},
   "outputs": [
    {
     "name": "stdout",
     "output_type": "stream",
     "text": [
      "torch.Size([10683, 300])\n",
      "torch.Size([10683])\n"
     ]
    }
   ],
   "source": [
    "CELoss = nn.CrossEntropyLoss()\n",
    "net = Net()\n",
    "\n",
    "vectors = torch.load(train_out_x)\n",
    "labels = torch.load(train_out_y)\n",
    "print(vectors.size())\n",
    "print(labels.size())"
   ]
  },
  {
   "cell_type": "code",
   "execution_count": 164,
   "metadata": {},
   "outputs": [],
   "source": [
    "import torch\n",
    "import torch.optim as optim\n",
    "optimizer = optim.SGD(net.parameters(), lr=0.01)\n",
    "\n",
    "\n",
    "def train(net, vectors, labels, max_epoch):\n",
    "    for _ in range(max_epoch):\n",
    "        for vector, label in zip(vectors, labels):   \n",
    "            optimizer.zero_grad()\n",
    "            \n",
    "            logit = net(vector).view(1, 4)\n",
    "            label = label.view(1)\n",
    "            \n",
    "            loss = CELoss(prob, label)\n",
    "            loss.backward()\n",
    "            optimizer.step() "
   ]
  },
  {
   "cell_type": "code",
   "execution_count": 165,
   "metadata": {},
   "outputs": [],
   "source": [
    "train(net, vectors, labels, 100)"
   ]
  },
  {
   "cell_type": "code",
   "execution_count": 166,
   "metadata": {},
   "outputs": [],
   "source": [
    "torch.save(net.state_dict(), 'data/model_param')"
   ]
  },
  {
   "cell_type": "markdown",
   "metadata": {},
   "source": [
    "## 74.正解率の計測\n",
    "問題73で求めた行列を用いて学習データおよび評価データの事例を分類したとき，その正解率をそれぞれ求めよ．"
   ]
  },
  {
   "cell_type": "code",
   "execution_count": 167,
   "metadata": {},
   "outputs": [
    {
     "data": {
      "text/plain": [
       "Net(\n",
       "  (fc1): Linear(in_features=300, out_features=4, bias=True)\n",
       ")"
      ]
     },
     "execution_count": 167,
     "metadata": {},
     "output_type": "execute_result"
    }
   ],
   "source": [
    "net = Net()\n",
    "net.load_state_dict(torch.load('data/model_param'))\n",
    "net.eval()"
   ]
  },
  {
   "cell_type": "code",
   "execution_count": 168,
   "metadata": {},
   "outputs": [],
   "source": [
    "valid_vecs = torch.load(dev_out_x)\n",
    "valid_labels = torch.load(dev_out_y)\n",
    "\n",
    "test_vecs = torch.load(test_out_x)\n",
    "test_labels = torch.load(test_out_y)"
   ]
  },
  {
   "cell_type": "code",
   "execution_count": 169,
   "metadata": {},
   "outputs": [],
   "source": [
    "# 正解率を測る便利メソッドはpytorchにないのか？\n",
    "\n",
    "def calc_accuracy(net, vectors, labels):\n",
    "    total = 0\n",
    "    count = 0\n",
    "    for vector, label in zip(vectors, labels):\n",
    "        logit = net(vector)\n",
    "        pred = logit.argmax(-1)\n",
    "        total += 1\n",
    "        if pred == label:\n",
    "            count += 1\n",
    "    return count / total"
   ]
  },
  {
   "cell_type": "code",
   "execution_count": 170,
   "metadata": {},
   "outputs": [
    {
     "data": {
      "text/plain": [
       "0.899625468164794"
      ]
     },
     "execution_count": 170,
     "metadata": {},
     "output_type": "execute_result"
    }
   ],
   "source": [
    "calc_accuracy(net, dev_vecs, dev_labels)"
   ]
  },
  {
   "cell_type": "code",
   "execution_count": 171,
   "metadata": {},
   "outputs": [
    {
     "data": {
      "text/plain": [
       "0.8884730538922155"
      ]
     },
     "execution_count": 171,
     "metadata": {},
     "output_type": "execute_result"
    }
   ],
   "source": [
    "calc_accuracy(net, test_vecs, test_labels)"
   ]
  },
  {
   "cell_type": "markdown",
   "metadata": {},
   "source": [
    "## 75.損失と正解率のプロット\n",
    "問題73のコードを改変し，各エポックのパラメータ更新が完了するたびに，訓練データでの損失，正解率，検証データでの損失，正解率をグラフにプロットし，学習の進捗状況を確認できるようにせよ．"
   ]
  },
  {
   "cell_type": "code",
   "execution_count": 192,
   "metadata": {},
   "outputs": [],
   "source": [
    "valid_vecs = torch.load(dev_out_x)\n",
    "valid_labels = torch.load(dev_out_y)\n",
    "\n",
    "test_vecs = torch.load(test_out_x)\n",
    "test_labels = torch.load(test_out_y)"
   ]
  },
  {
   "cell_type": "code",
   "execution_count": 1,
   "metadata": {},
   "outputs": [],
   "source": [
    "def calc_accuracy_and_loss(net, vectors, labels):\n",
    "    total = 0\n",
    "    count = 0\n",
    "    loss = 0\n",
    "    for vector, label in zip(vectors, labels):\n",
    "        logit = net(vector).view(1, 4)\n",
    "        prob = F.softmax(net(logit), dim=-1)\n",
    "        label = label.view(1)\n",
    "        pred = prob.argmax(-1)\n",
    "        \n",
    "        total += 1\n",
    "        loss += CELoss(prob, label)\n",
    "        if pred == label:\n",
    "            count += 1\n",
    "    return count / total, loss / total"
   ]
  },
  {
   "cell_type": "code",
   "execution_count": 2,
   "metadata": {},
   "outputs": [],
   "source": [
    "import torch\n",
    "import torch.optim as optim\n",
    "\n",
    "def train(net, vectors, labels, max_epoch, dev_vecs, dev_labels):\n",
    "    net = Net()\n",
    "    optimizer = optim.SGD(net.parameters(), lr=0.01)\n",
    "    \n",
    "    for epoch in range(max_epoch):\n",
    "        for vector, label in zip(vectors, labels):   \n",
    "            optimizer.zero_grad()\n",
    "            \n",
    "            prob = net(vector).view(1, 4)\n",
    "            label = label.view(1)\n",
    "            \n",
    "            loss = CELoss(prob, label)\n",
    "            loss.backward()\n",
    "            optimizer.step() \n",
    "        yield calc_accuracy_and_loss(net, dev_vecs, dev_labels), epoch "
   ]
  },
  {
   "cell_type": "code",
   "execution_count": 190,
   "metadata": {},
   "outputs": [
    {
     "data": {
      "image/png": "[encoded data removed]",
      "text/plain": [
       "<Figure size 432x288 with 1 Axes>"
      ]
     },
     "metadata": {
      "needs_background": "light"
     },
     "output_type": "display_data"
    },
    {
     "data": {
      "image/png": "[encoded data removed]",
      "text/plain": [
       "<Figure size 432x288 with 1 Axes>"
      ]
     },
     "metadata": {
      "needs_background": "light"
     },
     "output_type": "display_data"
    }
   ],
   "source": [
    "import matplotlib.pyplot as plt\n",
    "\n",
    "accs = []\n",
    "epoch_count = []\n",
    "losses = []\n",
    "for result, epoch in train(net, vectors, labels, 100, valid_vecs, valid_labels):\n",
    "    accs.append(result[0])\n",
    "    losses.append(result[1])\n",
    "    epoch_count.append(epoch)\n",
    "plt.plot(epoch_count, accs)\n",
    "plt.show()\n",
    "plt.plot(epoch_count, losses)\n",
    "plt.show()"
   ]
  },
  {
   "cell_type": "code",
   "execution_count": 195,
   "metadata": {},
   "outputs": [
    {
     "data": {
      "image/png": "[encoded data removed]",
      "text/plain": [
       "<Figure size 432x288 with 1 Axes>"
      ]
     },
     "metadata": {
      "needs_background": "light"
     },
     "output_type": "display_data"
    },
    {
     "data": {
      "image/png": "[encoded data removed]",
      "text/plain": [
       "<Figure size 432x288 with 1 Axes>"
      ]
     },
     "metadata": {
      "needs_background": "light"
     },
     "output_type": "display_data"
    }
   ],
   "source": [
    "accs = []\n",
    "epoch_count = []\n",
    "losses = []\n",
    "for result, epoch in train(net, vectors, labels, 100, test_vecs, test_labels):\n",
    "    accs.append(result[0])\n",
    "    losses.append(result[1])\n",
    "    epoch_count.append(epoch)\n",
    "plt.plot(epoch_count, accs)\n",
    "plt.show()\n",
    "plt.plot(epoch_count, losses)\n",
    "plt.show()"
   ]
  },
  {
   "cell_type": "markdown",
   "metadata": {},
   "source": [
    "## 76.チェックポイント\n",
    "問題75のコードを改変し，各エポックのパラメータ更新が完了するたびに，チェックポイント（学習途中のパラメータ（重み行列など）の値や最適化アルゴリズムの内部状態）をファイルに書き出せ．"
   ]
  },
  {
   "cell_type": "code",
   "execution_count": 5,
   "metadata": {},
   "outputs": [],
   "source": [
    "import torch\n",
    "\n",
    "train_vecs = torch.load(train_out_x)\n",
    "train_labels = torch.load(train_out_y)\n",
    "\n",
    "valid_vecs = torch.load(dev_out_x)\n",
    "valid_labels = torch.load(dev_out_y)\n",
    "\n",
    "test_vecs = torch.load(test_out_x)\n",
    "test_labels = torch.load(test_out_y)"
   ]
  },
  {
   "cell_type": "code",
   "execution_count": 11,
   "metadata": {},
   "outputs": [],
   "source": [
    "import torch\n",
    "import torch.optim as optim\n",
    "import torch.nn as nn\n",
    "\n",
    "CELoss = nn.CrossEntropyLoss()\n",
    "\n",
    "def train(vectors, labels, max_epoch, dev_vecs, dev_labels):\n",
    "    net = Net()\n",
    "    optimizer = optim.SGD(net.parameters(), lr=0.01)\n",
    "    \n",
    "    for epoch in range(max_epoch):\n",
    "        for vector, label in zip(vectors, labels):   \n",
    "            optimizer.zero_grad()\n",
    "            \n",
    "            logit = net(vector).view(1, 4)\n",
    "            label = label.view(1)\n",
    "            \n",
    "            loss = CELoss(logit, label)\n",
    "            loss.backward()\n",
    "            optimizer.step() \n",
    "            torch.save({\"epoch\": epoch,\n",
    "                        \"model_state_dict\": net.state_dict(), \n",
    "                        \"optimizer_state_dict\": optimizer.state_dict()},\n",
    "                       f\"data/model_params_Q76_epoch{epoch}\")"
   ]
  },
  {
   "cell_type": "code",
   "execution_count": 12,
   "metadata": {},
   "outputs": [],
   "source": [
    "train(train_vecs, train_labels, 10, valid_vecs, valid_labels)"
   ]
  },
  {
   "cell_type": "code",
   "execution_count": 13,
   "metadata": {},
   "outputs": [
    {
     "name": "stdout",
     "output_type": "stream",
     "text": [
      "{'epoch': 1, 'model_state_dict': OrderedDict([('fc1.weight', tensor([[-0.2032,  0.0160, -0.0543,  ...,  0.3872,  0.1812, -0.4355],\n",
      "        [ 0.1093,  0.0133,  0.2025,  ..., -0.1149, -0.3017, -0.1220],\n",
      "        [ 0.3109, -0.0221, -0.4186,  ..., -0.3655, -0.0569,  0.2824],\n",
      "        [-0.2029,  0.0137,  0.2343,  ...,  0.0431,  0.2210,  0.2948]])), ('fc1.bias', tensor([ 0.1372, -0.2632,  0.8151, -0.6585]))]), 'optimizer_state_dict': {'state': {}, 'param_groups': [{'lr': 0.01, 'momentum': 0, 'dampening': 0, 'weight_decay': 0, 'nesterov': False, 'params': [0, 1]}]}}\n"
     ]
    }
   ],
   "source": [
    "param = torch.load(\"data/model_params_Q76_epoch1\")\n",
    "print(param)"
   ]
  },
  {
   "cell_type": "markdown",
   "metadata": {},
   "source": [
    "## 77.ミニバッチ化\n",
    "問題76のコードを改変し，B事例ごとに損失・勾配を計算し，行列Wの値を更新せよ（ミニバッチ化）．Bの値を1,2,4,8,…と変化させながら，1エポックの学習に要する時間を比較せよ．"
   ]
  },
  {
   "cell_type": "code",
   "execution_count": 29,
   "metadata": {},
   "outputs": [],
   "source": [
    "import numpy as np\n",
    "import torch\n",
    "from torch.utils.data import TensorDataset\n",
    "\n",
    "def make_dataset(path, out):\n",
    "    with open(path,'r') as f:\n",
    "        matrix_x = []\n",
    "        matrix_y = []\n",
    "        label_id_dict = {'b': 0, 't': 1, 'e': 2, 'm': 3}\n",
    "        \n",
    "        for l in f:\n",
    "            feature_vector = np.zeros(300)\n",
    "            heading, label = l.strip().split('\\t')\n",
    "            words = heading.split(' ')\n",
    "            \n",
    "            unk_count = 0\n",
    "            for w in words:\n",
    "                if w in word_vectors:\n",
    "                    feature_vector = feature_vector + word_vectors[w]\n",
    "                # out of vocabの時はどうしよう？？\n",
    "                elif not w in word_vectors:\n",
    "                    continue\n",
    "                \n",
    "            matrix_x.append(feature_vector / (len(words)))             \n",
    "            matrix_y.append(label_id_dict[label])\n",
    "        \n",
    "        torch.save(TensorDataset(torch.tensor(matrix_x), torch.tensor(matrix_y)), out)"
   ]
  },
  {
   "cell_type": "code",
   "execution_count": 30,
   "metadata": {},
   "outputs": [],
   "source": [
    "train_out = 'data/train_dataset.pt'\n",
    "dev_out = 'data/dev_dataset.pt'\n",
    "test_out = 'data/test_dataset.pt'\n",
    "\n",
    "make_dataset(train_path, train_out)\n",
    "make_dataset(dev_path, dev_out)\n",
    "make_dataset(test_path, test_out)"
   ]
  },
  {
   "cell_type": "code",
   "execution_count": 4,
   "metadata": {},
   "outputs": [
    {
     "name": "stdout",
     "output_type": "stream",
     "text": [
      "torch.Size([300])\n",
      "torch.Size([])\n"
     ]
    }
   ],
   "source": [
    "train_dataset = torch.load('data/train_dataset.pt')\n",
    "print(train_dataset[0][0].size())\n",
    "print(train_dataset[0][1].size())"
   ]
  },
  {
   "cell_type": "code",
   "execution_count": 7,
   "metadata": {},
   "outputs": [],
   "source": [
    "import torch\n",
    "import torch.optim as optim\n",
    "import torch.nn as nn\n",
    "\n",
    "CELoss = nn.CrossEntropyLoss()\n",
    "\n",
    "def train(data_loader, max_epoch):\n",
    "    net = Net()\n",
    "    optimizer = optim.SGD(net.parameters(), lr=0.01)\n",
    "    \n",
    "    for epoch in range(max_epoch):\n",
    "        for vector, label in data_loader:\n",
    "            optimizer.zero_grad()\n",
    "            \n",
    "            logit = net(vector)\n",
    "            label = label\n",
    "            \n",
    "            loss = CELoss(logit, label)\n",
    "            loss.backward()\n",
    "            optimizer.step()"
   ]
  },
  {
   "cell_type": "code",
   "execution_count": 10,
   "metadata": {},
   "outputs": [
    {
     "name": "stdout",
     "output_type": "stream",
     "text": [
      "batch_size 1: 3.8994796690000157\n",
      "batch_size 2: 1.8514386749999971\n",
      "batch_size 4: 1.111813627999993\n",
      "batch_size 8: 0.5853338440000186\n",
      "batch_size 16: 0.3533190779999984\n",
      "batch_size 32: 0.22472438099998726\n",
      "batch_size 64: 0.170610245000006\n",
      "batch_size 128: 0.15529918699999712\n",
      "batch_size 256: 0.12407040099998312\n",
      "batch_size 512: 0.132698591999997\n",
      "batch_size 1024: 0.11992895999998154\n",
      "batch_size 2048: 0.12560939600001575\n",
      "batch_size 4096: 0.13268185699999435\n",
      "batch_size 8192: 0.14682032600001094\n",
      "batch_size 16384: 0.1514753029999838\n"
     ]
    }
   ],
   "source": [
    "import timeit\n",
    "from torch.utils.data import DataLoader\n",
    "\n",
    "batch_sizes = [2**i for i in range(15)]\n",
    "for batch_size in batch_sizes:\n",
    "    train_data_loader = DataLoader(train_dataset, batch_size=batch_size, shuffle=True)\n",
    "    result = timeit.timeit('train(train_data_loader, 1)', globals=globals(), number=1)\n",
    "    print(f'batch_size {batch_size}: {result}')"
   ]
  },
  {
   "cell_type": "markdown",
   "metadata": {},
   "source": [
    "## 78.GPU上での学習\n",
    "問題77のコードを改変し，GPU上で学習を実行せよ．"
   ]
  },
  {
   "cell_type": "code",
   "execution_count": 1,
   "metadata": {},
   "outputs": [
    {
     "name": "stdout",
     "output_type": "stream",
     "text": [
      "batch_size 1: 3.853148952126503\n",
      "batch_size 2: 2.0314747355878353\n",
      "batch_size 4: 1.0637329500168562\n",
      "batch_size 8: 0.5789292026311159\n",
      "batch_size 16: 0.33245150558650494\n",
      "batch_size 32: 0.20701652765274048\n",
      "batch_size 64: 0.14259298890829086\n",
      "batch_size 128: 0.1109499279409647\n",
      "batch_size 256: 0.09474338963627815\n",
      "batch_size 512: 0.08515109121799469\n",
      "batch_size 1024: 0.07828312553465366\n",
      "batch_size 2048: 0.0752949882298708\n",
      "batch_size 4096: 0.07641019485890865\n",
      "batch_size 8192: 0.07665280811488628\n",
      "batch_size 16384: 0.07785473577678204\n"
     ]
    }
   ],
   "source": [
    "! cat data/time_count.txt"
   ]
  },
  {
   "cell_type": "markdown",
   "metadata": {},
   "source": [
    "## 79.多層ニューラルネットワーク\n",
    "問題78のコードを改変し，バイアス項の導入や多層化など，ニューラルネットワークの形状を変更しながら，高性能なカテゴリ分類器を構築せよ．"
   ]
  },
  {
   "cell_type": "code",
   "execution_count": 1,
   "metadata": {},
   "outputs": [
    {
     "name": "stdout",
     "output_type": "stream",
     "text": [
      "time:19.947740711271763, accuracy:0.9048689138576779/n"
     ]
    }
   ],
   "source": [
    "! cat data/result.txt"
   ]
  },
  {
   "cell_type": "code",
   "execution_count": null,
   "metadata": {},
   "outputs": [],
   "source": []
  }
 ],
 "metadata": {
  "kernelspec": {
   "display_name": "Python 3",
   "language": "python",
   "name": "python3"
  },
  "language_info": {
   "codemirror_mode": {
    "name": "ipython",
    "version": 3
   },
   "file_extension": ".py",
   "mimetype": "text/x-python",
   "name": "python",
   "nbconvert_exporter": "python",
   "pygments_lexer": "ipython3",
   "version": "3.7.7"
  }
 },
 "nbformat": 4,
 "nbformat_minor": 4
}
