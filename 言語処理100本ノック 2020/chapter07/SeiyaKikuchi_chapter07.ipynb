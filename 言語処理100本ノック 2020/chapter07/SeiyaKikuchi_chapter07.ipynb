{
 "cells": [
  {
   "cell_type": "markdown",
   "metadata": {},
   "source": [
    "## 第7章: 単語ベクトル\n",
    "単語の意味を実ベクトルで表現する単語ベクトル（単語埋め込み）に関して，以下の処理を行うプログラムを作成せよ．"
   ]
  },
  {
   "cell_type": "markdown",
   "metadata": {},
   "source": [
    "### 60.単語ベクトルの読み込みと表示\n",
    "Google Newsデータセット（約1,000億単語）での学習済み単語ベクトル（300万単語・フレーズ，300次元）をダウンロードし，”United States”の単語ベクトルを表示せよ．ただし，”United States”は内部的には”United_States”と表現されていることに注意せよ．"
   ]
  },
  {
   "cell_type": "code",
   "execution_count": 4,
   "metadata": {
    "collapsed": true,
    "jupyter": {
     "outputs_hidden": true
    }
   },
   "outputs": [
    {
     "name": "stdout",
     "output_type": "stream",
     "text": [
      "[-3.61328125e-02 -4.83398438e-02  2.35351562e-01  1.74804688e-01\n",
      " -1.46484375e-01 -7.42187500e-02 -1.01562500e-01 -7.71484375e-02\n",
      "  1.09375000e-01 -5.71289062e-02 -1.48437500e-01 -6.00585938e-02\n",
      "  1.74804688e-01 -7.71484375e-02  2.58789062e-02 -7.66601562e-02\n",
      " -3.80859375e-02  1.35742188e-01  3.75976562e-02 -4.19921875e-02\n",
      " -3.56445312e-02  5.34667969e-02  3.68118286e-04 -1.66992188e-01\n",
      " -1.17187500e-01  1.41601562e-01 -1.69921875e-01 -6.49414062e-02\n",
      " -1.66992188e-01  1.00585938e-01  1.15722656e-01 -2.18750000e-01\n",
      " -9.86328125e-02 -2.56347656e-02  1.23046875e-01 -3.54003906e-02\n",
      " -1.58203125e-01 -1.60156250e-01  2.94189453e-02  8.15429688e-02\n",
      "  6.88476562e-02  1.87500000e-01  6.49414062e-02  1.15234375e-01\n",
      " -2.27050781e-02  3.32031250e-01 -3.27148438e-02  1.77734375e-01\n",
      " -2.08007812e-01  4.54101562e-02 -1.23901367e-02  1.19628906e-01\n",
      "  7.44628906e-03 -9.03320312e-03  1.14257812e-01  1.69921875e-01\n",
      " -2.38281250e-01 -2.79541016e-02 -1.21093750e-01  2.47802734e-02\n",
      "  7.71484375e-02 -2.81982422e-02 -4.71191406e-02  1.78222656e-02\n",
      " -1.23046875e-01 -5.32226562e-02  2.68554688e-02 -3.11279297e-02\n",
      " -5.59082031e-02 -5.00488281e-02 -3.73535156e-02  1.25976562e-01\n",
      "  5.61523438e-02  1.51367188e-01  4.29687500e-02 -2.08007812e-01\n",
      " -4.78515625e-02  2.78320312e-02  1.81640625e-01  2.20703125e-01\n",
      " -3.61328125e-02 -8.39843750e-02 -3.69548798e-05 -9.52148438e-02\n",
      " -1.25000000e-01 -1.95312500e-01 -1.50390625e-01 -4.15039062e-02\n",
      "  1.31835938e-01  1.17675781e-01  1.91650391e-02  5.51757812e-02\n",
      " -9.42382812e-02 -1.08886719e-01  7.32421875e-02 -1.15234375e-01\n",
      "  8.93554688e-02 -1.40625000e-01  1.45507812e-01  4.49218750e-02\n",
      " -1.10473633e-02 -1.62353516e-02  4.05883789e-03  3.75976562e-02\n",
      " -6.98242188e-02 -5.46875000e-02  2.17285156e-02 -9.47265625e-02\n",
      "  4.24804688e-02  1.81884766e-02 -1.73339844e-02  4.63867188e-02\n",
      " -1.42578125e-01  1.99218750e-01  1.10839844e-01  2.58789062e-02\n",
      " -7.08007812e-02 -5.54199219e-02  3.45703125e-01  1.61132812e-01\n",
      " -2.44140625e-01 -2.59765625e-01 -9.71679688e-02  8.00781250e-02\n",
      " -8.78906250e-02 -7.22656250e-02  1.42578125e-01 -8.54492188e-02\n",
      " -3.18359375e-01  8.30078125e-02  6.34765625e-02  1.64062500e-01\n",
      " -1.92382812e-01 -1.17675781e-01 -5.41992188e-02 -1.56250000e-01\n",
      " -1.21582031e-01 -4.95605469e-02  1.20117188e-01 -3.83300781e-02\n",
      "  5.51757812e-02 -8.97216797e-03  4.32128906e-02  6.93359375e-02\n",
      "  8.93554688e-02  2.53906250e-01  1.65039062e-01  1.64062500e-01\n",
      " -1.41601562e-01  4.58984375e-02  1.97265625e-01 -8.98437500e-02\n",
      "  3.90625000e-02 -1.51367188e-01 -8.60595703e-03 -1.17675781e-01\n",
      " -1.97265625e-01 -1.12792969e-01  1.29882812e-01  1.96289062e-01\n",
      "  1.56402588e-03  3.93066406e-02  2.17773438e-01 -1.43554688e-01\n",
      "  6.03027344e-02 -1.35742188e-01  1.16210938e-01 -1.59912109e-02\n",
      "  2.79296875e-01  1.46484375e-01 -1.19628906e-01  1.76757812e-01\n",
      "  1.28906250e-01 -1.49414062e-01  6.93359375e-02 -1.72851562e-01\n",
      "  9.22851562e-02  1.33056641e-02 -2.00195312e-01 -9.76562500e-02\n",
      " -1.65039062e-01 -2.46093750e-01 -2.35595703e-02 -2.11914062e-01\n",
      "  1.84570312e-01 -1.85546875e-02  2.16796875e-01  5.05371094e-02\n",
      "  2.02636719e-02  4.25781250e-01  1.28906250e-01 -2.77099609e-02\n",
      "  1.29882812e-01 -1.15722656e-01 -2.05078125e-02  1.49414062e-01\n",
      "  7.81250000e-03 -2.05078125e-01 -8.05664062e-02 -2.67578125e-01\n",
      " -2.29492188e-02 -8.20312500e-02  8.64257812e-02  7.61718750e-02\n",
      " -3.66210938e-02  5.22460938e-02 -1.22070312e-01 -1.44042969e-02\n",
      " -2.69531250e-01  8.44726562e-02 -2.52685547e-02 -2.96630859e-02\n",
      " -1.68945312e-01  1.93359375e-01 -1.08398438e-01  1.94091797e-02\n",
      " -1.80664062e-01  1.93359375e-01 -7.08007812e-02  5.85937500e-02\n",
      " -1.01562500e-01 -1.31835938e-01  7.51953125e-02 -7.66601562e-02\n",
      "  3.37219238e-03 -8.59375000e-02  1.25000000e-01  2.92968750e-02\n",
      "  1.70898438e-01 -9.37500000e-02 -1.09375000e-01 -2.50244141e-02\n",
      "  2.11914062e-01 -4.44335938e-02  6.12792969e-02  2.62451172e-02\n",
      " -1.77734375e-01  1.23046875e-01 -7.42187500e-02 -1.67968750e-01\n",
      " -1.08886719e-01 -9.04083252e-04 -7.37304688e-02  5.49316406e-02\n",
      "  6.03027344e-02  8.39843750e-02  9.17968750e-02 -1.32812500e-01\n",
      "  1.22070312e-01 -8.78906250e-03  1.19140625e-01 -1.94335938e-01\n",
      " -6.64062500e-02 -2.07031250e-01  7.37304688e-02  8.93554688e-02\n",
      "  1.81884766e-02 -1.20605469e-01 -2.61230469e-02  2.67333984e-02\n",
      "  7.76367188e-02 -8.30078125e-02  6.78710938e-02 -3.54003906e-02\n",
      "  3.10546875e-01 -2.42919922e-02 -1.41601562e-01 -2.08007812e-01\n",
      " -4.57763672e-03 -6.54296875e-02 -4.95605469e-02  2.22656250e-01\n",
      "  1.53320312e-01 -1.38671875e-01 -5.24902344e-02  4.24804688e-02\n",
      " -2.38281250e-01  1.56250000e-01  5.83648682e-04 -1.20605469e-01\n",
      " -9.22851562e-02 -4.44335938e-02  3.61328125e-02 -1.86767578e-02\n",
      " -8.25195312e-02 -8.25195312e-02 -4.05273438e-02  1.19018555e-02\n",
      "  1.69921875e-01 -2.80761719e-02  3.03649902e-03  9.32617188e-02\n",
      " -8.49609375e-02  1.57470703e-02  7.03125000e-02  1.62353516e-02\n",
      " -2.27050781e-02  3.51562500e-02  2.47070312e-01 -2.67333984e-02]\n"
     ]
    }
   ],
   "source": [
    "from gensim.models import KeyedVectors\n",
    "\n",
    "path = 'data/GoogleNews-vectors-negative300.bin'\n",
    "# The vectors can also be instantiated from an existing file on disk in the original Google’s word2vec C format as a KeyedVectors instance\n",
    "word_vectors = KeyedVectors.load_word2vec_format(path, binary=True)  # C bin format\n",
    "vector = word_vectors['United_States']\n",
    "print(vector)"
   ]
  },
  {
   "cell_type": "markdown",
   "metadata": {},
   "source": [
    "### 61.単語の類似度\n",
    "“United States”と”U.S.”のコサイン類似度を計算せよ．"
   ]
  },
  {
   "cell_type": "code",
   "execution_count": 14,
   "metadata": {},
   "outputs": [
    {
     "name": "stdout",
     "output_type": "stream",
     "text": [
      "0.73107743\n"
     ]
    }
   ],
   "source": [
    "cosine_similarity = word_vectors.n_similarity(['United_States'], ['U.S.'])\n",
    "print(cosine_similarity)"
   ]
  },
  {
   "cell_type": "markdown",
   "metadata": {},
   "source": [
    "### 62.類似度の高い単語10件\n",
    "“United States”とコサイン類似度が高い10語と，その類似度を出力せよ．"
   ]
  },
  {
   "cell_type": "code",
   "execution_count": 19,
   "metadata": {},
   "outputs": [
    {
     "name": "stdout",
     "output_type": "stream",
     "text": [
      "[('Unites_States', 0.7877248525619507),\n",
      " ('Untied_States', 0.7541370391845703),\n",
      " ('United_Sates', 0.74007248878479),\n",
      " ('U.S.', 0.7310774326324463),\n",
      " ('theUnited_States', 0.6404393911361694),\n",
      " ('America', 0.6178410053253174),\n",
      " ('UnitedStates', 0.6167312264442444),\n",
      " ('Europe', 0.6132988929748535),\n",
      " ('countries', 0.6044804453849792),\n",
      " ('Canada', 0.6019070148468018)]\n"
     ]
    }
   ],
   "source": [
    "from pprint import pprint\n",
    "most_similar_10_word = word_vectors.most_similar(positive=['United_States'], topn=10)\n",
    "pprint(most_similar_10_word)"
   ]
  },
  {
   "cell_type": "markdown",
   "metadata": {},
   "source": [
    "### 63.加法構成性によるアナロジー\n",
    "“Spain”の単語ベクトルから”Madrid”のベクトルを引き，”Athens”のベクトルを足したベクトルを計算し，そのベクトルと類似度の高い10語とその類似度を出力せよ．"
   ]
  },
  {
   "cell_type": "code",
   "execution_count": 16,
   "metadata": {},
   "outputs": [
    {
     "name": "stdout",
     "output_type": "stream",
     "text": [
      "[('Athens', 0.7528455853462219),\n",
      " ('Greece', 0.6685472726821899),\n",
      " ('Aristeidis_Grigoriadis', 0.5495778322219849),\n",
      " ('Ioannis_Drymonakos', 0.5361456871032715),\n",
      " ('Greeks', 0.5351786613464355),\n",
      " ('Ioannis_Christou', 0.5330226421356201),\n",
      " ('Hrysopiyi_Devetzi', 0.5088489055633545),\n",
      " ('Iraklion', 0.5059264898300171),\n",
      " ('Greek', 0.5040615797042847),\n",
      " ('Athens_Greece', 0.5034109354019165)]\n"
     ]
    }
   ],
   "source": [
    "from pprint import pprint\n",
    "\n",
    "spain = word_vectors['Spain']\n",
    "madrid = word_vectors['Madrid']\n",
    "athens = word_vectors['Athens']\n",
    "\n",
    "new_vec = spain - madrid + athens\n",
    "\n",
    "most_similar_10_word = word_vectors.similar_by_vector(new_vec, topn=10)\n",
    "pprint(most_similar_10_word)"
   ]
  },
  {
   "cell_type": "markdown",
   "metadata": {},
   "source": [
    "### 64.アナロジーデータでの実験\n",
    "単語アナロジーの評価データをダウンロードし，vec(2列目の単語) - vec(1列目の単語) + vec(3列目の単語)を計算し，そのベクトルと類似度が最も高い単語と，その類似度を求めよ．求めた単語と類似度は，各事例の末尾に追記せよ．"
   ]
  },
  {
   "cell_type": "markdown",
   "metadata": {},
   "source": [
    "#### カテゴリーの種類\n",
    "意味カテゴリ  \n",
    ": capital-common-countries  \n",
    ": capital-world  \n",
    ": currency  \n",
    ": city-in-state  \n",
    ": family  \n",
    "文法カテゴリ  \n",
    ": gram1-adjective-to-adverb  \n",
    ": gram2-opposite  \n",
    ": gram3-comparative  \n",
    ": gram4-superlative  \n",
    ": gram5-present-participle  \n",
    ": gram6-nationality-adjective  \n",
    ": gram7-past-tense  \n",
    ": gram8-plural  \n",
    ": gram9-plural-verbs  "
   ]
  },
  {
   "cell_type": "code",
   "execution_count": 28,
   "metadata": {},
   "outputs": [
    {
     "name": "stdout",
     "output_type": "stream",
     "text": [
      "   19558 data/questions-words.txt\n"
     ]
    }
   ],
   "source": [
    "!wc -l data/questions-words.txt"
   ]
  },
  {
   "cell_type": "code",
   "execution_count": 70,
   "metadata": {},
   "outputs": [
    {
     "name": "stderr",
     "output_type": "stream",
     "text": [
      "19558it [8:57:14,  1.65s/it]  \n"
     ]
    }
   ],
   "source": [
    "from itertools import islice\n",
    "import pandas as pd\n",
    "from tqdm import tqdm\n",
    "\n",
    "with open('data/questions-words.txt','r') as f:\n",
    "    dic_sem, dic_syn = [], []\n",
    "    for l in tqdm(f):\n",
    "        \n",
    "        if l.startswith(':'):\n",
    "            category = l.strip(':\\n ')\n",
    "            \n",
    "        else:\n",
    "            words = l.strip().split(' ')\n",
    "            similar_word = word_vectors.most_similar(positive=[words[1], words[2]], negative=[words[0]], topn=1)\n",
    "            \n",
    "            if category.startswith('gram'):\n",
    "                dic_syn.append({'category': category, 'w1': words[0], 'w2': words[1], 'w3': words[2],\n",
    "                                'gold': words[3], 'pred': similar_word[0][0], 'similarity': similar_word[0][1]})\n",
    "            else:\n",
    "                dic_sem.append({'category': category, 'w1': words[0], 'w2': words[1], 'w3': words[2],\n",
    "                                'gold': words[3], 'pred': similar_word[0][0], 'similarity': similar_word[0][1]})\n",
    "    \n",
    "    df_sem, df_syn = pd.DataFrame(dic_sem), pd.DataFrame(dic_syn)\n",
    "    df_syn.to_csv('data/Q64_syn.csv')\n",
    "    df_sem.to_csv('data/Q64_sem.csv')"
   ]
  },
  {
   "cell_type": "code",
   "execution_count": 76,
   "metadata": {},
   "outputs": [
    {
     "name": "stdout",
     "output_type": "stream",
     "text": [
      "                    category       w1         w2         w3         gold  \\\n",
      "0  gram1-adjective-to-adverb  amazing  amazingly   apparent   apparently   \n",
      "1  gram1-adjective-to-adverb  amazing  amazingly       calm       calmly   \n",
      "2  gram1-adjective-to-adverb  amazing  amazingly   cheerful   cheerfully   \n",
      "3  gram1-adjective-to-adverb  amazing  amazingly   complete   completely   \n",
      "4  gram1-adjective-to-adverb  amazing  amazingly  efficient  efficiently   \n",
      "\n",
      "                    pred  similarity  \n",
      "0             apparently    0.481730  \n",
      "1                   Calm    0.557637  \n",
      "2          irrepressibly    0.593142  \n",
      "3             completing    0.463903  \n",
      "4  market_hypothesis_EMH    0.545214  \n"
     ]
    }
   ],
   "source": [
    "print(df_syn[:5])"
   ]
  },
  {
   "cell_type": "code",
   "execution_count": 78,
   "metadata": {},
   "outputs": [
    {
     "name": "stdout",
     "output_type": "stream",
     "text": [
      "                   category      w1      w2       w3         gold  \\\n",
      "0  capital-common-countries  Athens  Greece  Baghdad         Iraq   \n",
      "1  capital-common-countries  Athens  Greece  Bangkok     Thailand   \n",
      "2  capital-common-countries  Athens  Greece  Beijing        China   \n",
      "3  capital-common-countries  Athens  Greece   Berlin      Germany   \n",
      "4  capital-common-countries  Athens  Greece     Bern  Switzerland   \n",
      "\n",
      "          pred  similarity  \n",
      "0        Iraqi    0.635187  \n",
      "1     Thailand    0.713767  \n",
      "2        China    0.723578  \n",
      "3      Germany    0.673462  \n",
      "4  Switzerland    0.491975  \n"
     ]
    }
   ],
   "source": [
    "print(df_sem[:5])"
   ]
  },
  {
   "cell_type": "markdown",
   "metadata": {},
   "source": [
    "### 65.アナロジータスクでの正解率\n",
    "64の実行結果を用い，意味的アナロジー（semantic analogy）と文法的アナロジー（syntactic analogy）の正解率を測定せよ．"
   ]
  },
  {
   "cell_type": "code",
   "execution_count": 114,
   "metadata": {},
   "outputs": [],
   "source": [
    "from pandas import read_csv\n",
    "from itertools import islice\n",
    "\n",
    "def get_accuracy(file):\n",
    "    df = read_csv(file)\n",
    "    correct_count = 0\n",
    "    all_count = 0\n",
    "    for i, data in df.iterrows():\n",
    "        all_count += 1\n",
    "        if data['pred'] == data['gold']:\n",
    "            correct_count += 1\n",
    "    return correct_count / all_count"
   ]
  },
  {
   "cell_type": "code",
   "execution_count": 115,
   "metadata": {},
   "outputs": [
    {
     "data": {
      "text/plain": [
       "0.7308602999210734"
      ]
     },
     "execution_count": 115,
     "metadata": {},
     "output_type": "execute_result"
    }
   ],
   "source": [
    "get_accuracy('data/Q64_sem.csv')"
   ]
  },
  {
   "cell_type": "code",
   "execution_count": 116,
   "metadata": {},
   "outputs": [
    {
     "data": {
      "text/plain": [
       "0.7400468384074942"
      ]
     },
     "execution_count": 116,
     "metadata": {},
     "output_type": "execute_result"
    }
   ],
   "source": [
    "get_accuracy('data/Q64_syn.csv')"
   ]
  },
  {
   "cell_type": "markdown",
   "metadata": {},
   "source": [
    "### 66.WordSimilarity-353での評価\n",
    "The WordSimilarity-353 Test Collectionの評価データをダウンロードし，単語ベクトルにより計算される類似度のランキングと，人間の類似度判定のランキングの間のスピアマン相関係数を計算せよ．"
   ]
  },
  {
   "cell_type": "code",
   "execution_count": 119,
   "metadata": {},
   "outputs": [
    {
     "name": "stdout",
     "output_type": "stream",
     "text": [
      "Archive:  data/wordsim353.zip\n",
      "  inflating: data/combined.csv       \n",
      "  inflating: data/set1.csv           \n",
      "  inflating: data/set2.csv           \n",
      "  inflating: data/combined.tab       \n",
      "  inflating: data/set1.tab           \n",
      "  inflating: data/set2.tab           \n",
      "  inflating: data/instructions.txt   \n"
     ]
    }
   ],
   "source": [
    "! unzip data/wordsim353.zip  -d data"
   ]
  },
  {
   "cell_type": "code",
   "execution_count": 244,
   "metadata": {},
   "outputs": [
    {
     "name": "stdout",
     "output_type": "stream",
     "text": [
      "スピアマン相関係数： 0.7000166486272194\n",
      "p値： 2.86866666051422e-53\n"
     ]
    }
   ],
   "source": [
    "from csv import reader\n",
    "from itertools import islice\n",
    "from scipy.stats import spearmanr\n",
    "\n",
    "with open('data/combined.csv','r') as csvfile: \n",
    "    df = read_csv(csvfile)\n",
    "    df['similarity'] = 0\n",
    "    \n",
    "    for i, data in df.iterrows():\n",
    "        similarity = word_vectors.similarity(data['Word 1'], data['Word 2'])\n",
    "        df.iloc[i, 3] = similarity\n",
    "    \n",
    "    ranking = df.rank(ascending=False)    \n",
    "    corr, p = spearmanr(ranking['Human (mean)'], ranking['similarity'])\n",
    "    \n",
    "    print(f'スピアマン相関係数： {corr}')\n",
    "    print(f'p値： {p}')"
   ]
  },
  {
   "cell_type": "code",
   "execution_count": 241,
   "metadata": {},
   "outputs": [
    {
     "name": "stdout",
     "output_type": "stream",
     "text": [
      "0.2639377\n"
     ]
    }
   ],
   "source": [
    "print(word_vectors.similarity('love','sex'))"
   ]
  },
  {
   "cell_type": "code",
   "execution_count": 142,
   "metadata": {},
   "outputs": [
    {
     "name": "stderr",
     "output_type": "stream",
     "text": [
      "/Users/seiya.k/.pyenv/versions/anaconda3-5.3.0/lib/python3.7/site-packages/ipykernel_launcher.py:1: DeprecationWarning: Call to deprecated `wv` (Attribute will be removed in 4.0.0, use self instead).\n",
      "  \"\"\"Entry point for launching an IPython kernel.\n"
     ]
    },
    {
     "name": "stdout",
     "output_type": "stream",
     "text": [
      "SpearmanrResult(correlation=0.6589215888009288, pvalue=2.5346056459149263e-45)\n"
     ]
    }
   ],
   "source": [
    "print(word_vectors.wv.evaluate_word_pairs('data/combined.tab')[1])"
   ]
  },
  {
   "cell_type": "markdown",
   "metadata": {},
   "source": [
    "### 67.k-meansクラスタリング\n",
    "国名に関する単語ベクトルを抽出し，k-meansクラスタリングをクラスタ数k=5として実行せよ．"
   ]
  },
  {
   "cell_type": "code",
   "execution_count": 2,
   "metadata": {},
   "outputs": [
    {
     "name": "stdout",
     "output_type": "stream",
     "text": [
      "{'Greece', 'Croatia', 'Fiji', 'Nigeria', 'Turkmenistan', 'Greenland', 'Laos', 'Dominica', 'Italy', 'Malawi', 'Poland', 'Egypt', 'Denmark', 'Finland', 'Peru', 'Ghana', 'Syria', 'France', 'Tuvalu', 'Albania', 'Uganda', 'England', 'Portugal', 'Kyrgyzstan', 'Mali', 'Tajikistan', 'China', 'Jamaica', 'Botswana', 'Kazakhstan', 'Sweden', 'Spain', 'Kenya', 'Austria', 'Somalia', 'Belarus', 'Nicaragua', 'Bahrain', 'Rwanda', 'Mauritania', 'Ukraine', 'Azerbaijan', 'Germany', 'Suriname', 'Taiwan', 'Pakistan', 'Lithuania', 'Ireland', 'Mozambique', 'Afghanistan', 'Belgium', 'Angola', 'Romania', 'Bulgaria', 'Nepal', 'Turkey', 'Japan', 'Latvia', 'Liberia', 'Morocco', 'Cyprus', 'Bangladesh', 'Moldova', 'Qatar', 'Vietnam', 'Sudan', 'Canada', 'Tunisia', 'Uruguay', 'Slovenia', 'Uzbekistan', 'Libya', 'Bahamas', 'Lebanon', 'Philippines', 'Guinea', 'Georgia', 'Niger', 'Madagascar', 'Honduras', 'Gabon', 'Iran', 'Gambia', 'Venezuela', 'Chile', 'Australia', 'Hungary', 'Serbia', 'Russia', 'Bhutan', 'Jordan', 'Montenegro', 'Malta', 'Cuba', 'Namibia', 'Slovakia', 'Iraq', 'Liechtenstein', 'Eritrea', 'Indonesia', 'Oman', 'Belize', 'Algeria', 'Armenia', 'Switzerland', 'Macedonia', 'Guyana', 'Samoa', 'Estonia', 'Zimbabwe', 'Senegal', 'Norway', 'Burundi', 'Zambia', 'Thailand', 'Ecuador'}\n"
     ]
    }
   ],
   "source": [
    "from pandas import read_csv\n",
    "\n",
    "with open('data/Q64_sem.csv','r') as csv:\n",
    "    df = read_csv(csv)\n",
    "    new_df1 = df.query('category == \"capital-world\"')\n",
    "    new_df2 = df.query('category == \"capital-common-countries\"')\n",
    "    countries = set(new_df1['w2']) | set(new_df1['gold']) | set(new_df2['w2']) | set(new_df2['gold'])\n",
    "    print(countries)"
   ]
  },
  {
   "cell_type": "code",
   "execution_count": 323,
   "metadata": {},
   "outputs": [],
   "source": [
    "from sklearn.cluster import KMeans\n",
    "\n",
    "country_vecs = [word_vectors[c] for c in countries]\n",
    "cluster = KMeans(n_clusters=5)\n",
    "result = cluster.fit(country_vecs)"
   ]
  },
  {
   "cell_type": "code",
   "execution_count": 327,
   "metadata": {},
   "outputs": [
    {
     "name": "stdout",
     "output_type": "stream",
     "text": [
      "{0: ['Thailand',\n",
      "     'Laos',\n",
      "     'Vietnam',\n",
      "     'Bhutan',\n",
      "     'Taiwan',\n",
      "     'Bangladesh',\n",
      "     'Indonesia',\n",
      "     'Philippines',\n",
      "     'Nepal',\n",
      "     'Japan',\n",
      "     'China'],\n",
      " 1: ['Syria',\n",
      "     'Germany',\n",
      "     'Austria',\n",
      "     'Turkey',\n",
      "     'England',\n",
      "     'Algeria',\n",
      "     'Lebanon',\n",
      "     'Bahrain',\n",
      "     'Afghanistan',\n",
      "     'Greece',\n",
      "     'Pakistan',\n",
      "     'Jordan',\n",
      "     'Egypt',\n",
      "     'Qatar',\n",
      "     'Malta',\n",
      "     'Belgium',\n",
      "     'Greenland',\n",
      "     'Spain',\n",
      "     'Oman',\n",
      "     'Morocco',\n",
      "     'Australia',\n",
      "     'Italy',\n",
      "     'Portugal',\n",
      "     'Denmark',\n",
      "     'Iran',\n",
      "     'Sweden',\n",
      "     'Iraq',\n",
      "     'Ireland',\n",
      "     'France',\n",
      "     'Canada',\n",
      "     'Norway',\n",
      "     'Libya',\n",
      "     'Tunisia',\n",
      "     'Liechtenstein',\n",
      "     'Switzerland'],\n",
      " 2: ['Kenya',\n",
      "     'Gabon',\n",
      "     'Somalia',\n",
      "     'Rwanda',\n",
      "     'Burundi',\n",
      "     'Ghana',\n",
      "     'Zimbabwe',\n",
      "     'Namibia',\n",
      "     'Senegal',\n",
      "     'Gambia',\n",
      "     'Madagascar',\n",
      "     'Uganda',\n",
      "     'Eritrea',\n",
      "     'Malawi',\n",
      "     'Mauritania',\n",
      "     'Mozambique',\n",
      "     'Zambia',\n",
      "     'Mali',\n",
      "     'Niger',\n",
      "     'Nigeria',\n",
      "     'Guinea',\n",
      "     'Angola',\n",
      "     'Sudan',\n",
      "     'Botswana',\n",
      "     'Liberia'],\n",
      " 3: ['Croatia',\n",
      "     'Cyprus',\n",
      "     'Lithuania',\n",
      "     'Slovenia',\n",
      "     'Finland',\n",
      "     'Poland',\n",
      "     'Macedonia',\n",
      "     'Uzbekistan',\n",
      "     'Estonia',\n",
      "     'Ukraine',\n",
      "     'Armenia',\n",
      "     'Montenegro',\n",
      "     'Hungary',\n",
      "     'Bulgaria',\n",
      "     'Turkmenistan',\n",
      "     'Azerbaijan',\n",
      "     'Kyrgyzstan',\n",
      "     'Serbia',\n",
      "     'Slovakia',\n",
      "     'Latvia',\n",
      "     'Romania',\n",
      "     'Russia',\n",
      "     'Belarus',\n",
      "     'Georgia',\n",
      "     'Moldova',\n",
      "     'Kazakhstan',\n",
      "     'Tajikistan',\n",
      "     'Albania'],\n",
      " 4: ['Ecuador',\n",
      "     'Suriname',\n",
      "     'Nicaragua',\n",
      "     'Cuba',\n",
      "     'Uruguay',\n",
      "     'Honduras',\n",
      "     'Tuvalu',\n",
      "     'Venezuela',\n",
      "     'Samoa',\n",
      "     'Dominica',\n",
      "     'Fiji',\n",
      "     'Bahamas',\n",
      "     'Guyana',\n",
      "     'Jamaica',\n",
      "     'Belize',\n",
      "     'Peru',\n",
      "     'Chile']}\n"
     ]
    }
   ],
   "source": [
    "from pprint import pprint\n",
    "\n",
    "d = {i: [] for i in range(5)}\n",
    "for c, label in zip(countries, result.labels_):\n",
    "    d[label].append(c)\n",
    "pprint(d)"
   ]
  },
  {
   "cell_type": "markdown",
   "metadata": {},
   "source": [
    "### 68.Ward法によるクラスタリング\n",
    "国名に関する単語ベクトルに対し，Ward法による階層型クラスタリングを実行せよ．さらに，クラスタリング結果をデンドログラムとして可視化せよ．"
   ]
  },
  {
   "cell_type": "code",
   "execution_count": 10,
   "metadata": {},
   "outputs": [
    {
     "data": {
      "image/png": "[encoded data removed]",
      "text/plain": [
       "<Figure size 1080x360 with 1 Axes>"
      ]
     },
     "metadata": {},
     "output_type": "display_data"
    }
   ],
   "source": [
    "import matplotlib.pyplot as plt\n",
    "from scipy.cluster.hierarchy import dendrogram, linkage, set_link_color_palette\n",
    "from scipy.cluster import hierarchy\n",
    "\n",
    "country_vecs = [word_vectors[c] for c in countries]\n",
    "result = linkage(country_vecs, method='ward')\n",
    "\n",
    "hierarchy.set_link_color_palette(['m', 'c', 'y', 'k'])\n",
    "# hierarchy.set_link_color_palette(None)\n",
    "fig = plt.figure(figsize=(15, 5))\n",
    "font = plt.rcParams['font.size'] = 22\n",
    "\n",
    "dendro = dendrogram(result, labels=list(countries))"
   ]
  },
  {
   "cell_type": "markdown",
   "metadata": {},
   "source": [
    "### 69.t-SNEによる可視化\n",
    "ベクトル空間上の国名に関する単語ベクトルをt-SNEで可視化せよ"
   ]
  },
  {
   "cell_type": "code",
   "execution_count": 11,
   "metadata": {},
   "outputs": [
    {
     "name": "stdout",
     "output_type": "stream",
     "text": [
      "116\n",
      "(116, 2)\n"
     ]
    }
   ],
   "source": [
    "from sklearn.manifold import TSNE\n",
    "\n",
    "embeds = TSNE().fit_transform(country_vecs)\n",
    "\n",
    "print(len(country_vecs))\n",
    "print(embeds.shape)"
   ]
  },
  {
   "cell_type": "code",
   "execution_count": 29,
   "metadata": {},
   "outputs": [
    {
     "data": {
      "image/png": "[encoded data removed]",
      "text/plain": [
       "<Figure size 720x360 with 1 Axes>"
      ]
     },
     "metadata": {},
     "output_type": "display_data"
    }
   ],
   "source": [
    "import matplotlib.pyplot as plt\n",
    "import seaborn as sns\n",
    "\n",
    "sns.set()\n",
    "sns.set_palette('viridis') \n",
    "fig = plt.figure(figsize=(10, 5))\n",
    "\n",
    "plt.scatter(embeds[:, 0], embeds[:, 1], s=15, alpha=0.5, linewidths=1.0)\n",
    "plt.show()"
   ]
  },
  {
   "cell_type": "code",
   "execution_count": null,
   "metadata": {},
   "outputs": [],
   "source": []
  }
 ],
 "metadata": {
  "kernelspec": {
   "display_name": "Python 3",
   "language": "python",
   "name": "python3"
  },
  "language_info": {
   "codemirror_mode": {
    "name": "ipython",
    "version": 3
   },
   "file_extension": ".py",
   "mimetype": "text/x-python",
   "name": "python",
   "nbconvert_exporter": "python",
   "pygments_lexer": "ipython3",
   "version": "3.7.7"
  }
 },
 "nbformat": 4,
 "nbformat_minor": 4
}
