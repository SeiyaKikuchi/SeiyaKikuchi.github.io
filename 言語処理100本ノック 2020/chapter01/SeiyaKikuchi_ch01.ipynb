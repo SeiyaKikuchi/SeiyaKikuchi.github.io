{
 "cells": [
  {
   "cell_type": "markdown",
   "metadata": {},
   "source": [
    "### 00.文字列の逆順  \n",
    "文字列”stressed”の文字を逆に（末尾から先頭に向かって）並べた文字列を得よ．"
   ]
  },
  {
   "cell_type": "code",
   "execution_count": 148,
   "metadata": {},
   "outputs": [],
   "source": [
    "text = \"stressed\""
   ]
  },
  {
   "cell_type": "markdown",
   "metadata": {},
   "source": [
    "for文で足し合わせる"
   ]
  },
  {
   "cell_type": "code",
   "execution_count": 149,
   "metadata": {},
   "outputs": [
    {
     "name": "stdout",
     "output_type": "stream",
     "text": [
      "desserts\n"
     ]
    }
   ],
   "source": [
    "reversed_text = \"\"\n",
    "for i in range(len(text)):\n",
    "    reversed_text += text[len(text) - i - 1]\n",
    "print(reversed_text)"
   ]
  },
  {
   "cell_type": "markdown",
   "metadata": {},
   "source": [
    "listにしてreverseを使う"
   ]
  },
  {
   "cell_type": "code",
   "execution_count": 150,
   "metadata": {},
   "outputs": [
    {
     "data": {
      "text/plain": [
       "'desserts'"
      ]
     },
     "execution_count": 150,
     "metadata": {},
     "output_type": "execute_result"
    }
   ],
   "source": [
    "text_list = [i for i in text]\n",
    "text_list.reverse()\n",
    "''.join(text_list)"
   ]
  },
  {
   "cell_type": "markdown",
   "metadata": {},
   "source": [
    "スライスを使う"
   ]
  },
  {
   "cell_type": "code",
   "execution_count": 151,
   "metadata": {},
   "outputs": [
    {
     "name": "stdout",
     "output_type": "stream",
     "text": [
      "desserts\n"
     ]
    }
   ],
   "source": [
    "print(text[::-1])"
   ]
  },
  {
   "cell_type": "markdown",
   "metadata": {},
   "source": [
    "### 01.「パタトクカシーー」  \n",
    "「パタトクカシーー」という文字列の1,3,5,7文字目を取り出して連結した文字列を得よ．"
   ]
  },
  {
   "cell_type": "code",
   "execution_count": 152,
   "metadata": {},
   "outputs": [],
   "source": [
    "katakana_text = 'パタトクカシーー'"
   ]
  },
  {
   "cell_type": "code",
   "execution_count": 153,
   "metadata": {},
   "outputs": [
    {
     "data": {
      "text/plain": [
       "'パトカー'"
      ]
     },
     "execution_count": 153,
     "metadata": {},
     "output_type": "execute_result"
    }
   ],
   "source": [
    "katakana_list = []\n",
    "for idx, katakana in enumerate(katakana_text):\n",
    "    if idx % 2 == 0:\n",
    "        katakana_list.append(katakana)\n",
    "    if idx % 2 != 0:\n",
    "        pass\n",
    "''.join(katakana_list)"
   ]
  },
  {
   "cell_type": "markdown",
   "metadata": {},
   "source": [
    "1文字飛ばしのスライス"
   ]
  },
  {
   "cell_type": "code",
   "execution_count": 154,
   "metadata": {},
   "outputs": [
    {
     "name": "stdout",
     "output_type": "stream",
     "text": [
      "パトカー\n"
     ]
    }
   ],
   "source": [
    "print(katakana_text[::2])"
   ]
  },
  {
   "cell_type": "markdown",
   "metadata": {},
   "source": [
    "### 02.「パトカー」＋「タクシー」＝「パタトクカシーー」  \n",
    "「パトカー」＋「タクシー」の文字を先頭から交互に連結して文字列「パタトクカシーー」を得よ．"
   ]
  },
  {
   "cell_type": "code",
   "execution_count": 155,
   "metadata": {},
   "outputs": [
    {
     "name": "stdout",
     "output_type": "stream",
     "text": [
      "パタトクカシーー\n"
     ]
    }
   ],
   "source": [
    "patocar = 'パトカー'\n",
    "taxi = 'タクシー'\n",
    "result_list = []\n",
    "if len(patocar) == len(taxi):\n",
    "    length = len(patocar)\n",
    "    for i in range(length):\n",
    "        result_list.append(patocar[i])\n",
    "        result_list.append(taxi[i])\n",
    "result_sentence = ''.join(result_list)\n",
    "print(result_sentence)"
   ]
  },
  {
   "cell_type": "markdown",
   "metadata": {},
   "source": [
    "zipを使ったエレガントな例(悔しーっ!!)\n",
    "zip関数は今後よく使う(よく使え!!)"
   ]
  },
  {
   "cell_type": "code",
   "execution_count": 156,
   "metadata": {},
   "outputs": [
    {
     "data": {
      "text/plain": [
       "'パタトクカシーー'"
      ]
     },
     "execution_count": 156,
     "metadata": {},
     "output_type": "execute_result"
    }
   ],
   "source": [
    "''.join([a+b for a, b in zip(patocar, taxi)])"
   ]
  },
  {
   "cell_type": "markdown",
   "metadata": {},
   "source": [
    "ジェネレータを使った解放(未解決)"
   ]
  },
  {
   "cell_type": "code",
   "execution_count": 157,
   "metadata": {},
   "outputs": [
    {
     "name": "stdout",
     "output_type": "stream",
     "text": [
      "パタトクカシーー\n"
     ]
    }
   ],
   "source": [
    "print(''.join(a+b for a, b in zip(patocar, taxi)))"
   ]
  },
  {
   "cell_type": "markdown",
   "metadata": {},
   "source": [
    "resuce関数を使う例(ナカムラユウキさん)\n",
    "ラムダ式で関数を作って、reduceに渡す\n",
    "=>ラムダ式をもっと気軽に使えるようにならないと\n",
    "reduce関数は自前の関数とは相性はよくない(ヤマグチさん)\n",
    "=>python自体に備わった関数のときは、とっても早い"
   ]
  },
  {
   "cell_type": "code",
   "execution_count": 158,
   "metadata": {},
   "outputs": [
    {
     "name": "stdout",
     "output_type": "stream",
     "text": [
      "パタトクカシーー\n"
     ]
    }
   ],
   "source": [
    "from functools import reduce\n",
    "\n",
    "text_a = \"パトカー\"\n",
    "text_b = \"タクシー\"\n",
    "s = reduce(lambda word, char_ab: word + ''.join(char_ab), zip(text_a, text_b), '')\n",
    "print(s)"
   ]
  },
  {
   "cell_type": "markdown",
   "metadata": {},
   "source": [
    "### 03.円周率  \n",
    "“Now I need a drink, alcoholic of course, after the heavy lectures involving quantum mechanics.”という文を単語に分解し，各単語の（アルファベットの）文字数を先頭から出現順に並べたリストを作成せよ．"
   ]
  },
  {
   "cell_type": "code",
   "execution_count": 159,
   "metadata": {},
   "outputs": [],
   "source": [
    "sentence = 'Now I need a drink, alcoholic of course, after the heavy lectures involving quantum mechanics.'"
   ]
  },
  {
   "cell_type": "markdown",
   "metadata": {},
   "source": [
    "カンマやピリオドを消した上でlenを取らないと、数字が円周率にならない。(詰めが甘いぞ!!)"
   ]
  },
  {
   "cell_type": "code",
   "execution_count": 160,
   "metadata": {},
   "outputs": [
    {
     "name": "stdout",
     "output_type": "stream",
     "text": [
      "[3, 1, 4, 1, 5, 9, 2, 6, 5, 3, 5, 8, 9, 7, 9]\n"
     ]
    }
   ],
   "source": [
    "phrase_list = sentence.split()\n",
    "circle_ratio = []\n",
    "for phrase in phrase_list:\n",
    "    phrase = phrase.strip(',.')\n",
    "    circle_ratio.append(len(phrase))\n",
    "print(circle_ratio)"
   ]
  },
  {
   "cell_type": "markdown",
   "metadata": {},
   "source": [
    "### 04.元素記号  \n",
    "“Hi He Lied Because Boron Could Not Oxidize Fluorine. New Nations Might Also Sign Peace Security Clause. Arthur King Can.”という文を単語に分解し，1, 5, 6, 7, 8, 9, 15, 16, 19番目の単語は先頭の1文字，それ以外の単語は先頭に2文字を取り出し，取り出した文字列から単語の位置（先頭から何番目の単語か）への連想配列（辞書型もしくはマップ型）を作成せよ．"
   ]
  },
  {
   "cell_type": "code",
   "execution_count": 161,
   "metadata": {},
   "outputs": [],
   "source": [
    "sentence = 'Hi He Lied Because Boron Could Not Oxidize Fluorine. New Nations Might Also Sign Peace Security Clause. Arthur King Can.'"
   ]
  },
  {
   "cell_type": "markdown",
   "metadata": {},
   "source": [
    "「1, 5, 6, 7, 8, 9, 15, 16, 19」という数字は、set型にした方が処理が早い、改めよう(未解決)"
   ]
  },
  {
   "cell_type": "code",
   "execution_count": 162,
   "metadata": {},
   "outputs": [
    {
     "name": "stdout",
     "output_type": "stream",
     "text": [
      "{1: 'H', 2: 'He', 3: 'Li', 4: 'Be', 5: 'B', 6: 'C', 7: 'N', 8: 'O', 9: 'F', 10: 'Ne', 11: 'Na', 12: 'Mi', 13: 'Al', 14: 'Si', 15: 'P', 16: 'S', 17: 'Cl', 18: 'Ar', 19: 'K', 20: 'Ca'}\n"
     ]
    }
   ],
   "source": [
    "sentence_list = sentence.split()\n",
    "periodic_table = {}\n",
    "idx_list = [1, 5, 6, 7, 8, 9, 15, 16, 19]\n",
    "\n",
    "for idx, txt in enumerate(sentence_list, 1):\n",
    "    if idx in idx_list :\n",
    "        periodic_table[idx] = txt[0]\n",
    "    else:\n",
    "        periodic_table[idx] = txt[:2]\n",
    "print(periodic_table)"
   ]
  },
  {
   "cell_type": "markdown",
   "metadata": {},
   "source": [
    "内包表記で1行で書ける!!ナカムラくんのを参考にやってみる"
   ]
  },
  {
   "cell_type": "code",
   "execution_count": null,
   "metadata": {},
   "outputs": [],
   "source": []
  },
  {
   "cell_type": "markdown",
   "metadata": {},
   "source": [
    "正規表現を使ってみる(正規表現は処理が重いから、やらない方がいいけれど-)"
   ]
  },
  {
   "cell_type": "code",
   "execution_count": 163,
   "metadata": {},
   "outputs": [],
   "source": [
    "#re.split()"
   ]
  },
  {
   "cell_type": "markdown",
   "metadata": {},
   "source": [
    "### 05.n-gram  \n",
    "与えられたシーケンス（文字列やリストなど）からn-gramを作る関数を作成せよ．この関数を用い，”I am an NLPer”という文から単語bi-gram，文字bi-gramを得よ．"
   ]
  },
  {
   "cell_type": "markdown",
   "metadata": {},
   "source": [
    "関数の引数とアウトプットには型を明記すると、みやすい。  \n",
    "def hoge(a :int, b :int) -> int:  のように。  \n",
    "dock stringもあると嬉しい。\n",
    "'''  \n",
    "Given the list of numbers, this function return...  \n",
    "'''  \n",
    "のように。"
   ]
  },
  {
   "cell_type": "code",
   "execution_count": 11,
   "metadata": {},
   "outputs": [],
   "source": [
    "def make_chr_n_gram(sentence, n):\n",
    "    sentence = sentence.replace(' ','')\n",
    "    return ' '.join([sentence[idx] + sentence[idx+1] for idx, txt in enumerate(sentence) if idx < len(sentence) - n + 1])"
   ]
  },
  {
   "cell_type": "code",
   "execution_count": 12,
   "metadata": {},
   "outputs": [],
   "source": [
    "def make_word_n_gram(sentence, n):\n",
    "    sentence = sentence.split(' ')\n",
    "    return ' '.join([sentence[idx] + sentence[idx+1] for idx, txt in enumerate(sentence) if idx < len(sentence) - n + 1])"
   ]
  },
  {
   "cell_type": "code",
   "execution_count": 14,
   "metadata": {},
   "outputs": [
    {
     "name": "stdout",
     "output_type": "stream",
     "text": [
      "Ia am ma an nN NL LP Pe er\n",
      "Iam aman anNLPer\n"
     ]
    }
   ],
   "source": [
    "print(make_chr_n_gram('I am an NLPer', 2))\n",
    "print(make_word_n_gram('I am an NLPer', 2))"
   ]
  },
  {
   "cell_type": "markdown",
   "metadata": {},
   "source": [
    "ジェネレータ関数で書くべき(yieldしよう)  \n",
    "・メモリにやさしい  \n",
    "・listを保持したくない  "
   ]
  },
  {
   "cell_type": "code",
   "execution_count": null,
   "metadata": {},
   "outputs": [],
   "source": []
  },
  {
   "cell_type": "markdown",
   "metadata": {},
   "source": [
    "zip関数で取り出す。  \n",
    "zip関数はすごく速いので、試そう。"
   ]
  },
  {
   "cell_type": "code",
   "execution_count": null,
   "metadata": {},
   "outputs": [],
   "source": []
  },
  {
   "cell_type": "markdown",
   "metadata": {},
   "source": [
    "iteratorにしてnextで取り出す。  \n",
    "itertoolsを使えるようになっておこう。  \n",
    "かのisliceもitertools。   \n",
    "groupbyが重宝する。"
   ]
  },
  {
   "cell_type": "code",
   "execution_count": null,
   "metadata": {},
   "outputs": [],
   "source": []
  },
  {
   "cell_type": "markdown",
   "metadata": {},
   "source": [
    "tools.sliding_windowを使ってみる"
   ]
  },
  {
   "cell_type": "code",
   "execution_count": null,
   "metadata": {},
   "outputs": [],
   "source": []
  },
  {
   "cell_type": "markdown",
   "metadata": {},
   "source": [
    "### 06.集合  \n",
    "“paraparaparadise”と”paragraph”に含まれる文字bi-gramの集合を，それぞれ, XとYとして求め，XとYの和集合，積集合，差集合を求めよ．さらに，’se’というbi-gramがXおよびYに含まれるかどうかを調べよ．"
   ]
  },
  {
   "cell_type": "code",
   "execution_count": 15,
   "metadata": {},
   "outputs": [
    {
     "name": "stdout",
     "output_type": "stream",
     "text": [
      "{'is', 'ad', 'ap', 'di', 'se', 'ar', 'ra', 'pa'}\n",
      "{'ag', 'ap', 'pa', 'ph', 'ar', 'ra', 'gr'}\n"
     ]
    }
   ],
   "source": [
    "txt_x, txt_y = 'paraparaparadise', 'paragraph'\n",
    "def make_bi_gram_set(sentence):\n",
    "    bi_gram_set = set()\n",
    "    [bi_gram_set.add(sentence[idx] + sentence[idx + 1]) for idx, txt in enumerate(sentence) if idx < len(sentence) - 1]\n",
    "    return bi_gram_set\n",
    "X, Y = make_bi_gram_set(txt_x), make_bi_gram_set(txt_y)\n",
    "print(X)\n",
    "print(Y)"
   ]
  },
  {
   "cell_type": "code",
   "execution_count": 18,
   "metadata": {},
   "outputs": [
    {
     "name": "stdout",
     "output_type": "stream",
     "text": [
      "{'is', 'ag', 'ad', 'gr', 'ap', 'di', 'se', 'ar', 'ph', 'ra', 'pa'}\n"
     ]
    }
   ],
   "source": [
    "union = X | Y\n",
    "print(union)"
   ]
  },
  {
   "cell_type": "code",
   "execution_count": 19,
   "metadata": {},
   "outputs": [
    {
     "name": "stdout",
     "output_type": "stream",
     "text": [
      "{'ad', 'is', 'se', 'di'}\n",
      "{'gr', 'ph', 'ag'}\n"
     ]
    }
   ],
   "source": [
    "difference_XtoY = X - Y\n",
    "difference_YtoX = Y - X\n",
    "print(difference_XtoY)\n",
    "print(difference_YtoX)"
   ]
  },
  {
   "cell_type": "code",
   "execution_count": 20,
   "metadata": {},
   "outputs": [
    {
     "name": "stdout",
     "output_type": "stream",
     "text": [
      "{'ra', 'ap', 'pa', 'ar'}\n"
     ]
    }
   ],
   "source": [
    "intersection = X & Y\n",
    "print(intersection)"
   ]
  },
  {
   "cell_type": "code",
   "execution_count": 21,
   "metadata": {},
   "outputs": [
    {
     "name": "stdout",
     "output_type": "stream",
     "text": [
      "Xに「se」は存在する\n",
      "Yに「se」は存在しない\n"
     ]
    }
   ],
   "source": [
    "if 'se' in X:\n",
    "    print('Xに「se」は存在する')\n",
    "else:\n",
    "    print('Xに「se」は存在しない')\n",
    "if 'se' in Y:\n",
    "    print('Yに「se」は存在する')\n",
    "else:\n",
    "    print('Yに「se」は存在しない')"
   ]
  },
  {
   "cell_type": "markdown",
   "metadata": {},
   "source": [
    "### 07.テンプレートによる文生成  \n",
    "引数x, y, zを受け取り「x時のyはz」という文字列を返す関数を実装せよ．さらに，x=12, y=”気温”, z=22.4として，実行結果を確認せよ．"
   ]
  },
  {
   "cell_type": "code",
   "execution_count": 29,
   "metadata": {},
   "outputs": [
    {
     "name": "stdout",
     "output_type": "stream",
     "text": [
      "12時の気温は22.4\n"
     ]
    }
   ],
   "source": [
    "def weather_report(x, y, z):\n",
    "    print('{}時の{}は{}'.format(x, y, z))\n",
    "weather_report(12, '気温', 22.4)"
   ]
  },
  {
   "cell_type": "markdown",
   "metadata": {},
   "source": [
    "format文には有効数字の桁数を決定するなど、便利なオプションが複数ある。"
   ]
  },
  {
   "cell_type": "markdown",
   "metadata": {},
   "source": [
    "### 08.暗号文  \n",
    "与えられた文字列の各文字を，以下の仕様で変換する関数cipherを実装せよ．\n",
    "\n",
    "英小文字ならば(219 - 文字コード)の文字に置換\n",
    "その他の文字はそのまま出力\n",
    "この関数を用い，英語のメッセージを暗号化・復号化せよ．"
   ]
  },
  {
   "cell_type": "markdown",
   "metadata": {},
   "source": [
    "**文字コードとは?**  \n",
    "CCS：符号化文字集合  \n",
    "CES：文字符号化方式  \n",
    "(あとで調べよ)  "
   ]
  },
  {
   "cell_type": "code",
   "execution_count": 60,
   "metadata": {},
   "outputs": [],
   "source": [
    "def cipher(s):\n",
    "    ans = ''.join([chr(219 - ord(t)) if t.islower() else t for t in s])\n",
    "    return ans"
   ]
  },
  {
   "cell_type": "code",
   "execution_count": 61,
   "metadata": {},
   "outputs": [
    {
     "name": "stdout",
     "output_type": "stream",
     "text": [
      "I olev blf.\n"
     ]
    }
   ],
   "source": [
    "print(cipher('I love you.'))"
   ]
  },
  {
   "cell_type": "markdown",
   "metadata": {},
   "source": [
    "復号化もする"
   ]
  },
  {
   "cell_type": "code",
   "execution_count": 62,
   "metadata": {},
   "outputs": [
    {
     "data": {
      "text/plain": [
       "'I love you.'"
      ]
     },
     "execution_count": 62,
     "metadata": {},
     "output_type": "execute_result"
    }
   ],
   "source": [
    "x = cipher('I love you.')\n",
    "cipher(x)"
   ]
  },
  {
   "cell_type": "code",
   "execution_count": 64,
   "metadata": {},
   "outputs": [
    {
     "name": "stdout",
     "output_type": "stream",
     "text": [
      "Glw, slkvufoob, trev nv gsv xzon gszg zxxvkgh gsrmth gszg xzm mlg yv xszmtvw, gsv xlfiztv gl xszmtv gsrmth gszg xzm xszmtv, zmw gsv drhwln gl xlmhgzmgob wrhgrmtfrhs gsv wruuvivmxv.\n"
     ]
    }
   ],
   "source": [
    "vonnegut = cipher('God, hopefully, give me the calm that accepts things that can not be changed, the courage to change things that can change, and the wisdom to constantly distinguish the difference.')\n",
    "print(vonnegut)"
   ]
  },
  {
   "cell_type": "code",
   "execution_count": 65,
   "metadata": {},
   "outputs": [
    {
     "data": {
      "text/plain": [
       "'God, hopefully, give me the calm that accepts things that can not be changed, the courage to change things that can change, and the wisdom to constantly distinguish the difference.'"
      ]
     },
     "execution_count": 65,
     "metadata": {},
     "output_type": "execute_result"
    }
   ],
   "source": [
    "cipher(vonnegut)"
   ]
  },
  {
   "cell_type": "markdown",
   "metadata": {},
   "source": [
    "Stringというライブラリが便利らしい  \n",
    "試そう"
   ]
  },
  {
   "cell_type": "code",
   "execution_count": null,
   "metadata": {},
   "outputs": [],
   "source": []
  },
  {
   "cell_type": "markdown",
   "metadata": {},
   "source": [
    "### 09.Typoglycemia  \n",
    "スペースで区切られた単語列に対して，各単語の先頭と末尾の文字は残し，それ以外の文字の順序をランダムに並び替えるプログラムを作成せよ．ただし，長さが４以下の単語は並び替えないこととする．適当な英語の文（例えば”I couldn’t believe that I could actually understand what I was reading : the phenomenal power of the human mind .”）を与え，その実行結果を確認せよ．"
   ]
  },
  {
   "cell_type": "code",
   "execution_count": 26,
   "metadata": {},
   "outputs": [],
   "source": [
    "sentence = 'I couldn’t believe that I could actually understand what I was reading : the phenomenal power of the human mind .'"
   ]
  },
  {
   "cell_type": "code",
   "execution_count": 27,
   "metadata": {},
   "outputs": [
    {
     "name": "stdout",
     "output_type": "stream",
     "text": [
      "I coundl’t blievee that I colud atalulcy uraednnstd what I was ranideg : the pmahnoeenl pewor of the hmuan mind . \n"
     ]
    }
   ],
   "source": [
    "import random\n",
    "phrase_list = sentence.split()\n",
    "result = ''\n",
    "for p in phrase_list:\n",
    "    result += p + ' ' if len(p) <= 3 else p[0] + ''.join(random.sample(p[1:-1], len(p[1:-1]))) + p[-1] + ' '\n",
    "print(result)"
   ]
  },
  {
   "cell_type": "markdown",
   "metadata": {},
   "source": [
    "**random.shuffleとrandom.sampleの違い**  \n",
    "shuffleはミュータブルな変数に対し、中身の順番を直接変える。  \n",
    "sampleはイミュータブルな変数に対しても、重複なしのサンプリングを行い、**新たなリストを返す**。  "
   ]
  },
  {
   "cell_type": "code",
   "execution_count": null,
   "metadata": {},
   "outputs": [],
   "source": []
  }
 ],
 "metadata": {
  "kernelspec": {
   "display_name": "Python 3",
   "language": "python",
   "name": "python3"
  },
  "language_info": {
   "codemirror_mode": {
    "name": "ipython",
    "version": 3
   },
   "file_extension": ".py",
   "mimetype": "text/x-python",
   "name": "python",
   "nbconvert_exporter": "python",
   "pygments_lexer": "ipython3",
   "version": "3.7.0"
  }
 },
 "nbformat": 4,
 "nbformat_minor": 2
}