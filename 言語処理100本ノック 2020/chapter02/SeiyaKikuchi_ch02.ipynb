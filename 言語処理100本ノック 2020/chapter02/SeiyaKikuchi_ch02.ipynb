{
 "cells": [
  {
   "cell_type": "markdown",
   "metadata": {},
   "source": [
    "### 第2章:UNIXコマンド  \n",
    "popular-names.txtは，アメリカで生まれた赤ちゃんの「名前」「性別」「人数」「年」をタブ区切り形式で格納したファイルである．以下の処理を行うプログラムを作成し，popular-names.txtを入力ファイルとして実行せよ．さらに，同様の処理をUNIXコマンドでも実行し，プログラムの実行結果を確認せよ．"
   ]
  },
  {
   "cell_type": "markdown",
   "metadata": {},
   "source": [
    "### 10.行数のカウント  \n",
    "行数をカウントせよ．確認にはwcコマンドを用いよ．"
   ]
  },
  {
   "cell_type": "code",
   "execution_count": 5,
   "metadata": {},
   "outputs": [
    {
     "name": "stdout",
     "output_type": "stream",
     "text": [
      "2780\n"
     ]
    }
   ],
   "source": [
    "file_name = '/Users/seiya.k/workspace/100knock-2020/SeiyaKikuchi/chapter02/data_folder/popular-names.txt'\n",
    "with open(file_name) as f:\n",
    "    print(len([l for l in f]))"
   ]
  },
  {
   "cell_type": "code",
   "execution_count": 5,
   "metadata": {},
   "outputs": [
    {
     "name": "stdout",
     "output_type": "stream",
     "text": [
      "    2780 /Users/seiya.k/workspace/100knock-2020/SeiyaKikuchi/chapter02/data_folder/popular-names.txt\n"
     ]
    }
   ],
   "source": [
    "!wc -l /Users/seiya.k/workspace/100knock-2020/SeiyaKikuchi/chapter02/data_folder/popular-names.txt"
   ]
  },
  {
   "cell_type": "code",
   "execution_count": 6,
   "metadata": {},
   "outputs": [
    {
     "name": "stdout",
     "output_type": "stream",
     "text": [
      "    2780\n"
     ]
    }
   ],
   "source": [
    "!cat /Users/seiya.k/workspace/100knock-2020/SeiyaKikuchi/chapter02/data_folder/popular-names.txt | wc -l"
   ]
  },
  {
   "cell_type": "markdown",
   "metadata": {},
   "source": [
    "高橋さんの模範例"
   ]
  },
  {
   "cell_type": "code",
   "execution_count": 7,
   "metadata": {},
   "outputs": [
    {
     "data": {
      "text/plain": [
       "2780"
      ]
     },
     "execution_count": 7,
     "metadata": {},
     "output_type": "execute_result"
    }
   ],
   "source": [
    "n_lines = 0\n",
    "for _ in open(file_name, 'r'):\n",
    "    n_lines += 1\n",
    "n_lines"
   ]
  },
  {
   "cell_type": "markdown",
   "metadata": {},
   "source": [
    "### 11.タブをスペースに置換\n",
    "タブ1文字につきスペース1文字に置換せよ．確認にはsedコマンド，trコマンド，もしくはexpandコマンドを用いよ．"
   ]
  },
  {
   "cell_type": "code",
   "execution_count": 8,
   "metadata": {},
   "outputs": [
    {
     "name": "stdout",
     "output_type": "stream",
     "text": [
      "['Mary F 7065 1880',\n",
      " 'Anna F 2604 1880',\n",
      " 'Emma F 2003 1880',\n",
      " 'Elizabeth F 1939 1880',\n",
      " 'Minnie F 1746 1880',\n",
      " 'Margaret F 1578 1880',\n",
      " 'Ida F 1472 1880',\n",
      " 'Alice F 1414 1880',\n",
      " 'Bertha F 1320 1880',\n",
      " 'Sarah F 1288 1880']\n"
     ]
    }
   ],
   "source": [
    "import pprint\n",
    "with open(file_name) as f:\n",
    "    results = [l.replace('\\t',' ').strip() for l in f]\n",
    "    pprint.pprint(results[:10])"
   ]
  },
  {
   "cell_type": "code",
   "execution_count": 9,
   "metadata": {},
   "outputs": [
    {
     "name": "stdout",
     "output_type": "stream",
     "text": [
      "Mary F 7065 1880\n",
      "Anna F 2604 1880\n",
      "Emma F 2003 1880\n",
      "Elizabeth F 1939 1880\n",
      "Minnie F 1746 1880\n",
      "Margaret F 1578 1880\n",
      "Ida F 1472 1880\n",
      "Alice F 1414 1880\n",
      "Bertha F 1320 1880\n",
      "Sarah F 1288 1880\n"
     ]
    }
   ],
   "source": [
    "!head /Users/seiya.k/workspace/100knock-2020/SeiyaKikuchi/chapter02/data_folder/popular-names.txt | expand -t 1"
   ]
  },
  {
   "cell_type": "code",
   "execution_count": 10,
   "metadata": {},
   "outputs": [
    {
     "name": "stdout",
     "output_type": "stream",
     "text": [
      "Mary F 7065 1880\n",
      "Anna F 2604 1880\n",
      "Emma F 2003 1880\n",
      "Elizabeth F 1939 1880\n",
      "Minnie F 1746 1880\n",
      "Margaret F 1578 1880\n",
      "Ida F 1472 1880\n",
      "Alice F 1414 1880\n",
      "Bertha F 1320 1880\n",
      "Sarah F 1288 1880\n"
     ]
    }
   ],
   "source": [
    "!head /Users/seiya.k/workspace/100knock-2020/SeiyaKikuchi/chapter02/data_folder/popular-names.txt | sed -e s/$'\\t'/$' '/g"
   ]
  },
  {
   "cell_type": "code",
   "execution_count": 11,
   "metadata": {},
   "outputs": [
    {
     "name": "stdout",
     "output_type": "stream",
     "text": [
      "Mary F 7065 1880\n",
      "Anna F 2604 1880\n",
      "Emma F 2003 1880\n",
      "Elizabeth F 1939 1880\n",
      "Minnie F 1746 1880\n",
      "Margaret F 1578 1880\n",
      "Ida F 1472 1880\n",
      "Alice F 1414 1880\n",
      "Bertha F 1320 1880\n",
      "Sarah F 1288 1880\n"
     ]
    }
   ],
   "source": [
    "!head /Users/seiya.k/workspace/100knock-2020/SeiyaKikuchi/chapter02/data_folder/popular-names.txt | tr $'\\t' $' '"
   ]
  },
  {
   "cell_type": "markdown",
   "metadata": {},
   "source": [
    "高橋さんの模範例  \n",
    "printの第2引数のend"
   ]
  },
  {
   "cell_type": "code",
   "execution_count": 12,
   "metadata": {},
   "outputs": [
    {
     "ename": "FileNotFoundError",
     "evalue": "[Errno 2] No such file or directory: './data/popular-names.txt'",
     "output_type": "error",
     "traceback": [
      "\u001b[0;31m---------------------------------------------------------------------------\u001b[0m",
      "\u001b[0;31mFileNotFoundError\u001b[0m                         Traceback (most recent call last)",
      "\u001b[0;32m<ipython-input-12-02e86ebff6c5>\u001b[0m in \u001b[0;36m<module>\u001b[0;34m()\u001b[0m\n\u001b[0;32m----> 1\u001b[0;31m \u001b[0;32mwith\u001b[0m \u001b[0mopen\u001b[0m\u001b[0;34m(\u001b[0m\u001b[0;34m\"./data/popular-names.txt\"\u001b[0m\u001b[0;34m,\u001b[0m\u001b[0;34m\"r\"\u001b[0m\u001b[0;34m)\u001b[0m \u001b[0;32mas\u001b[0m \u001b[0mfi\u001b[0m\u001b[0;34m:\u001b[0m\u001b[0;34m\u001b[0m\u001b[0m\n\u001b[0m\u001b[1;32m      2\u001b[0m     \u001b[0;32mfor\u001b[0m \u001b[0mi\u001b[0m\u001b[0;34m,\u001b[0m\u001b[0mlines\u001b[0m \u001b[0;32min\u001b[0m \u001b[0menumerate\u001b[0m\u001b[0;34m(\u001b[0m\u001b[0mfi\u001b[0m\u001b[0;34m)\u001b[0m\u001b[0;34m:\u001b[0m\u001b[0;34m\u001b[0m\u001b[0m\n\u001b[1;32m      3\u001b[0m         \u001b[0mlines\u001b[0m \u001b[0;34m=\u001b[0m \u001b[0mlines\u001b[0m\u001b[0;34m.\u001b[0m\u001b[0mreplace\u001b[0m\u001b[0;34m(\u001b[0m\u001b[0;34m\"\\t\"\u001b[0m\u001b[0;34m,\u001b[0m\u001b[0;34m\" \"\u001b[0m\u001b[0;34m)\u001b[0m\u001b[0;34m\u001b[0m\u001b[0m\n\u001b[1;32m      4\u001b[0m         \u001b[0;32mif\u001b[0m \u001b[0mi\u001b[0m \u001b[0;34m==\u001b[0m \u001b[0;36m10\u001b[0m\u001b[0;34m:\u001b[0m \u001b[0;32mbreak\u001b[0m\u001b[0;34m\u001b[0m\u001b[0m\n\u001b[1;32m      5\u001b[0m         \u001b[0mprint\u001b[0m\u001b[0;34m(\u001b[0m\u001b[0mlines\u001b[0m\u001b[0;34m,\u001b[0m\u001b[0mend\u001b[0m\u001b[0;34m=\u001b[0m\u001b[0;34m''\u001b[0m\u001b[0;34m)\u001b[0m\u001b[0;34m\u001b[0m\u001b[0m\n",
      "\u001b[0;31mFileNotFoundError\u001b[0m: [Errno 2] No such file or directory: './data/popular-names.txt'"
     ]
    }
   ],
   "source": [
    "with open(\"./data/popular-names.txt\",\"r\") as fi:\n",
    "    for i,lines in enumerate(fi):\n",
    "        lines = lines.replace(\"\\t\",\" \")\n",
    "        if i == 10: break\n",
    "        print(lines,end='')"
   ]
  },
  {
   "cell_type": "markdown",
   "metadata": {},
   "source": [
    "### 12.1列目をcol1.txtに，2列目をcol2.txtに保存  \n",
    "各行の1列目だけを抜き出したものをcol1.txtに，2列目だけを抜き出したものをcol2.txtとしてファイルに保存せよ．確認にはcutコマンドを用いよ．"
   ]
  },
  {
   "cell_type": "code",
   "execution_count": 13,
   "metadata": {},
   "outputs": [
    {
     "name": "stdout",
     "output_type": "stream",
     "text": [
      "Mary\n",
      "Anna\n",
      "Emma\n",
      "Elizabeth\n",
      "Minnie\n",
      "Margaret\n",
      "Ida\n",
      "Alice\n",
      "Bertha\n",
      "Sarah\n",
      "F\n",
      "F\n",
      "F\n",
      "F\n",
      "F\n",
      "F\n",
      "F\n",
      "F\n",
      "F\n",
      "F\n"
     ]
    }
   ],
   "source": [
    "with open(file_name) as f,\\\n",
    "open('col1.txt',mode='w') as col1,\\\n",
    "open('col2.txt',mode='w') as col2:\n",
    "    for l in f:\n",
    "        cols = l.split('\\t')\n",
    "        col1.write(cols[0].strip()+'\\n')\n",
    "        col2.write(cols[1].strip()+'\\n')\n",
    "\n",
    "!head col1.txt\n",
    "!head col2.txt"
   ]
  },
  {
   "cell_type": "code",
   "execution_count": 14,
   "metadata": {},
   "outputs": [
    {
     "name": "stdout",
     "output_type": "stream",
     "text": [
      "Mary\n",
      "Anna\n",
      "Emma\n",
      "Elizabeth\n",
      "Minnie\n",
      "Margaret\n",
      "Ida\n",
      "Alice\n",
      "Bertha\n",
      "Sarah\n",
      "F\n",
      "F\n",
      "F\n",
      "F\n",
      "F\n",
      "F\n",
      "F\n",
      "F\n",
      "F\n",
      "F\n"
     ]
    }
   ],
   "source": [
    "!cut -f 1  /Users/seiya.k/workspace/100knock-2020/SeiyaKikuchi/chapter02/data_folder/popular-names.txt > col1_unix.txt\n",
    "!cut -f 2  /Users/seiya.k/workspace/100knock-2020/SeiyaKikuchi/chapter02/data_folder/popular-names.txt > col2_unix.txt\n",
    "!head /Users/seiya.k/workspace/100knock-2020/SeiyaKikuchi/chapter02/data_folder/col1_unix.txt\n",
    "!head /Users/seiya.k/workspace/100knock-2020/SeiyaKikuchi/chapter02/data_folder/col2_unix.txt"
   ]
  },
  {
   "cell_type": "markdown",
   "metadata": {},
   "source": [
    "ファイルへの書き込みはwriteよりprintを使おう  \n",
    "printの機能をよく理解しておくと、普段から役立つ"
   ]
  },
  {
   "cell_type": "code",
   "execution_count": null,
   "metadata": {},
   "outputs": [],
   "source": []
  },
  {
   "cell_type": "markdown",
   "metadata": {},
   "source": [
    "舟山さんの模範例  \n",
    "構造化代入がエレガント  \n",
    "使わない変数は _ にする  \n",
    "*_ で、可変長なリストを作っている"
   ]
  },
  {
   "cell_type": "code",
   "execution_count": 15,
   "metadata": {},
   "outputs": [
    {
     "ename": "FileNotFoundError",
     "evalue": "[Errno 2] No such file or directory: 'work/col1.txt'",
     "output_type": "error",
     "traceback": [
      "\u001b[0;31m---------------------------------------------------------------------------\u001b[0m",
      "\u001b[0;31mFileNotFoundError\u001b[0m                         Traceback (most recent call last)",
      "\u001b[0;32m<ipython-input-15-f9860eea885f>\u001b[0m in \u001b[0;36m<module>\u001b[0;34m()\u001b[0m\n\u001b[0;32m----> 1\u001b[0;31m \u001b[0;32mwith\u001b[0m \u001b[0mopen\u001b[0m\u001b[0;34m(\u001b[0m\u001b[0;34m'work/col1.txt'\u001b[0m\u001b[0;34m,\u001b[0m \u001b[0;34m'w'\u001b[0m\u001b[0;34m)\u001b[0m \u001b[0;32mas\u001b[0m \u001b[0mfo1\u001b[0m\u001b[0;34m,\u001b[0m \u001b[0mopen\u001b[0m\u001b[0;34m(\u001b[0m\u001b[0;34m'work/col2.txt'\u001b[0m\u001b[0;34m,\u001b[0m \u001b[0;34m'w'\u001b[0m\u001b[0;34m)\u001b[0m \u001b[0;32mas\u001b[0m \u001b[0mfo2\u001b[0m\u001b[0;34m:\u001b[0m\u001b[0;34m\u001b[0m\u001b[0m\n\u001b[0m\u001b[1;32m      2\u001b[0m     \u001b[0;32mfor\u001b[0m \u001b[0mline\u001b[0m \u001b[0;32min\u001b[0m \u001b[0mopen\u001b[0m\u001b[0;34m(\u001b[0m\u001b[0;34m'data/popular-names.txt'\u001b[0m\u001b[0;34m)\u001b[0m\u001b[0;34m:\u001b[0m\u001b[0;34m\u001b[0m\u001b[0m\n\u001b[1;32m      3\u001b[0m         \u001b[0mname\u001b[0m\u001b[0;34m,\u001b[0m \u001b[0mgender\u001b[0m\u001b[0;34m,\u001b[0m\u001b[0;34m*\u001b[0m\u001b[0m_\u001b[0m  \u001b[0;34m=\u001b[0m \u001b[0mline\u001b[0m\u001b[0;34m.\u001b[0m\u001b[0mrstrip\u001b[0m\u001b[0;34m(\u001b[0m\u001b[0;34m)\u001b[0m\u001b[0;34m.\u001b[0m\u001b[0msplit\u001b[0m\u001b[0;34m(\u001b[0m\u001b[0;34m'\\t'\u001b[0m\u001b[0;34m)\u001b[0m\u001b[0;34m\u001b[0m\u001b[0m\n\u001b[1;32m      4\u001b[0m         \u001b[0mprint\u001b[0m\u001b[0;34m(\u001b[0m\u001b[0mname\u001b[0m\u001b[0;34m,\u001b[0m \u001b[0mfile\u001b[0m\u001b[0;34m=\u001b[0m\u001b[0mfo1\u001b[0m\u001b[0;34m)\u001b[0m\u001b[0;34m\u001b[0m\u001b[0m\n\u001b[1;32m      5\u001b[0m         \u001b[0mprint\u001b[0m\u001b[0;34m(\u001b[0m\u001b[0mgender\u001b[0m\u001b[0;34m,\u001b[0m \u001b[0mfile\u001b[0m\u001b[0;34m=\u001b[0m\u001b[0mfo2\u001b[0m\u001b[0;34m)\u001b[0m\u001b[0;34m\u001b[0m\u001b[0m\n",
      "\u001b[0;31mFileNotFoundError\u001b[0m: [Errno 2] No such file or directory: 'work/col1.txt'"
     ]
    }
   ],
   "source": [
    "with open('work/col1.txt', 'w') as fo1, open('work/col2.txt', 'w') as fo2:\n",
    "    for line in open('data/popular-names.txt'):\n",
    "        name, gender,*_  = line.rstrip().split('\\t')\n",
    "        print(name, file=fo1)\n",
    "        print(gender, file=fo2)\n",
    "print(line)\n",
    "print(_)"
   ]
  },
  {
   "cell_type": "markdown",
   "metadata": {},
   "source": [
    "awkコマンドを使ってみよう"
   ]
  },
  {
   "cell_type": "code",
   "execution_count": null,
   "metadata": {},
   "outputs": [],
   "source": []
  },
  {
   "cell_type": "markdown",
   "metadata": {},
   "source": [
    "### 13.col1.txtとcol2.txtをマージ  \n",
    "12で作ったcol1.txtとcol2.txtを結合し，元のファイルの1列目と2列目をタブ区切りで並べたテキストファイルを作成せよ．確認にはpasteコマンドを用いよ．"
   ]
  },
  {
   "cell_type": "code",
   "execution_count": 16,
   "metadata": {},
   "outputs": [],
   "source": [
    "with open('col1.txt') as col1,\\\n",
    "open('col2.txt') as col2,\\\n",
    "open('colmarged.txt',mode='w') as colmarged:\n",
    "    for c1, c2 in zip(col1, col2):\n",
    "        colmarged.write(c1.strip() + '\\t' + c2.strip() + '\\n')"
   ]
  },
  {
   "cell_type": "code",
   "execution_count": 17,
   "metadata": {},
   "outputs": [
    {
     "name": "stdout",
     "output_type": "stream",
     "text": [
      "Mary\tF\n",
      "Anna\tF\n",
      "Emma\tF\n",
      "Elizabeth\tF\n",
      "Minnie\tF\n",
      "Margaret\tF\n",
      "Ida\tF\n",
      "Alice\tF\n",
      "Bertha\tF\n",
      "Sarah\tF\n"
     ]
    }
   ],
   "source": [
    "!head /Users/seiya.k/workspace/100knock-2020/SeiyaKikuchi/chapter02/data_folder/colmarged.txt"
   ]
  },
  {
   "cell_type": "code",
   "execution_count": 18,
   "metadata": {},
   "outputs": [
    {
     "name": "stdout",
     "output_type": "stream",
     "text": [
      "Mary\tF\n",
      "Anna\tF\n",
      "Emma\tF\n",
      "Elizabeth\tF\n",
      "Minnie\tF\n",
      "Margaret\tF\n",
      "Ida\tF\n",
      "Alice\tF\n",
      "Bertha\tF\n",
      "Sarah\tF\n"
     ]
    }
   ],
   "source": [
    "!paste /Users/seiya.k/workspace/100knock-2020/SeiyaKikuchi/chapter02/data_folder/col1_unix.txt /Users/seiya.k/workspace/100knock-2020/SeiyaKikuchi/chapter02/data_folder/col2_unix.txt | head"
   ]
  },
  {
   "cell_type": "markdown",
   "metadata": {},
   "source": [
    "### 14.先頭からN行を出力  \n",
    "自然数Nをコマンドライン引数などの手段で受け取り，入力のうち先頭のN行だけを表示せよ．確認にはheadコマンドを用いよ．"
   ]
  },
  {
   "cell_type": "code",
   "execution_count": 19,
   "metadata": {},
   "outputs": [],
   "source": [
    "#やり直しだっバーカ!!\n",
    "#全部リストにしてスライスより、イテレータにしてislice\n",
    "# import sys\n",
    "# with open(file_name) as f:\n",
    "#     n = len(sys.argv)\n",
    "#     results = [l.strip(\"\\t\\n\") for l in f]\n",
    "#     print(results[:n])"
   ]
  },
  {
   "cell_type": "code",
   "execution_count": 21,
   "metadata": {},
   "outputs": [
    {
     "name": "stdout",
     "output_type": "stream",
     "text": [
      "Mary\tF\t7065\t1880\n",
      "Anna\tF\t2604\t1880\n",
      "Emma\tF\t2003\t1880\n"
     ]
    }
   ],
   "source": [
    "!head -n 3 /Users/seiya.k/workspace/100knock-2020/SeiyaKikuchi/chapter02/data_folder/popular-names.txt"
   ]
  },
  {
   "cell_type": "markdown",
   "metadata": {},
   "source": [
    "舟山さんの模範例"
   ]
  },
  {
   "cell_type": "code",
   "execution_count": 23,
   "metadata": {},
   "outputs": [
    {
     "ename": "ValueError",
     "evalue": "invalid literal for int() with base 10: '-f'",
     "output_type": "error",
     "traceback": [
      "\u001b[0;31m---------------------------------------------------------------------------\u001b[0m",
      "\u001b[0;31mValueError\u001b[0m                                Traceback (most recent call last)",
      "\u001b[0;32m<ipython-input-23-e00771c350fc>\u001b[0m in \u001b[0;36m<module>\u001b[0;34m()\u001b[0m\n\u001b[1;32m      7\u001b[0m     \u001b[0msys\u001b[0m\u001b[0;34m.\u001b[0m\u001b[0mexit\u001b[0m\u001b[0;34m(\u001b[0m\u001b[0;34m)\u001b[0m\u001b[0;34m\u001b[0m\u001b[0m\n\u001b[1;32m      8\u001b[0m \u001b[0;34m\u001b[0m\u001b[0m\n\u001b[0;32m----> 9\u001b[0;31m \u001b[0mn_lines\u001b[0m \u001b[0;34m=\u001b[0m \u001b[0mint\u001b[0m\u001b[0;34m(\u001b[0m\u001b[0msys\u001b[0m\u001b[0;34m.\u001b[0m\u001b[0margv\u001b[0m\u001b[0;34m[\u001b[0m\u001b[0;36m1\u001b[0m\u001b[0;34m]\u001b[0m\u001b[0;34m)\u001b[0m\u001b[0;34m\u001b[0m\u001b[0m\n\u001b[0m\u001b[1;32m     10\u001b[0m \u001b[0mfile\u001b[0m \u001b[0;34m=\u001b[0m \u001b[0msys\u001b[0m\u001b[0;34m.\u001b[0m\u001b[0margv\u001b[0m\u001b[0;34m[\u001b[0m\u001b[0;36m2\u001b[0m\u001b[0;34m]\u001b[0m\u001b[0;34m\u001b[0m\u001b[0m\n\u001b[1;32m     11\u001b[0m \u001b[0;32mfor\u001b[0m \u001b[0mline\u001b[0m \u001b[0;32min\u001b[0m \u001b[0mislice\u001b[0m\u001b[0;34m(\u001b[0m\u001b[0mopen\u001b[0m\u001b[0;34m(\u001b[0m\u001b[0mfile\u001b[0m\u001b[0;34m)\u001b[0m\u001b[0;34m,\u001b[0m \u001b[0mn_lines\u001b[0m\u001b[0;34m)\u001b[0m\u001b[0;34m:\u001b[0m\u001b[0;34m\u001b[0m\u001b[0m\n",
      "\u001b[0;31mValueError\u001b[0m: invalid literal for int() with base 10: '-f'"
     ]
    }
   ],
   "source": [
    "import sys\n",
    "from itertools import islice\n",
    "\n",
    "if len(sys.argv) != 3:\n",
    "    print('Usage: head.py NUM FILE', file=sys.stderr)\n",
    "    print('Print the first NUM lines of FILE to standard output.', file=sys.stderr)\n",
    "    sys.exit()\n",
    "\n",
    "n_lines = int(sys.argv[1])\n",
    "file = sys.argv[2]\n",
    "for line in islice(open(file), n_lines):\n",
    "    print(line, end='')"
   ]
  },
  {
   "cell_type": "code",
   "execution_count": 24,
   "metadata": {},
   "outputs": [
    {
     "name": "stdout",
     "output_type": "stream",
     "text": [
      "(null): can't open file 'src/tail.py': [Errno 2] No such file or directory\n"
     ]
    }
   ],
   "source": [
    "!python src/tail.py 5 data/popular-names.txt"
   ]
  },
  {
   "cell_type": "markdown",
   "metadata": {},
   "source": [
    "### 15.末尾のN行を出力  \n",
    "自然数Nをコマンドライン引数などの手段で受け取り，入力のうち末尾のN行だけを表示せよ．確認にはtailコマンドを用いよ．"
   ]
  },
  {
   "cell_type": "code",
   "execution_count": 25,
   "metadata": {},
   "outputs": [
    {
     "name": "stdout",
     "output_type": "stream",
     "text": [
      "Lucas\tM\t12585\t2018\n",
      "Mason\tM\t12435\t2018\n",
      "Logan\tM\t12352\t2018\n"
     ]
    }
   ],
   "source": [
    "import sys\n",
    "\n",
    "with open(file_name) as f:\n",
    "    lines = f.readlines()\n",
    "    n = len(sys.argv)\n",
    "    for l in lines[-n:]:\n",
    "        l = l.strip(\"\\t\\n\")\n",
    "        print(l)"
   ]
  },
  {
   "cell_type": "code",
   "execution_count": 26,
   "metadata": {},
   "outputs": [
    {
     "name": "stdout",
     "output_type": "stream",
     "text": [
      "Lucas\tM\t12585\t2018\n",
      "Mason\tM\t12435\t2018\n",
      "Logan\tM\t12352\t2018\n"
     ]
    }
   ],
   "source": [
    "!tail -n 3 /Users/seiya.k/workspace/100knock-2020/SeiyaKikuchi/chapter02/data_folder/popular-names.txt"
   ]
  },
  {
   "cell_type": "markdown",
   "metadata": {},
   "source": [
    "dequeを使うぞ"
   ]
  },
  {
   "cell_type": "code",
   "execution_count": null,
   "metadata": {},
   "outputs": [],
   "source": []
  },
  {
   "cell_type": "markdown",
   "metadata": {},
   "source": [
    "### 16.ファイルをN分割する  \n",
    "自然数Nをコマンドライン引数などの手段で受け取り，入力のファイルを行単位でN分割せよ．同様の処理をsplitコマンドで実現せよ．"
   ]
  },
  {
   "cell_type": "code",
   "execution_count": 14,
   "metadata": {},
   "outputs": [
    {
     "name": "stdin",
     "output_type": "stream",
     "text": [
      " 5\n"
     ]
    },
    {
     "name": "stdout",
     "output_type": "stream",
     "text": [
      "556\n"
     ]
    }
   ],
   "source": [
    "import math\n",
    "n = int(input())\n",
    "with open(file_name) as f:\n",
    "    lines = f.readlines()\n",
    "    lines_len = len(lines)\n",
    "    unit = lines_len // n\n",
    "    print(lines_per_n)\n",
    "    for x, y in enumerate(range(0, lines_len, lines_per_n)):\n",
    "        with open('sp_f{}.txt'.format(x) ,mode='w') as sp_f:\n",
    "            for line in lines[y : y + lines_per_n]:\n",
    "                sp_f.write(line)"
   ]
  },
  {
   "cell_type": "code",
   "execution_count": 2,
   "metadata": {},
   "outputs": [
    {
     "name": "stdout",
     "output_type": "stream",
     "text": [
      "split: illegal option -- n\n",
      "usage: split [-a sufflen] [-b byte_count] [-l line_count] [-p pattern]\n",
      "             [file [prefix]]\n"
     ]
    }
   ],
   "source": [
    "!split -n 5 /Users/seiya.k/workspace/100knock-2020/SeiyaKikuchi/chapter02/data_folder/popular-names.txt sp_f"
   ]
  },
  {
   "cell_type": "markdown",
   "metadata": {},
   "source": [
    "### 17.１列目の文字列の異なり  \n",
    "1列目の文字列の種類（異なる文字列の集合）を求めよ．確認にはcut, sort, uniqコマンドを用いよ．"
   ]
  },
  {
   "cell_type": "code",
   "execution_count": 154,
   "metadata": {},
   "outputs": [
    {
     "name": "stdout",
     "output_type": "stream",
     "text": [
      "['Abigail', 'Aiden', 'Alexander', 'Alexis', 'Alice', 'Amanda', 'Amelia', 'Amy', 'Andrew', 'Angela', 'Anna', 'Annie', 'Anthony', 'Ashley', 'Austin', 'Ava', 'Barbara', 'Benjamin', 'Bertha', 'Bessie', 'Betty', 'Brandon', 'Brian', 'Brittany', 'Carol', 'Carolyn', 'Charles', 'Charlotte', 'Chloe', 'Christopher', 'Clara', 'Crystal', 'Cynthia', 'Daniel', 'David', 'Deborah', 'Debra', 'Donald', 'Donna', 'Doris', 'Dorothy', 'Edward', 'Elijah', 'Elizabeth', 'Emily', 'Emma', 'Ethan', 'Ethel', 'Evelyn', 'Florence', 'Frances', 'Frank', 'Gary', 'George', 'Hannah', 'Harper', 'Harry', 'Heather', 'Helen', 'Henry', 'Ida', 'Isabella', 'Jacob', 'James', 'Jason', 'Jayden', 'Jeffrey', 'Jennifer', 'Jessica', 'Joan', 'John', 'Joseph', 'Joshua', 'Judith', 'Julie', 'Justin', 'Karen', 'Kathleen', 'Kelly', 'Kimberly', 'Larry', 'Laura', 'Lauren', 'Liam', 'Lillian', 'Linda', 'Lisa', 'Logan', 'Lori', 'Lucas', 'Madison', 'Margaret', 'Marie', 'Mark', 'Mary', 'Mason', 'Matthew', 'Megan', 'Melissa', 'Mia', 'Michael', 'Michelle', 'Mildred', 'Minnie', 'Nancy', 'Nicholas', 'Nicole', 'Noah', 'Oliver', 'Olivia', 'Pamela', 'Patricia', 'Rachel', 'Rebecca', 'Richard', 'Robert', 'Ronald', 'Ruth', 'Samantha', 'Sandra', 'Sarah', 'Scott', 'Sharon', 'Shirley', 'Sophia', 'Stephanie', 'Steven', 'Susan', 'Tammy', 'Taylor', 'Thomas', 'Tracy', 'Tyler', 'Virginia', 'Walter', 'William']\n"
     ]
    }
   ],
   "source": [
    "col1_file = \"/Users/seiya.k/workspace/100knock-2020/SeiyaKikuchi/chapter02/data_folder/col1.txt\"\n",
    "with open(col1_file) as f:\n",
    "    name_set = set()\n",
    "    for n in f:\n",
    "        name_set.add(n.rstrip('\\n'))\n",
    "    name_set = sorted(name_set)\n",
    "    print(name_set)"
   ]
  },
  {
   "cell_type": "code",
   "execution_count": 3,
   "metadata": {},
   "outputs": [
    {
     "name": "stdout",
     "output_type": "stream",
     "text": [
      "Abigail\n",
      "Aiden\n",
      "Alexander\n",
      "Alexis\n",
      "Alice\n",
      "Amanda\n",
      "Amelia\n",
      "Amy\n",
      "Andrew\n",
      "Angela\n"
     ]
    }
   ],
   "source": [
    "!sort -u /Users/seiya.k/workspace/100knock-2020/SeiyaKikuchi/chapter02/data_folder/col1_unix.txt | head"
   ]
  },
  {
   "cell_type": "markdown",
   "metadata": {},
   "source": [
    "### 内包表記で書きなさいよ"
   ]
  },
  {
   "cell_type": "code",
   "execution_count": null,
   "metadata": {},
   "outputs": [],
   "source": []
  },
  {
   "cell_type": "markdown",
   "metadata": {},
   "source": [
    "### 18.各行を3コラム目の数値の降順にソート  \n",
    "各行を3コラム目の数値の逆順で整列せよ（注意: 各行の内容は変更せずに並び替えよ）．確認にはsortコマンドを用いよ（この問題はコマンドで実行した時の結果と合わなくてもよい）．"
   ]
  },
  {
   "cell_type": "code",
   "execution_count": 230,
   "metadata": {},
   "outputs": [
    {
     "name": "stdout",
     "output_type": "stream",
     "text": [
      "[['Linda', 'F', '99689', '1947'],\n",
      " ['Linda', 'F', '96211', '1948'],\n",
      " ['James', 'M', '94757', '1947'],\n",
      " ['Michael', 'M', '92704', '1957'],\n",
      " ['Robert', 'M', '91640', '1947']]\n",
      "[['Annie', 'F', '1326', '1881'],\n",
      " ['Bertha', 'F', '1324', '1881'],\n",
      " ['Bertha', 'F', '1320', '1880'],\n",
      " ['Alice', 'F', '1308', '1881'],\n",
      " ['Sarah', 'F', '1288', '1880']]\n"
     ]
    }
   ],
   "source": [
    "import pprint\n",
    "with open(file_name) as f:\n",
    "    lines = f.readlines()\n",
    "    ls_list = []\n",
    "    for l in lines:\n",
    "        ls_list.append(l.strip('\\n').split('\\t'))\n",
    "    ls_list.sort(key = lambda l : int(l[2]), reverse = True)\n",
    "    pprint.pprint(ls_list[:5])\n",
    "    pprint.pprint(ls_list[-5:])"
   ]
  },
  {
   "cell_type": "code",
   "execution_count": 240,
   "metadata": {},
   "outputs": [
    {
     "name": "stdout",
     "output_type": "stream",
     "text": [
      "Linda\tF\t99689\t1947\n",
      "Linda\tF\t96211\t1948\n",
      "James\tM\t94757\t1947\n",
      "Michael\tM\t92704\t1957\n",
      "Robert\tM\t91640\t1947\n",
      "Linda\tF\t91016\t1949\n",
      "Michael\tM\t90656\t1956\n",
      "Michael\tM\t90517\t1958\n",
      "James\tM\t88584\t1948\n",
      "Michael\tM\t88528\t1954\n",
      "sort: Broken pipe\n"
     ]
    }
   ],
   "source": [
    "!sort -r -n -k 3 /Users/seiya.k/workspace/100knock-2020/SeiyaKikuchi/chapter02/data_folder/popular-names.txt | head"
   ]
  },
  {
   "cell_type": "markdown",
   "metadata": {},
   "source": [
    "### 19.各行の1コラム目の文字列の出現頻度を求め，出現頻度の高い順に並べる  \n",
    "各行の1列目の文字列の出現頻度を求め，その高い順に並べて表示せよ．確認にはcut, uniq, sortコマンドを用いよ．"
   ]
  },
  {
   "cell_type": "code",
   "execution_count": 9,
   "metadata": {},
   "outputs": [
    {
     "name": "stdout",
     "output_type": "stream",
     "text": [
      "[('James', 118), ('William', 111), ('John', 108), ('Robert', 108), ('Mary', 92), ('Charles', 75), ('Michael', 74), ('Elizabeth', 73), ('Joseph', 70), ('Margaret', 60), ('George', 58), ('Thomas', 58), ('David', 57), ('Richard', 51), ('Helen', 45), ('Frank', 43), ('Christopher', 43), ('Anna', 41), ('Edward', 40), ('Ruth', 39)]\n"
     ]
    }
   ],
   "source": [
    "from collections import Counter\n",
    "import pprint\n",
    "with open(file_name) as f:\n",
    "    n_list = [l.strip('\\n').split('\\t')[0] for l in f]\n",
    "    \n",
    "counts = Counter(n_list)\n",
    "print(counts.most_common(20))"
   ]
  },
  {
   "cell_type": "code",
   "execution_count": 15,
   "metadata": {},
   "outputs": [
    {
     "name": "stdout",
     "output_type": "stream",
     "text": [
      " 118 James\n",
      " 111 William\n",
      " 108 Robert\n",
      " 108 John\n",
      "  92 Mary\n",
      "  75 Charles\n",
      "  74 Michael\n",
      "  73 Elizabeth\n",
      "  70 Joseph\n",
      "  60 Margaret\n"
     ]
    }
   ],
   "source": [
    "!cut -f 1 /Users/seiya.k/workspace/100knock-2020/SeiyaKikuchi/chapter02/data_folder/popular-names.txt | sort | uniq -c | sort -nr | head"
   ]
  },
  {
   "cell_type": "markdown",
   "metadata": {},
   "source": [
    "### defaultdictを使ってみようよ"
   ]
  },
  {
   "cell_type": "code",
   "execution_count": null,
   "metadata": {},
   "outputs": [],
   "source": []
  }
 ],
 "metadata": {
  "kernelspec": {
   "display_name": "Python 3",
   "language": "python",
   "name": "python3"
  },
  "language_info": {
   "codemirror_mode": {
    "name": "ipython",
    "version": 3
   },
   "file_extension": ".py",
   "mimetype": "text/x-python",
   "name": "python",
   "nbconvert_exporter": "python",
   "pygments_lexer": "ipython3",
   "version": "3.7.0"
  }
 },
 "nbformat": 4,
 "nbformat_minor": 2
}
