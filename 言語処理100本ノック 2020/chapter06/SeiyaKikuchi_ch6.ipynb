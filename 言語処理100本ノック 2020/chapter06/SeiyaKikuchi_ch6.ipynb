{
 "cells": [
  {
   "cell_type": "markdown",
   "metadata": {},
   "source": [
    "## 第6章: 機械学習\n",
    "本章では，Fabio Gasparetti氏が公開しているNews Aggregator Data Setを用い，ニュース記事の見出しを「ビジネス」「科学技術」「エンターテイメント」「健康」のカテゴリに分類するタスク（カテゴリ分類）に取り組む．"
   ]
  },
  {
   "cell_type": "markdown",
   "metadata": {},
   "source": [
    "## 50.データの入手・整形\n",
    "News Aggregator Data Setをダウンロードし、以下の要領で学習データ（train.txt），検証データ（valid.txt），評価データ（test.txt）を作成せよ．\n",
    "\n",
    "1.ダウンロードしたzipファイルを解凍し，readme.txtの説明を読む．  \n",
    "2.情報源（publisher）が”Reuters”, “Huffington Post”, “Businessweek”, “Contactmusic.com”, “Daily Mail”の事例（記事）のみを抽出する．  \n",
    "3.抽出された事例をランダムに並び替える．  \n",
    "4.抽出された事例の80%を学習データ，残りの10%ずつを検証データと評価データに分割し，それぞれtrain.txt，valid.txt，test.txtというファイル名で保存する．ファイルには，１行に１事例を書き出すこととし，カテゴリ名と記事見出しのタブ区切り形式とせよ（このファイルは後に問題70で再利用する）．  \n",
    "学習データと評価データを作成したら，各カテゴリの事例数を確認せよ．  "
   ]
  },
  {
   "cell_type": "code",
   "execution_count": 1,
   "metadata": {},
   "outputs": [
    {
     "name": "stdout",
     "output_type": "stream",
     "text": [
      "0.22.1\n"
     ]
    }
   ],
   "source": [
    "import sklearn\n",
    "print(sklearn.__version__)"
   ]
  },
  {
   "cell_type": "code",
   "execution_count": 2,
   "metadata": {},
   "outputs": [],
   "source": [
    "\"\"\"\n",
    "データを抽出するシェル\n",
    "\n",
    "newsCorpora.csvから抽出\n",
    "形式はtab区切りcsv（jsonがよかったな...）\n",
    "txtファイルにするから、json形式に変えてもダメ\n",
    "\"\"\"\n",
    "\n",
    "import csv\n",
    "path_q50 = \"data_folder/NewsAggregatorDataset/newsCorpora.csv\"\n",
    "extracted_data_q50 = \"data_folder/extracted_data_q50.txt\"\n",
    "publisher_set = {\"Reuters\", \"Huffington Post\", \"Businessweek\", \"Contactmusic.com\", \"Daily Mail\"}\n",
    "\n",
    "\n",
    "with open(path_q50,\"r\") as csv_f, open(extracted_data_q50,\"w\") as ed:\n",
    "    reader = csv.reader(csv_f, delimiter='\\t', quotechar='|')\n",
    "    \n",
    "    for data in reader:\n",
    "        publisher = data[3]\n",
    "        if publisher in publisher_set:\n",
    "            ed.write(\"\\t\".join(data))\n",
    "            ed.write(\"\\n\")"
   ]
  },
  {
   "cell_type": "code",
   "execution_count": 3,
   "metadata": {},
   "outputs": [],
   "source": [
    "\"\"\"\n",
    "データをシャッフル\n",
    "\"\"\"\n",
    "import random\n",
    "\n",
    "with open(extracted_data_q50,\"r\") as ed:\n",
    "    lines = ed.readlines()\n",
    "with open(extracted_data_q50,\"w\") as ed:\n",
    "    random.shuffle(lines)\n",
    "    ed.writelines(lines)"
   ]
  },
  {
   "cell_type": "code",
   "execution_count": 4,
   "metadata": {},
   "outputs": [],
   "source": [
    "num_of_article = sum([1 for _ in open(extracted_data_q50)])\n",
    "\n",
    "train_data_num = num_of_article * 0.8\n",
    "valid_data_num = (num_of_article - train_data_num) / 2\n",
    "test_data_num = num_of_article - train_data_num - valid_data_num \n",
    "\n",
    "train_data = \"data_folder/train.txt\"\n",
    "valid_data = \"data_folder/valid.txt\"\n",
    "test_data = \"data_folder/test.txt\"\n",
    "\n",
    "\n",
    "c = 0\n",
    "with open(extracted_data_q50,\"r\") as extracted, open(train_data,\"w\") as train, open(valid_data,\"w\") as valid, open(test_data,\"w\") as test:\n",
    "    for l in extracted:\n",
    "        l = l.strip().split(\"\\t\")\n",
    "        title = l[1]\n",
    "        category = l[4]\n",
    "        c += 1\n",
    "        if c <= train_data_num:\n",
    "            train.write(f\"{title}\\t{category}\\n\")\n",
    "        elif c <= train_data_num + valid_data_num:\n",
    "            valid.write(f\"{title}\\t{category}\\n\")\n",
    "        else:\n",
    "            test.write(f\"{title}\\t{category}\\n\")"
   ]
  },
  {
   "cell_type": "code",
   "execution_count": 5,
   "metadata": {},
   "outputs": [
    {
     "name": "stdout",
     "output_type": "stream",
     "text": [
      "   10683 data_folder/train.txt\n",
      "    1335 data_folder/valid.txt\n",
      "    1336 data_folder/test.txt\n",
      "   13354 data_folder/extracted_data_q50.txt\n"
     ]
    }
   ],
   "source": [
    "!wc -l data_folder/train.txt\n",
    "!wc -l data_folder/valid.txt\n",
    "!wc -l data_folder/test.txt\n",
    "\n",
    "!wc -l data_folder/extracted_data_q50.txt"
   ]
  },
  {
   "cell_type": "markdown",
   "metadata": {},
   "source": [
    "## 51.特徴量抽出\n",
    "学習データ，検証データ，評価データから特徴量を抽出し，それぞれtrain.feature.txt，valid.feature.txt，test.feature.txtというファイル名で保存せよ． なお，カテゴリ分類に有用そうな特徴量は各自で自由に設計せよ．記事の見出しを単語列に変換したものが最低限のベースラインとなるであろう．"
   ]
  },
  {
   "cell_type": "code",
   "execution_count": 1,
   "metadata": {},
   "outputs": [],
   "source": [
    "\"\"\"\n",
    "4値分類を行うタスク？\n",
    "\"\"\"\n",
    "\n",
    "from sklearn.feature_extraction.text import CountVectorizer as CV\n",
    "import numpy as np\n",
    "cv = CV()\n",
    "\n",
    "def extract_feature(file_name):\n",
    "    with open(f\"data_folder/{file_name}.txt\",\"r\") as f, open(f\"data_folder/{file_name}.feature.txt\",\"wb\") as nf:\n",
    "        data_set = dict()\n",
    "        category_id = {\"b\":0, \"t\":1, \"e\":2, \"m\":3}\n",
    "        \n",
    "        for l in f:\n",
    "            t, c = l.strip().split(\"\\t\")\n",
    "            data_set[t] = c\n",
    "        \n",
    "        if file_name == \"train\":\n",
    "            matrix = cv.fit_transform([t for t in data_set.keys()])\n",
    "        else:\n",
    "            matrix = cv.transform([t for t in data_set.keys()])\n",
    "\n",
    "        X, Y = matrix.toarray(), np.array([category_id[c] for c in data_set.values()])\n",
    "        \n",
    "        for x, y in zip(X, Y):\n",
    "            nf.write(x)\n",
    "            nf.write(y)\n",
    "        \n",
    "        return(X, Y)\n",
    "                \n",
    "        # np.savetxt(f\"data_folder/{file_name}.feature.txt\", vectors, fmt='%d')         "
   ]
  },
  {
   "cell_type": "code",
   "execution_count": 3,
   "metadata": {},
   "outputs": [
    {
     "data": {
      "text/plain": [
       "(array([[0, 0, 0, ..., 0, 0, 0],\n",
       "        [0, 0, 0, ..., 0, 0, 0],\n",
       "        [0, 0, 0, ..., 0, 0, 0],\n",
       "        ...,\n",
       "        [0, 0, 0, ..., 0, 0, 0],\n",
       "        [0, 0, 0, ..., 0, 0, 0],\n",
       "        [0, 0, 0, ..., 0, 0, 0]]),\n",
       " array([1, 0, 0, ..., 1, 0, 2]))"
      ]
     },
     "execution_count": 3,
     "metadata": {},
     "output_type": "execute_result"
    }
   ],
   "source": [
    "extract_feature(\"train\")\n",
    "extract_feature(\"valid\")\n",
    "extract_feature(\"test\")"
   ]
  },
  {
   "cell_type": "markdown",
   "metadata": {},
   "source": [
    "## 52.学習\n",
    "51で構築した学習データを用いて，ロジスティック回帰モデルを学習せよ．"
   ]
  },
  {
   "cell_type": "code",
   "execution_count": 7,
   "metadata": {},
   "outputs": [
    {
     "data": {
      "text/plain": [
       "LogisticRegression(C=1.0, class_weight=None, dual=False, fit_intercept=True,\n",
       "                   intercept_scaling=1, l1_ratio=None, max_iter=1000,\n",
       "                   multi_class='auto', n_jobs=None, penalty='l2',\n",
       "                   random_state=None, solver='lbfgs', tol=0.0001, verbose=0,\n",
       "                   warm_start=False)"
      ]
     },
     "execution_count": 7,
     "metadata": {},
     "output_type": "execute_result"
    }
   ],
   "source": [
    "from sklearn.linear_model import LogisticRegression as lr\n",
    "\n",
    "lr = lr(max_iter=1000)\n",
    "x, y = extract_feature(\"train\")\n",
    "\n",
    "lr.fit(x, y)"
   ]
  },
  {
   "cell_type": "markdown",
   "metadata": {},
   "source": [
    "## 53.予測\n",
    "52で学習したロジスティック回帰モデルを用い，与えられた記事見出しからカテゴリとその予測確率を計算するプログラムを実装せよ．  \n",
    "CATEGORY\tNews category (b = business, t = science and technology, e = entertainment, m = health)"
   ]
  },
  {
   "cell_type": "code",
   "execution_count": 8,
   "metadata": {},
   "outputs": [],
   "source": [
    "def calc_probably(title):\n",
    "    x = cv.transform([title])\n",
    "    probs = lr.predict_proba(x)\n",
    "    categorys = [\"b\", \"t\", \"e\", \"m\"]\n",
    "    [print(f'{c}:{p}') for c, p in zip(categorys, probs[0])]"
   ]
  },
  {
   "cell_type": "code",
   "execution_count": 9,
   "metadata": {},
   "outputs": [
    {
     "name": "stdout",
     "output_type": "stream",
     "text": [
      "UPDATE 2-AT&T threatens to sit out US spectrum auction over rules\tt\n",
      "b:0.7770806159028842\n",
      "t:0.13163470647758352\n",
      "e:0.05366992074956809\n",
      "m:0.03761475686996433\n",
      "\n",
      "\n",
      "UPDATE 3-Tiffany's US sales on the mend; shares rise\tb\n",
      "b:0.9782261548315666\n",
      "t:0.014732968480285167\n",
      "e:0.001266310396541325\n",
      "m:0.005774566291606837\n",
      "\n",
      "\n",
      "French April Industry Growth Cools as New Business Stagnates (1)\tb\n",
      "b:0.9491364970817003\n",
      "t:0.014190299636892716\n",
      "e:0.029558356823153924\n",
      "m:0.007114846458253132\n",
      "\n",
      "\n"
     ]
    }
   ],
   "source": [
    "from itertools import islice\n",
    "with open(\"data_folder/test.txt\",'r') as f:\n",
    "    for l in islice(f, 3):\n",
    "        print(l.strip())\n",
    "        calc_probably(l.split(\"\\t\")[0])\n",
    "        print(\"\\n\")"
   ]
  },
  {
   "cell_type": "code",
   "execution_count": 10,
   "metadata": {},
   "outputs": [
    {
     "name": "stdout",
     "output_type": "stream",
     "text": [
      "b:0.2716520169727647\n",
      "t:0.4663248915066168\n",
      "e:0.2287686018778001\n",
      "m:0.033254489642818366\n"
     ]
    }
   ],
   "source": [
    "from itertools import islice\n",
    "with open(\"data_folder/test.txt\",'r') as f:\n",
    "    calc_probably(\"More PS5 preorders coming tomorrow to GameStop, and here's the latest at Amazon, Walmart and more\")"
   ]
  },
  {
   "cell_type": "markdown",
   "metadata": {},
   "source": [
    "## 54.正解率の計測\n",
    "52で学習したロジスティック回帰モデルの正解率を，学習データおよび評価データ上で計測せよ．\n",
    "\n"
   ]
  },
  {
   "cell_type": "code",
   "execution_count": 11,
   "metadata": {},
   "outputs": [],
   "source": [
    "def predict_category(title):\n",
    "    x = cv.transform([title])\n",
    "    probs = lr.predict_proba(x)\n",
    "    categorys = [\"b\", \"t\", \"e\", \"m\"]\n",
    "    m = max(probs[0])\n",
    "    for c, p in zip(categorys, probs[0]):\n",
    "        if p == m:\n",
    "            return c"
   ]
  },
  {
   "cell_type": "code",
   "execution_count": 12,
   "metadata": {},
   "outputs": [],
   "source": [
    "from sklearn.metrics import accuracy_score\n",
    "\n",
    "def calc_accuracy(file):\n",
    "    with open(f\"data_folder/{file}.txt\",'r') as f:\n",
    "        true, pred = [], []\n",
    "        for l in f:\n",
    "            true.append(l.strip().split('\\t')[1])\n",
    "            pred.append(predict_category(l.strip().split('\\t')[0]))\n",
    "        return accuracy_score(pred, true)"
   ]
  },
  {
   "cell_type": "code",
   "execution_count": 13,
   "metadata": {},
   "outputs": [
    {
     "name": "stdout",
     "output_type": "stream",
     "text": [
      "0.995974913413835\n",
      "0.9116766467065869\n"
     ]
    }
   ],
   "source": [
    "print(calc_accuracy(\"train\"))\n",
    "print(calc_accuracy(\"test\"))"
   ]
  },
  {
   "cell_type": "markdown",
   "metadata": {},
   "source": [
    "## 55.混同行列の作成\n",
    "52で学習したロジスティック回帰モデルの混同行列（confusion matrix）を，学習データおよび評価データ上で作成せよ．"
   ]
  },
  {
   "cell_type": "markdown",
   "metadata": {},
   "source": [
    "#colum : actural  \n",
    "#row : predicted  \n",
    "CATEGORY\tNews category (b = business, t = science and technology, e = entertainment, m = health)"
   ]
  },
  {
   "cell_type": "code",
   "execution_count": 14,
   "metadata": {},
   "outputs": [],
   "source": [
    "from sklearn.metrics import confusion_matrix\n",
    "\n",
    "def make_confusion_matrix(file):\n",
    "    with open(f\"data_folder/{file}.txt\",'r') as f:\n",
    "        true, pred = [], []\n",
    "        for l in f:\n",
    "            true.append(l.strip().split('\\t')[1])\n",
    "            pred.append(predict_category(l.strip().split('\\t')[0]))\n",
    "        return confusion_matrix(pred, true, labels=[\"b\", \"t\", \"e\", \"m\"])"
   ]
  },
  {
   "cell_type": "code",
   "execution_count": 15,
   "metadata": {},
   "outputs": [
    {
     "name": "stdout",
     "output_type": "stream",
     "text": [
      "[[4464   17    9    1]\n",
      " [   6 1201    2    0]\n",
      " [   2    3 4253    3]\n",
      " [   0    0    0  722]]\n",
      "[[554  29   7   9]\n",
      " [ 12  97   5   3]\n",
      " [  6  16 503  18]\n",
      " [  3   5   1  67]]\n"
     ]
    }
   ],
   "source": [
    "print(make_confusion_matrix(\"train\"))\n",
    "print(make_confusion_matrix(\"valid\"))"
   ]
  },
  {
   "cell_type": "markdown",
   "metadata": {},
   "source": [
    "## 56.適合率，再現率，F1スコアの計測\n",
    "52で学習したロジスティック回帰モデルの適合率，再現率，F1スコアを，評価データ上で計測せよ．カテゴリごとに適合率，再現率，F1スコアを求め，カテゴリごとの性能をマイクロ平均（micro-average）とマクロ平均（macro-average）で統合せよ．"
   ]
  },
  {
   "cell_type": "code",
   "execution_count": 16,
   "metadata": {},
   "outputs": [],
   "source": [
    "from sklearn.metrics import precision_recall_fscore_support\n",
    "\n",
    "def calc_f_value(file, option):\n",
    "    with open(f\"data_folder/{file}.txt\",'r') as f:\n",
    "        categorys = [\"b\", \"t\", \"e\", \"m\"]\n",
    "        true, pred = [], []\n",
    "        \n",
    "        for l in f:\n",
    "            true.append(l.strip().split('\\t')[1])\n",
    "            pred.append(predict_category(l.strip().split('\\t')[0]))\n",
    "            \n",
    "        return precision_recall_fscore_support(true, pred, labels=categorys, average=option)"
   ]
  },
  {
   "cell_type": "code",
   "execution_count": 17,
   "metadata": {},
   "outputs": [
    {
     "name": "stdout",
     "output_type": "stream",
     "text": [
      "b    prec: 0.9095394736842105    rec: 0.9567474048442907    f1: 0.9325463743676222\n",
      "t    prec: 0.8442622950819673    rec: 0.6560509554140127    f1: 0.7383512544802868\n",
      "e    prec: 0.9305816135084428    rec: 0.9649805447470817    f1: 0.9474689589302769\n",
      "m    prec: 0.9041095890410958    rec: 0.7586206896551724    f1: 0.825\n",
      "\n",
      "average\n",
      "micro: (0.9116766467065869, 0.9116766467065869, 0.9116766467065868, None)\n",
      "macro: (0.8971232428289291, 0.8340998986651393, 0.8608416469445466, None)\n"
     ]
    }
   ],
   "source": [
    "result = calc_f_value(\"test\", None)\n",
    "print(f\"b    prec: {result[0][0]}    rec: {result[1][0]}    f1: {result[2][0]}\")\n",
    "print(f\"t    prec: {result[0][1]}    rec: {result[1][1]}    f1: {result[2][1]}\")\n",
    "print(f\"e    prec: {result[0][2]}    rec: {result[1][2]}    f1: {result[2][2]}\")\n",
    "print(f\"m    prec: {result[0][3]}    rec: {result[1][3]}    f1: {result[2][3]}\")\n",
    "\n",
    "\n",
    "print(\"\\naverage\")\n",
    "print(f'micro: {calc_f_value(\"test\", \"micro\")}')\n",
    "print(f'macro: {calc_f_value(\"test\", \"macro\")}')"
   ]
  },
  {
   "cell_type": "markdown",
   "metadata": {},
   "source": [
    "## 57.特徴量の重みの確認\n",
    "52で学習したロジスティック回帰モデルの中で，重みの高い特徴量トップ10と，重みの低い特徴量トップ10を確認せよ．"
   ]
  },
  {
   "cell_type": "code",
   "execution_count": 20,
   "metadata": {},
   "outputs": [],
   "source": [
    "from pprint import pprint\n",
    "\n",
    "def get_best_or_worst_features(best_or_worst):\n",
    "    weights = lr.coef_\n",
    "    features = cv.get_feature_names()\n",
    "    categorys = [\"b\", \"t\", \"e\", \"m\"]\n",
    "    \n",
    "    for i, c in enumerate(categorys):\n",
    "        wf_pair = [(w, f) for w, f in zip(weights[i], features)]\n",
    "        ranking = sorted(wf_pair, key=lambda x:x[0])\n",
    "        \n",
    "        if best_or_worst == \"best\":\n",
    "            print(c)\n",
    "            [print(r) for r in reversed(ranking[-10:])]\n",
    "            print(\"\\n\")\n",
    "            \n",
    "        if best_or_worst == \"worst\":\n",
    "            print(c)\n",
    "            [print(r) for r in ranking[:10]]\n",
    "            print(\"\\n\")"
   ]
  },
  {
   "cell_type": "code",
   "execution_count": 21,
   "metadata": {},
   "outputs": [
    {
     "name": "stdout",
     "output_type": "stream",
     "text": [
      "b\n",
      "(1.8746410082809208, 'bank')\n",
      "(1.7961003097925088, 'ecb')\n",
      "(1.7313046376851688, 'fed')\n",
      "(1.6572009321680883, 'stocks')\n",
      "(1.6442806377196206, 'obamacare')\n",
      "(1.5573501799682985, 'ukraine')\n",
      "(1.536571259680325, 'yellen')\n",
      "(1.529259119062467, 'china')\n",
      "(1.4848733178174953, 'euro')\n",
      "(1.4010448161596663, 'dollar')\n",
      "\n",
      "\n",
      "t\n",
      "(2.8056700575768136, 'facebook')\n",
      "(2.710236709824856, 'google')\n",
      "(2.539618609828477, 'microsoft')\n",
      "(2.525588354528297, 'apple')\n",
      "(2.40670433280452, 'climate')\n",
      "(1.9421206874207093, 'heartbleed')\n",
      "(1.8799166086561494, 'nasa')\n",
      "(1.8286498905532218, 'tesla')\n",
      "(1.7431059114947507, 'comcast')\n",
      "(1.700374600480986, 'gm')\n",
      "\n",
      "\n",
      "e\n",
      "(1.5904919456140407, 'kardashian')\n",
      "(1.5357333017469201, 'chris')\n",
      "(1.4895298046536956, 'transformers')\n",
      "(1.4299567035322442, 'movie')\n",
      "(1.4055317619950132, 'paul')\n",
      "(1.3786743442938936, 'miley')\n",
      "(1.368023843593528, 'film')\n",
      "(1.3268600623164044, 'cyrus')\n",
      "(1.274096070978467, 'hbo')\n",
      "(1.2573620370044414, 'beyonce')\n",
      "\n",
      "\n",
      "m\n",
      "(2.725336913931499, 'ebola')\n",
      "(2.091368150830368, 'cancer')\n",
      "(2.068943137732729, 'fda')\n",
      "(1.867036961202755, 'cases')\n",
      "(1.8378242885035596, 'mers')\n",
      "(1.7893137769738523, 'study')\n",
      "(1.7685939525766954, 'drug')\n",
      "(1.6035932906695187, 'cigarettes')\n",
      "(1.5929536378434888, 'medical')\n",
      "(1.570251389909528, 'doctors')\n",
      "\n",
      "\n"
     ]
    }
   ],
   "source": [
    "get_best_or_worst_features(\"best\")"
   ]
  },
  {
   "cell_type": "code",
   "execution_count": 22,
   "metadata": {},
   "outputs": [
    {
     "name": "stdout",
     "output_type": "stream",
     "text": [
      "b\n",
      "(-1.4557497191930702, 'activision')\n",
      "(-1.290992320204382, 'aereo')\n",
      "(-1.2377860257669318, 'cap')\n",
      "(-1.1864920301208217, 'ebola')\n",
      "(-1.0900942887178058, 'she')\n",
      "(-1.0847419943457026, 'nintendo')\n",
      "(-1.0679346981975397, 'her')\n",
      "(-1.0611870181188725, 'heartbleed')\n",
      "(-1.0176762792099079, 'twitch')\n",
      "(-0.989416465703285, 'recalled')\n",
      "\n",
      "\n",
      "t\n",
      "(-0.9529491506091431, 'stocks')\n",
      "(-0.8794641606804162, 'american')\n",
      "(-0.8605299502722263, 'percent')\n",
      "(-0.80699965441831, 'valued')\n",
      "(-0.7535802940375237, 'fed')\n",
      "(-0.7246605274076605, 'raise')\n",
      "(-0.7193364776354314, 'cancer')\n",
      "(-0.6971030828520942, 'still')\n",
      "(-0.6911249083267755, 'grows')\n",
      "(-0.6801946251946063, 'ecb')\n",
      "\n",
      "\n",
      "e\n",
      "(-1.5605944482442298, 'google')\n",
      "(-1.249366844545817, 'gm')\n",
      "(-1.23192926779379, 'facebook')\n",
      "(-1.2170634366010478, 'study')\n",
      "(-1.1897524276040863, 'climate')\n",
      "(-1.1824887193953861, 'apple')\n",
      "(-1.1607286783895994, 'billion')\n",
      "(-1.151392184562202, 'ceo')\n",
      "(-1.147944322943662, 'china')\n",
      "(-1.114763763574922, 'microsoft')\n",
      "\n",
      "\n",
      "m\n",
      "(-0.8102640037122457, 'dimon')\n",
      "(-0.8019461647209806, 'facebook')\n",
      "(-0.7982504256380983, 'gm')\n",
      "(-0.7276823273908037, 'twitter')\n",
      "(-0.7096304999640448, 'apple')\n",
      "(-0.6958677537951974, 'climate')\n",
      "(-0.6285642558859746, 'tv')\n",
      "(-0.6149782849546234, 'sales')\n",
      "(-0.5854105773269396, 'buy')\n",
      "(-0.5808765945307978, 'price')\n",
      "\n",
      "\n"
     ]
    }
   ],
   "source": [
    "get_best_or_worst_features(\"worst\")"
   ]
  },
  {
   "cell_type": "markdown",
   "metadata": {},
   "source": [
    "### 58.正則化パラメータの変更\n",
    "ロジスティック回帰モデルを学習するとき，正則化パラメータを調整することで，学習時の過学習（overfitting）の度合いを制御できる．異なる正則化パラメータでロジスティック回帰モデルを学習し，学習データ，検証データ，および評価データ上の正解率を求めよ．実験の結果は，正則化パラメータを横軸，正解率を縦軸としたグラフにまとめよ"
   ]
  },
  {
   "cell_type": "code",
   "execution_count": 14,
   "metadata": {},
   "outputs": [
    {
     "name": "stdout",
     "output_type": "stream",
     "text": [
      "[0.25 0.5  0.75 1.   1.25 1.5  1.75 2.   2.25 2.5  2.75 3.  ]\n"
     ]
    }
   ],
   "source": [
    "params = np.arange(0.25, 3.25, 0.25)\n",
    "print(params)"
   ]
  },
  {
   "cell_type": "code",
   "execution_count": 4,
   "metadata": {},
   "outputs": [
    {
     "data": {
      "text/plain": [
       "<matplotlib.legend.Legend at 0x7fbbbbcc2950>"
      ]
     },
     "execution_count": 4,
     "metadata": {},
     "output_type": "execute_result"
    },
    {
     "data": {
      "image/png": "[encoded data removed]",
      "text/plain": [
       "<Figure size 432x288 with 1 Axes>"
      ]
     },
     "metadata": {
      "needs_background": "light"
     },
     "output_type": "display_data"
    }
   ],
   "source": [
    "from sklearn.linear_model import LogisticRegression as lr\n",
    "import matplotlib.pyplot as plt\n",
    "\n",
    "plt.xlabel('C pamameters')\n",
    "plt.ylabel('accuracy')\n",
    "files = [\"train\", \"valid\", \"test\"]\n",
    "params = np.arange(0.25, 3.25, 0.25)\n",
    "x, y = extract_feature(\"train\")\n",
    "\n",
    "for file in files:\n",
    "    accuracys = []\n",
    "    for param in params:\n",
    "        trained_model = lr(max_iter=1000, C=param).fit(x, y)\n",
    "        accuracy = calc_accuracy(file, trained_model)\n",
    "        accuracys.append(accuracy)\n",
    "    \n",
    "    plt.plot(params, accuracys, label=file)\n",
    "plt.legend()"
   ]
  },
  {
   "cell_type": "markdown",
   "metadata": {},
   "source": [
    "### 59.ハイパーパラメータの探索\n",
    "学習アルゴリズムや学習パラメータを変えながら，カテゴリ分類モデルを学習せよ．検証データ上の正解率が最も高くなる学習アルゴリズム・パラメータを求めよ．また，その学習アルゴリズム・パラメータを用いたときの評価データ上の正解率を求めよ．"
   ]
  },
  {
   "cell_type": "code",
   "execution_count": 3,
   "metadata": {},
   "outputs": [],
   "source": [
    "from sklearn.metrics import accuracy_score\n",
    "x, y = extract_feature(\"train\")\n",
    "\n",
    "def predict_category(title, model):\n",
    "    category_id = {0:\"b\", 1:\"t\", 2:\"e\", 3:\"m\"}\n",
    "\n",
    "    x = cv.transform([title])\n",
    "    category = category_id[model.predict(x)[0]]\n",
    "    return category\n",
    "\n",
    "        \n",
    "def calc_accuracy(file, model):\n",
    "    with open(f\"data_folder/{file}.txt\",'r') as f:\n",
    "        true, pred = [], []\n",
    "        for l in f:\n",
    "            true.append(l.strip().split('\\t')[1])\n",
    "            pred.append(predict_category(l.strip().split('\\t')[0], model))\n",
    "        return accuracy_score(pred, true)"
   ]
  },
  {
   "cell_type": "code",
   "execution_count": 14,
   "metadata": {},
   "outputs": [
    {
     "name": "stdout",
     "output_type": "stream",
     "text": [
      "0.9213483146067416\n"
     ]
    }
   ],
   "source": [
    "# サポートベクターマシン\n",
    "from sklearn.svm import LinearSVC\n",
    "\n",
    "svc = LinearSVC().fit(x, y)\n",
    "print(calc_accuracy(\"valid\", svc))"
   ]
  },
  {
   "cell_type": "code",
   "execution_count": 16,
   "metadata": {},
   "outputs": [
    {
     "name": "stdout",
     "output_type": "stream",
     "text": [
      "0.9198501872659176\n"
     ]
    }
   ],
   "source": [
    "# SGD\n",
    "from sklearn.linear_model import SGDClassifier\n",
    "\n",
    "sgdc = SGDClassifier().fit(x, y)\n",
    "print(calc_accuracy(\"valid\", sgdc))"
   ]
  },
  {
   "cell_type": "code",
   "execution_count": 17,
   "metadata": {},
   "outputs": [
    {
     "name": "stdout",
     "output_type": "stream",
     "text": [
      "0.8119850187265918\n"
     ]
    }
   ],
   "source": [
    "# tree\n",
    "from sklearn import tree\n",
    "\n",
    "dtc = tree.DecisionTreeClassifier().fit(x, y)\n",
    "print(calc_accuracy(\"valid\", dtc))"
   ]
  },
  {
   "cell_type": "code",
   "execution_count": 26,
   "metadata": {},
   "outputs": [
    {
     "name": "stdout",
     "output_type": "stream",
     "text": [
      "0.9250936329588015\n"
     ]
    }
   ],
   "source": [
    "# neural net\n",
    "from sklearn.neural_network import MLPClassifier\n",
    "from sklearn.metrics import accuracy_score\n",
    "\n",
    "mlp = MLPClassifier().fit(x, y)\n",
    "print(calc_accuracy(\"valid\", mlp))"
   ]
  },
  {
   "cell_type": "code",
   "execution_count": 15,
   "metadata": {},
   "outputs": [],
   "source": [
    "import matplotlib.pyplot as plt\n",
    "\n",
    "def draw_graph(model, file):\n",
    "    plt.xlabel('C pamameters')\n",
    "    plt.ylabel('accuracy')\n",
    "    params = np.arange(0.25, 3.25, 0.25)\n",
    "\n",
    "    accuracys = []\n",
    "    for param in params:\n",
    "        x, y = extract_feature(\"train\")\n",
    "        trained_model = model(C=param).fit(x, y)\n",
    "        accuracy = calc_accuracy(file, trained_model)\n",
    "        accuracys.append(accuracy)\n",
    "    \n",
    "    plt.plot(params, accuracys, label=file)\n",
    "    plt.legend()"
   ]
  },
  {
   "cell_type": "code",
   "execution_count": 50,
   "metadata": {},
   "outputs": [
    {
     "data": {
      "image/png": "[encoded data removed]",
      "text/plain": [
       "<Figure size 432x288 with 1 Axes>"
      ]
     },
     "metadata": {
      "needs_background": "light"
     },
     "output_type": "display_data"
    }
   ],
   "source": [
    "draw_graph(LinearSVC, \"test\")"
   ]
  },
  {
   "cell_type": "code",
   "execution_count": null,
   "metadata": {},
   "outputs": [],
   "source": []
  }
 ],
 "metadata": {
  "kernelspec": {
   "display_name": "Python 3",
   "language": "python",
   "name": "python3"
  },
  "language_info": {
   "codemirror_mode": {
    "name": "ipython",
    "version": 3
   },
   "file_extension": ".py",
   "mimetype": "text/x-python",
   "name": "python",
   "nbconvert_exporter": "python",
   "pygments_lexer": "ipython3",
   "version": "3.7.7"
  }
 },
 "nbformat": 4,
 "nbformat_minor": 4
}
