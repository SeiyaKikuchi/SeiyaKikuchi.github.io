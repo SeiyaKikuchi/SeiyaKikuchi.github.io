{
 "cells": [
  {
   "cell_type": "markdown",
   "metadata": {},
   "source": [
    "### 第3章: 正規表現\n",
    " On this page\n",
    "20.JSONデータの読み込み\n",
    "21.カテゴリ名を含む行を抽出\n",
    "22.カテゴリ名の抽出\n",
    "23.セクション構造\n",
    "24.ファイル参照の抽出\n",
    "25.テンプレートの抽出\n",
    "26.強調マークアップの除去\n",
    "27.内部リンクの除去\n",
    "28.MediaWikiマークアップの除去\n",
    "29.国旗画像のURLを取得する\n",
    "Wikipediaの記事を以下のフォーマットで書き出したファイルjawiki-country.json.gzがある．\n",
    "\n",
    "1行に1記事の情報がJSON形式で格納される\n",
    "各行には記事名が”title”キーに，記事本文が”text”キーの辞書オブジェクトに格納され，そのオブジェクトがJSON形式で書き出される\n",
    "ファイル全体はgzipで圧縮される\n",
    "以下の処理を行うプログラムを作成せよ．"
   ]
  },
  {
   "cell_type": "markdown",
   "metadata": {},
   "source": [
    "### 20.JSONデータの読み込み\n",
    "Wikipedia記事のJSONファイルを読み込み，「イギリス」に関する記事本文を表示せよ．問題21-29では，ここで抽出した記事本文に対して実行せよ．"
   ]
  },
  {
   "cell_type": "code",
   "execution_count": 2,
   "metadata": {},
   "outputs": [],
   "source": [
    "path = '/Users/seiya.k/workspace/100knock-2020/SeiyaKikuchi/chapter03/jawiki-country.json.gz'"
   ]
  },
  {
   "cell_type": "markdown",
   "metadata": {},
   "source": [
    "[[Category:イギリス|*]]\n",
    "[[Category:イギリス連邦加盟国]]\n",
    "[[Category:英連邦王国|*]]\n",
    "[[Category:G8加盟国]]\n",
    "[[Category:欧州連合加盟国|元]]\n",
    "[[Category:海洋国家]]\n",
    "[[Category:現存する君主国]]\n",
    "[[Category:島国]]\n",
    "[[Category:1801年に成立した国家・領域]]"
   ]
  },
  {
   "cell_type": "code",
   "execution_count": 3,
   "metadata": {},
   "outputs": [
    {
     "name": "stdout",
     "output_type": "stream",
     "text": [
      "{{redirect|UK}}\n",
      "{{redirect|英国|春秋時代の諸侯国|英 (春秋)}}\n",
      "{{Otheruses|ヨーロッパの国|長崎県・熊本県の郷土料理|いぎりす}}\n",
      "{{基礎情報 国\n",
      "|略名  =イギリス\n",
      "|日本語国名 = グレートブリテン及び北アイルランド連合王国\n",
      "|公式国名 = {{lang|en|United Kingdom of Great Britain and Northern Ireland}}<ref>英語以外での正式国名:<br />\n",
      "*{{lang|gd|An Rìoghachd Aonaichte na Breatainn Mhòr agus Eirinn mu Thuath}}（[[スコットランド・ゲール語]]）\n",
      "*{{lang|cy|Teyrnas Gyfunol Prydain Fawr a Gogledd Iwerddon}}（[[ウェールズ語]]）\n",
      "*{{lang|ga|Ríocht Aontaithe na Breataine Móire agus Tuaisceart na hÉireann}}（[[アイルランド語]]）\n"
     ]
    }
   ],
   "source": [
    "import json\n",
    "import gzip\n",
    "with gzip.open(path) as f, open('article_UK', mode='w') as new_f:\n",
    "    for l in f:\n",
    "        l_loaded = json.loads(l)\n",
    "        if l_loaded['title']=='イギリス':\n",
    "            new_f.write(l_loaded['text'])\n",
    "            #1行だけでUKに関する記事が全てwriteされるので、ここでbreakする方がエレガント\n",
    "!head 'article_UK'"
   ]
  },
  {
   "cell_type": "markdown",
   "metadata": {},
   "source": [
    "### ログ\n",
    "pep8に従うと、open(path, mode='w')のmodeの両端はスペースを入れない  \n",
    "ネットからデータセットを得たときは、コマンドラインで内容を確認しておくべし  \n",
    "ex)  \n",
    "!head -c で、バイト数基準で開く(1行に大変な量のデータがつまってるかもなので、バイト数基準で開け) \n",
    "json_keys() : jsonファイルの構造を教えてくれるコード"
   ]
  },
  {
   "cell_type": "markdown",
   "metadata": {},
   "source": [
    "### 21.カテゴリ名を含む行を抽出\n",
    "記事中でカテゴリ名を宣言している行を抽出せよ．"
   ]
  },
  {
   "cell_type": "code",
   "execution_count": 4,
   "metadata": {},
   "outputs": [],
   "source": [
    "article_UK = '/Users/seiya.k/workspace/100knock-2020/SeiyaKikuchi/chapter03/article_UK'"
   ]
  },
  {
   "cell_type": "code",
   "execution_count": 5,
   "metadata": {},
   "outputs": [
    {
     "data": {
      "text/plain": [
       "['[[Category:イギリス|*]]',\n",
       " '[[Category:イギリス連邦加盟国]]',\n",
       " '[[Category:英連邦王国|*]]',\n",
       " '[[Category:G8加盟国]]',\n",
       " '[[Category:欧州連合加盟国|元]]',\n",
       " '[[Category:海洋国家]]',\n",
       " '[[Category:現存する君主国]]',\n",
       " '[[Category:島国]]',\n",
       " '[[Category:1801年に成立した国家・領域]]']"
      ]
     },
     "execution_count": 5,
     "metadata": {},
     "output_type": "execute_result"
    }
   ],
   "source": [
    "import re\n",
    "with open(article_UK) as f:\n",
    "    # 巨大なfileをreadするとき、readは使いたくない\n",
    "    # でも、findallを使うには文字列にしなきゃいけない...\n",
    "    # やっぱりre.searchを使う方がいいかもね\n",
    "    article = f.read()\n",
    "    category_names = re.findall(r'\\[\\[Category:.*\\]\\]', article)\n",
    "[n for n in category_names]"
   ]
  },
  {
   "cell_type": "markdown",
   "metadata": {},
   "source": [
    "### 正規表現をコンパイルして、オブジェクトにして持っておく利点\n",
    "いちいち正規表現にマッチするかどうかを問い合わせる必要がなくなるから、処理が軽くなる  \n",
    "しかしコードの行数は多くなる"
   ]
  },
  {
   "cell_type": "markdown",
   "metadata": {},
   "source": [
    "### 便利な文字列メソッド startswith を使う"
   ]
  },
  {
   "cell_type": "code",
   "execution_count": null,
   "metadata": {},
   "outputs": [],
   "source": []
  },
  {
   "cell_type": "markdown",
   "metadata": {},
   "source": [
    "### 正規表現を使わないで済ませたい"
   ]
  },
  {
   "cell_type": "code",
   "execution_count": 6,
   "metadata": {},
   "outputs": [
    {
     "ename": "SyntaxError",
     "evalue": "unexpected EOF while parsing (<ipython-input-6-3989c8567959>, line 1)",
     "output_type": "error",
     "traceback": [
      "\u001b[0;36m  File \u001b[0;32m\"<ipython-input-6-3989c8567959>\"\u001b[0;36m, line \u001b[0;32m1\u001b[0m\n\u001b[0;31m    if '[Category' in line:\u001b[0m\n\u001b[0m                           ^\u001b[0m\n\u001b[0;31mSyntaxError\u001b[0m\u001b[0;31m:\u001b[0m unexpected EOF while parsing\n"
     ]
    }
   ],
   "source": [
    "if '[Category' in line:"
   ]
  },
  {
   "cell_type": "markdown",
   "metadata": {},
   "source": [
    "### 22.カテゴリ名の抽出\n",
    "記事のカテゴリ名を（行単位ではなく名前で）抽出せよ．"
   ]
  },
  {
   "cell_type": "code",
   "execution_count": 7,
   "metadata": {},
   "outputs": [
    {
     "data": {
      "text/plain": [
       "['イギリス|*',\n",
       " 'イギリス連邦加盟国',\n",
       " '英連邦王国|*',\n",
       " 'G8加盟国',\n",
       " '欧州連合加盟国|元',\n",
       " '海洋国家',\n",
       " '現存する君主国',\n",
       " '島国',\n",
       " '1801年に成立した国家・領域']"
      ]
     },
     "execution_count": 7,
     "metadata": {},
     "output_type": "execute_result"
    }
   ],
   "source": [
    "import re\n",
    "with open(article_UK) as f:\n",
    "    article = f.read()\n",
    "    category_names = re.findall(r'\\[\\[Category:(.*)\\]\\]', article)\n",
    "[n for n in category_names]"
   ]
  },
  {
   "cell_type": "markdown",
   "metadata": {},
   "source": [
    "### グループのネーミング\n",
    "グループに名前を付けておくとコードの可読性上昇  \n",
    "[Category:(< category >.*)]"
   ]
  },
  {
   "cell_type": "markdown",
   "metadata": {},
   "source": [
    "### wikiの公式ドキュメントからmarkupの規則を確認すること\n",
    "例えば[カテゴリ：カテゴリ名]という表記も公式では許されている、という盲点  \n",
    "やり直しだっ!!"
   ]
  },
  {
   "cell_type": "code",
   "execution_count": null,
   "metadata": {},
   "outputs": [],
   "source": []
  },
  {
   "cell_type": "markdown",
   "metadata": {},
   "source": [
    "### 23.セクション構造\n",
    "記事中に含まれるセクション名とそのレベル（例えば”== セクション名 ==”なら1）を表示せよ．"
   ]
  },
  {
   "cell_type": "code",
   "execution_count": 8,
   "metadata": {},
   "outputs": [
    {
     "name": "stdout",
     "output_type": "stream",
     "text": [
      "国名:1\n",
      "歴史:1\n",
      "地理:1\n",
      "主要都市:2\n",
      "気候:2\n",
      "政治:1\n",
      "元首:2\n",
      "法:2\n",
      "内政:2\n",
      "地方行政区分:2\n",
      "外交・軍事:2\n",
      "経済:1\n",
      "鉱業:2\n",
      "農業:2\n",
      "貿易:2\n",
      "不動産:2\n",
      "エネルギー政策:2\n",
      "通貨:2\n",
      "企業:2\n",
      "通信:3\n",
      "交通:1\n",
      "道路:2\n",
      "鉄道:2\n",
      "海運:2\n",
      "航空:2\n",
      "科学技術:1\n",
      "国民:1\n",
      "言語:2\n",
      "宗教:2\n",
      "婚姻:2\n",
      "移住:2\n",
      "教育:2\n",
      "医療:2\n",
      "文化:1\n",
      "食文化:2\n",
      "文学:2\n",
      "哲学:2\n",
      "音楽:2\n",
      "ポピュラー音楽:3\n",
      "映画:2\n",
      "コメディ:2\n",
      "国花:2\n",
      "世界遺産:2\n",
      "祝祭日:2\n",
      "スポーツ:2\n",
      "サッカー:3\n",
      "クリケット:3\n",
      "競馬:3\n",
      "モータースポーツ:3\n",
      "野球:3\n",
      " カーリング :3\n",
      " 自転車競技 :3\n",
      "脚注:1\n",
      "関連項目:1\n",
      "外部リンク:1\n"
     ]
    }
   ],
   "source": [
    "import re\n",
    "with open(article_UK) as f:\n",
    "    article = f.read()\n",
    "    section_names = re.findall(r'(={2,4})([^=]*)={2,4}', article)\n",
    "for n in section_names:\n",
    "    print(f'{n[1]}:{len(n[0])-1}')"
   ]
  },
  {
   "cell_type": "markdown",
   "metadata": {},
   "source": [
    "### 24.ファイル参照の抽出\n",
    "記事から参照されているメディアファイルをすべて抜き出せ．"
   ]
  },
  {
   "cell_type": "code",
   "execution_count": 9,
   "metadata": {},
   "outputs": [
    {
     "data": {
      "text/plain": [
       "['Royal Coat of Arms of the United Kingdom.svg',\n",
       " 'Descriptio Prime Tabulae Europae.jpg',\n",
       " \"Lenepveu, Jeanne d'Arc au siège d'Orléans.jpg\",\n",
       " 'London.bankofengland.arp.jpg',\n",
       " 'Battle of Waterloo 1815.PNG',\n",
       " 'Uk topo en.jpg',\n",
       " 'BenNevis2005.jpg',\n",
       " 'Population density UK 2011 census.png',\n",
       " '2019 Greenwich Peninsula & Canary Wharf.jpg',\n",
       " 'Birmingham Skyline from Edgbaston Cricket Ground crop.jpg']"
      ]
     },
     "execution_count": 9,
     "metadata": {},
     "output_type": "execute_result"
    }
   ],
   "source": [
    "#fileへのlinkの記法　--> [[:File:Example.jpg]]　または　[[ファイル:tst.png]]\n",
    "import re\n",
    "with open(article_UK) as f:\n",
    "    article = f.read()\n",
    "    fname_pattern = re.compile(r'File|ファイル:([^\\[\\]]*?)\\|')\n",
    "    file_names = re.findall(fname_pattern, article)\n",
    "[n for n in file_names][:10]"
   ]
  },
  {
   "cell_type": "markdown",
   "metadata": {},
   "source": [
    "#### 拡張子を手掛かりに...\n",
    "#### ゼロ幅マッチ\n",
    "#### finditerの利用"
   ]
  },
  {
   "cell_type": "markdown",
   "metadata": {},
   "source": [
    "### 25.テンプレートの抽出\n",
    "# findallを使わず書き直し\n",
    "記事中に含まれる「基礎情報」テンプレートのフィールド名と値を抽出し，辞書オブジェクトとして格納せよ．"
   ]
  },
  {
   "cell_type": "code",
   "execution_count": 10,
   "metadata": {},
   "outputs": [],
   "source": [
    "import pickle\n",
    "def pickle_dump(obj, path):\n",
    "    with open(path, mode='wb') as f:\n",
    "        pickle.dump(obj,f)\n",
    "\n",
    "def pickle_load(path):\n",
    "    with open(path, mode='rb') as f:\n",
    "        data = pickle.load(f)\n",
    "        return data"
   ]
  },
  {
   "cell_type": "code",
   "execution_count": 11,
   "metadata": {},
   "outputs": [
    {
     "data": {
      "text/plain": [
       "[('略名', 'イギリス'),\n",
       " ('日本語国名', 'グレートブリテン及び北アイルランド連合王国'),\n",
       " ('公式国名',\n",
       "  '{{lang|en|United Kingdom of Great Britain and Northern Ireland}}<ref>英語以外での正式国名:<br />\\n*{{lang|gd|An Rìoghachd Aonaichte na Breatainn Mhòr agus Eirinn mu Thuath}}（[[スコットランド・ゲール語]]）\\n*{{lang|cy|Teyrnas Gyfunol Prydain Fawr a Gogledd Iwerddon}}（[[ウェールズ語]]）\\n*{{lang|ga|Ríocht Aontaithe na Breataine Móire agus Tuaisceart na hÉireann}}（[[アイルランド語]]）\\n*{{lang|kw|An Rywvaneth Unys a Vreten Veur hag Iwerdhon Glédh}}（[[コーンウォール語]]）\\n*{{lang|sco|Unitit Kinrick o Great Breetain an Northren Ireland}}（[[スコットランド語]]）\\n**{{lang|sco|Claught Kängrick o Docht Brätain an Norlin Airlann}}、{{lang|sco|Unitet Kängdom o Great Brittain an Norlin Airlann}}（アルスター・スコットランド語）</ref>'),\n",
       " ('国旗画像', 'Flag of the United Kingdom.svg'),\n",
       " ('国章画像',\n",
       "  '[[ファイル:Royal Coat of Arms of the United Kingdom.svg|85px|イギリスの国章]]')]"
      ]
     },
     "execution_count": 11,
     "metadata": {},
     "output_type": "execute_result"
    }
   ],
   "source": [
    "import re\n",
    "with open(article_UK) as f:\n",
    "    article = f.read()\n",
    "\n",
    "    temp_pattern = re.compile(r'^\\{\\{基礎情報 国\\n\\|(.*?)^\\}\\}$', re.MULTILINE+re.DOTALL)\n",
    "    temp = re.findall(temp_pattern, article)[0]\n",
    "    \n",
    "    field_dict = dict()\n",
    "    for field in temp.split(\"\\n|\"):\n",
    "        #print(field)\n",
    "        field = '\\|' + field\n",
    "        field_pattern = re.compile(r'\\|(.*?)=(.*)', re.DOTALL)\n",
    "        fields = re.findall(field_pattern, field)\n",
    "        field_dict[fields[0][0].strip()] = fields[0][1].strip()\n",
    "    pickle_dump(field_dict, 'dict_Q25')\n",
    "[d for d in field_dict.items()][:5]"
   ]
  },
  {
   "cell_type": "markdown",
   "metadata": {},
   "source": [
    "### 公式国名フィールドは複数行に渡っているため、\\nをフィールド間の区切りにしてはいけない...。しかし正規表現に組み込むと次の行の処理に差し支える。ダメだ...やっぱりre.match使うしかないか...。"
   ]
  },
  {
   "cell_type": "markdown",
   "metadata": {},
   "source": [
    "### 26.強調マークアップの除去\n",
    "25の処理時に，テンプレートの値からMediaWikiの強調マークアップ（弱い強調，強調，強い強調のすべて）を除去してテキストに変換せよ（参考: マークアップ早見表）．"
   ]
  },
  {
   "cell_type": "code",
   "execution_count": 12,
   "metadata": {},
   "outputs": [],
   "source": [
    "dict_Q25 = \"/Users/seiya.k/workspace/100knock-2020/SeiyaKikuchi/chapter03/dict_Q25\""
   ]
  },
  {
   "cell_type": "code",
   "execution_count": 13,
   "metadata": {},
   "outputs": [
    {
     "data": {
      "text/plain": [
       "('国歌',\n",
       " '[[女王陛下万歳|{{lang|en|God Save the Queen}}]]{{en icon}}<br />神よ女王を護り賜え<br />{{center|[[ファイル:United States Navy Band - God Save the Queen.ogg]]}}')"
      ]
     },
     "execution_count": 13,
     "metadata": {},
     "output_type": "execute_result"
    }
   ],
   "source": [
    "import re\n",
    "dic = pickle_load(dict_Q25)\n",
    "\n",
    "for k, v in dic.items():\n",
    "    dic[k] = re.sub('\\'{2,3}|\\'{5}', '', v)\n",
    "pickle_dump(dic, 'dict_Q26')\n",
    "[d for d in dic.items()][7]"
   ]
  },
  {
   "cell_type": "markdown",
   "metadata": {},
   "source": [
    "##### itertoolsの便利ツールの内容を大体知っておくこと"
   ]
  },
  {
   "cell_type": "markdown",
   "metadata": {},
   "source": [
    "# 27.内部リンクの除去\n",
    "26の処理に加えて，テンプレートの値からMediaWikiの内部リンクマークアップを除去し，テキストに変換せよ（参考: マークアップ早見表）．"
   ]
  },
  {
   "cell_type": "code",
   "execution_count": 14,
   "metadata": {},
   "outputs": [],
   "source": [
    "dict_Q26 = \"/Users/seiya.k/workspace/100knock-2020/SeiyaKikuchi/chapter03/dict_Q26\""
   ]
  },
  {
   "cell_type": "code",
   "execution_count": 15,
   "metadata": {},
   "outputs": [
    {
     "data": {
      "text/plain": [
       "[('公用語', '英語'),\n",
       " ('首都', 'ロンドン（事実上）'),\n",
       " ('最大都市', 'ロンドン'),\n",
       " ('元首等肩書', 'イギリスの君主女王'),\n",
       " ('元首等氏名', 'エリザベス2世'),\n",
       " ('首相等肩書', 'イギリスの首相首相'),\n",
       " ('首相等氏名', 'ボリス・ジョンソン'),\n",
       " ('他元首等肩書1', '貴族院 (イギリス)貴族院議長'),\n",
       " ('他元首等氏名1', ':en:Norman Fowler, Baron Fowlerノーマン・ファウラー'),\n",
       " ('他元首等肩書2', '庶民院 (イギリス)庶民院議長')]"
      ]
     },
     "execution_count": 15,
     "metadata": {},
     "output_type": "execute_result"
    }
   ],
   "source": [
    "import re\n",
    "dic = pickle_load(dict_Q26)\n",
    "\n",
    "for k, v in dic.items():\n",
    "    inner_link_markup = re.compile('\\[\\[([^\\#^\\|]*?)\\#??([^|^#]*?)\\|??([^|]*?)\\]\\]')\n",
    "    dic[k] = re.sub(inner_link_markup, r'\\1\\2\\3', v)\n",
    "\n",
    "pickle_dump(dic, 'dict_Q27')\n",
    "[d for d in dic.items()][10:20]"
   ]
  },
  {
   "cell_type": "markdown",
   "metadata": {},
   "source": [
    "startswithを使えばファイルmarkupと区別して削除できる  \n",
    "否定的先読みを使用しても良い"
   ]
  },
  {
   "cell_type": "markdown",
   "metadata": {},
   "source": [
    "def remove_link(text:str)->str:  \n",
    "関数の頭で入力値と戻り値を明示的に示すと可読性高い。型が一致していないとエラーが出る...とかはしてくれないので、人間のための記述"
   ]
  },
  {
   "cell_type": "markdown",
   "metadata": {},
   "source": [
    "# 28.MediaWikiマークアップの除去\n",
    "27の処理に加えて，テンプレートの値からMediaWikiマークアップを可能な限り除去し，国の基本情報を整形せよ．"
   ]
  },
  {
   "cell_type": "code",
   "execution_count": 16,
   "metadata": {},
   "outputs": [],
   "source": [
    "dict_Q27 = \"/Users/seiya.k/workspace/100knock-2020/SeiyaKikuchi/chapter03/dict_Q27\""
   ]
  },
  {
   "cell_type": "code",
   "execution_count": 17,
   "metadata": {},
   "outputs": [
    {
     "data": {
      "text/plain": [
       "[('略名', 'イギリス'),\n",
       " ('日本語国名', 'グレートブリテン及び北アイルランド連合王国'),\n",
       " ('公式国名',\n",
       "  'United Kingdom of Great Britain and Northern Ireland英語以外での正式国名:\\n*An Rìoghachd Aonaichte na Breatainn Mhòr agus Eirinn mu Thuath（スコットランド・ゲール語）\\n*Teyrnas Gyfunol Prydain Fawr a Gogledd Iwerddon（ウェールズ語）\\n*Ríocht Aontaithe na Breataine Móire agus Tuaisceart na hÉireann（アイルランド語）\\n*An Rywvaneth Unys a Vreten Veur hag Iwerdhon Glédh（コーンウォール語）\\n*Unitit Kinrick o Great Breetain an Northren Ireland（スコットランド語）\\n**Claught Kängrick o Docht Brätain an Norlin Airlann、Unitet Kängdom o Great Brittain an Norlin Airlann（アルスター・スコットランド語）'),\n",
       " ('国旗画像', 'Flag of the United Kingdom.svg'),\n",
       " ('国章画像',\n",
       "  '[[ファイル:Royal Coat of Arms of the United Kingdom.svg|85px|イギリスの国章]]'),\n",
       " ('国章リンク', '（イギリスの国章国章）'),\n",
       " ('標語', 'Dieu et mon droit（フランス語:Dieu et mon droit神と我が権利）'),\n",
       " ('国歌',\n",
       "  '[[女王陛下万歳|God Save the Queen]]en icon神よ女王を護り賜えcenter|ファイル:United States Navy Band - God Save the Queen.ogg'),\n",
       " ('地図画像', 'Europe-UK.svg'),\n",
       " ('位置画像',\n",
       "  'United Kingdom (+overseas territories) in the World (+Antarctica claims).svg'),\n",
       " ('公用語', '英語'),\n",
       " ('首都', 'ロンドン（事実上）'),\n",
       " ('最大都市', 'ロンドン'),\n",
       " ('元首等肩書', 'イギリスの君主女王'),\n",
       " ('元首等氏名', 'エリザベス2世'),\n",
       " ('首相等肩書', 'イギリスの首相首相'),\n",
       " ('首相等氏名', 'ボリス・ジョンソン'),\n",
       " ('他元首等肩書1', '貴族院 (イギリス)貴族院議長'),\n",
       " ('他元首等氏名1', ':en:Norman Fowler, Baron Fowlerノーマン・ファウラー'),\n",
       " ('他元首等肩書2', '庶民院 (イギリス)庶民院議長'),\n",
       " ('他元首等氏名2', '仮リンク|リンゼイ・ホイル|en|Lindsay Hoyle'),\n",
       " ('他元首等肩書3', '連合王国最高裁判所最高裁判所長官'),\n",
       " ('他元首等氏名3', ':en:Brenda Hale, Baroness Hale of Richmondブレンダ・ヘイル'),\n",
       " ('面積順位', '76'),\n",
       " ('面積大きさ', '1 E11'),\n",
       " ('面積値', '244,820'),\n",
       " ('水面積率', '1.3%'),\n",
       " ('人口統計年', '2018'),\n",
       " ('人口順位', '22'),\n",
       " ('人口大きさ', '1 E7'),\n",
       " ('人口値',\n",
       "  '6643万5600Cite web|url=https://www.ons.gov.uk/peoplepopulationandcommunity/populationandmigration/populationestimates|title=Population estimates - Office for National Statistics|accessdate=2019-06-26|date=2019-06-26'),\n",
       " ('人口密度値', '271'),\n",
       " ('GDP統計年元', '2012'),\n",
       " ('GDP値元',\n",
       "  '1兆5478億http://www.imf.org/external/pubs/ft/weo/2012/02/weodata/weorept.aspx?pr.x=70&pr.y=13&sy=2010&ey=2012&scsm=1&ssd=1&sort=country&ds=.&br=1&c=112&s=NGDP%2CNGDPD%2CPPPGDP%2CPPPPC&grp=0&a=IMF>Data and Statistics>World Economic Outlook Databases>By Countrise>United Kingdom'),\n",
       " ('GDP統計年MER', '2012'),\n",
       " ('GDP順位MER', '6'),\n",
       " ('GDP値MER', '2兆4337億'),\n",
       " ('GDP統計年', '2012'),\n",
       " ('GDP順位', '6'),\n",
       " ('GDP値', '2兆3162億'),\n",
       " ('GDP/人', '36,727'),\n",
       " ('建国形態', '建国'),\n",
       " ('確立形態1', 'イングランド王国／スコットランド王国（両国とも合同法 (1707年)1707年合同法まで）'),\n",
       " ('確立年月日1', '927年／843年'),\n",
       " ('確立形態2', 'グレートブリテン王国成立（1707年合同法）'),\n",
       " ('確立年月日2', '1707年05月01日'),\n",
       " ('確立形態3', 'グレートブリテン及びアイルランド連合王国成立（合同法 (1800年)1800年合同法）'),\n",
       " ('確立年月日3', '1801年01月01日'),\n",
       " ('確立形態4', '現在の国号「グレートブリテン及び北アイルランド連合王国」に変更'),\n",
       " ('確立年月日4', '1927年04月12日'),\n",
       " ('通貨', 'スターリング・ポンドUKポンド (£)'),\n",
       " ('通貨コード', 'GBP'),\n",
       " ('時間帯', '±0'),\n",
       " ('夏時間', '+1'),\n",
       " ('ISO 3166-1', 'GB / GBR'),\n",
       " ('ccTLD', '.uk / .gb使用は.ukに比べ圧倒的少数。'),\n",
       " ('国際電話番号', '44'),\n",
       " ('注記', '<references/>')]"
      ]
     },
     "execution_count": 17,
     "metadata": {},
     "output_type": "execute_result"
    }
   ],
   "source": [
    "import re\n",
    "dic = pickle_load(dict_Q27)\n",
    "\n",
    "for k, v in dic.items():\n",
    "    #外部リンク\n",
    "    outer_link_markup = re.compile('\\[(http:.*?)\\]')\n",
    "    v = re.sub(outer_link_markup, r'\\1', v)\n",
    "    \n",
    "    #脚注\n",
    "    #1つ目と3つ目の正規表現の処理がかぶっている\n",
    "    #目についたものから処理していくと機能がかぶるから、コード全体を見渡す気構えが必要\n",
    "    ref_markup = re.compile('<ref>')\n",
    "    v = re.sub(ref_markup, r'', v)\n",
    "    ref_front_markup = re.compile('<\\/ref>')\n",
    "    v = re.sub(ref_front_markup, r'', v)\n",
    "    ref_middle_markup = re.compile('<ref .*?>')\n",
    "    v = re.sub(ref_middle_markup, r'', v)\n",
    "    \n",
    "    #改行タグ\n",
    "    br_tag = re.compile('<br \\/>')\n",
    "    v = re.sub(br_tag, r'', v)\n",
    "    \n",
    "    #言語テンプレート\n",
    "    lang_temp = re.compile('\\{\\{lang\\|.*?\\|(.*?)\\}\\}')\n",
    "    v = re.sub(lang_temp, r'\\1', v)\n",
    "    \n",
    "    #引用テンプレート\n",
    "    cite_temp = re.compile('\\{\\{(.*?)\\}\\}', re.DOTALL)\n",
    "    v = re.sub(cite_temp, r'\\1', v)\n",
    "    \n",
    "    #_markup = re.compile('')\n",
    "    #v = re.sub(_markup, r'', v)\n",
    "    \n",
    "    dic[k] = v\n",
    "\n",
    "pickle_dump(dic, 'dict_Q28')\n",
    "[d for d in dic.items()]"
   ]
  },
  {
   "cell_type": "markdown",
   "metadata": {},
   "source": [
    "### compileはfor文の外でやりましょう"
   ]
  },
  {
   "cell_type": "markdown",
   "metadata": {},
   "source": [
    "# 29.国旗画像のURLを取得する\n",
    "テンプレートの内容を利用し，国旗画像のURLを取得せよ．（ヒント: MediaWiki APIのimageinfoを呼び出して，ファイル参照をURLに変換すればよい）"
   ]
  },
  {
   "cell_type": "code",
   "execution_count": 18,
   "metadata": {},
   "outputs": [],
   "source": [
    "dict_Q28 = \"/Users/seiya.k/workspace/100knock-2020/SeiyaKikuchi/chapter03/dict_Q28\""
   ]
  },
  {
   "cell_type": "code",
   "execution_count": 23,
   "metadata": {},
   "outputs": [
    {
     "name": "stdout",
     "output_type": "stream",
     "text": [
      "{'continue': {'iistart': '2019-09-10T16:52:58Z', 'continue': '||'}, 'query': {'pages': {'-1': {'ns': 6, 'title': 'File:Flag of the United Kingdom.svg', 'missing': '', 'known': '', 'imagerepository': 'shared', 'imageinfo': [{'url': 'https://upload.wikimedia.org/wikipedia/commons/a/ae/Flag_of_the_United_Kingdom.svg', 'descriptionurl': 'https://commons.wikimedia.org/wiki/File:Flag_of_the_United_Kingdom.svg', 'descriptionshorturl': 'https://commons.wikimedia.org/w/index.php?curid=347935'}]}}}}\n",
      "https://upload.wikimedia.org/wikipedia/commons/a/ae/Flag_of_the_United_Kingdom.svg\n"
     ]
    }
   ],
   "source": [
    "import json\n",
    "import urllib.parse\n",
    "import urllib.request\n",
    "\n",
    "dic = pickle_load(dict_Q28)\n",
    "\n",
    "request_url=\"https://www.mediawiki.org/w/api.php?\"\\\n",
    "            + 'action=query'\\\n",
    "            + '&titles=File:' + urllib.parse.quote(dic['国旗画像'])\\\n",
    "            + '&format=json'\\\n",
    "            + '&prop=imageinfo'\\\n",
    "            + '&iiprop=url'\n",
    "response=urllib.request.urlopen(request_url)\n",
    "response_data=json.loads(response.read())\n",
    "url=response_data['query']['pages']['-1']['imageinfo'][0]['url']\n",
    "print(url)"
   ]
  },
  {
   "cell_type": "markdown",
   "metadata": {},
   "source": [
    "### 尾中くんのコードを手本に書き直せオラ!!\n",
    "いろいろ甘い...so sweetだ"
   ]
  },
  {
   "cell_type": "markdown",
   "metadata": {},
   "source": [
    "assert文を使ってみなさい"
   ]
  },
  {
   "cell_type": "markdown",
   "metadata": {},
   "source": [
    "オブジェクト志向で頑張り、実際の処理は関数をlistにして順に適用する(=>t_takahashiさんを参考に)"
   ]
  }
 ],
 "metadata": {
  "kernelspec": {
   "display_name": "Python 3",
   "language": "python",
   "name": "python3"
  },
  "language_info": {
   "codemirror_mode": {
    "name": "ipython",
    "version": 3
   },
   "file_extension": ".py",
   "mimetype": "text/x-python",
   "name": "python",
   "nbconvert_exporter": "python",
   "pygments_lexer": "ipython3",
   "version": "3.7.7"
  }
 },
 "nbformat": 4,
 "nbformat_minor": 4
}
